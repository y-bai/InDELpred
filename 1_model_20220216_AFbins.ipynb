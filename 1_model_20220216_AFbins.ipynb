{
 "cells": [
  {
   "cell_type": "code",
   "execution_count": 1,
   "metadata": {},
   "outputs": [],
   "source": [
    "import pandas as pd\n",
    "import numpy as np"
   ]
  },
  {
   "cell_type": "code",
   "execution_count": 2,
   "metadata": {},
   "outputs": [],
   "source": [
    "import pickle\n",
    "def save_data(data, outfile):\n",
    "    with open(outfile, 'wb') as outf:\n",
    "        pickle.dump(data, outf)\n",
    "\n",
    "def load_data(infile):\n",
    "    with open(infile, 'rb') as inf:\n",
    "        data = pickle.load(inf)\n",
    "    return data"
   ]
  },
  {
   "cell_type": "code",
   "execution_count": 3,
   "metadata": {},
   "outputs": [],
   "source": [
    "x_train,y_train=load_data('train_data.pkl')\n",
    "x_test1,y_test1,test1_star=load_data('test1_data.pkl')\n",
    "x_test2,y_test2,test2_lab=load_data('test2_data.pkl')"
   ]
  },
  {
   "cell_type": "markdown",
   "metadata": {},
   "source": [
    "### AF make bin"
   ]
  },
  {
   "cell_type": "code",
   "execution_count": 20,
   "metadata": {},
   "outputs": [],
   "source": [
    "af_cut_off=0.01\n",
    "x_train.loc[x_train['gnomad_genome_controls_AF_popmax']>af_cut_off,'AF']=0\n",
    "x_train.loc[x_train['gnomad_genome_controls_AF_popmax']<=af_cut_off'AF']=1\n",
    "x_test1.loc[x_test1['gnomad_genome_controls_AF_popmax']>af_cut_off,'AF']=0\n",
    "x_test1.loc[x_test1['gnomad_genome_controls_AF_popmax']<=af_cut_off,'AF']=1\n",
    "x_test2.loc[x_test2['gnomad_genome_controls_AF_popmax']>af_cut_off,'AF']=0\n",
    "x_test2.loc[x_test2['gnomad_genome_controls_AF_popmax']<=af_cut_off,'AF']=1"
   ]
  },
  {
   "cell_type": "code",
   "execution_count": 21,
   "metadata": {},
   "outputs": [],
   "source": [
    "x_train = x_train.drop(['gnomad_genome_controls_AF_popmax'], axis=1) \n",
    "x_test1 = x_test1.drop(['gnomad_genome_controls_AF_popmax'], axis=1) \n",
    "x_test2 = x_test2.drop(['gnomad_genome_controls_AF_popmax'], axis=1) "
   ]
  },
  {
   "cell_type": "code",
   "execution_count": 22,
   "metadata": {},
   "outputs": [
    {
     "data": {
      "text/plain": [
       "(0.9948149520510194, 0.9950501354322498, 0.9585408600478593)"
      ]
     },
     "execution_count": 22,
     "metadata": {},
     "output_type": "execute_result"
    }
   ],
   "source": [
    "from sklearn.metrics import roc_curve, auc\n",
    "from sklearn.model_selection import train_test_split\n",
    "def test_test2_auc(rfc,x_train, y_train,x_test,y_test,x_test2,y_test2):\n",
    "    x_tra, x_val, y_tra, y_val = train_test_split(x_train, y_train, test_size=0.2, random_state=123)\n",
    "    rfc.fit(x_tra, y_tra)\n",
    "    y_val_pred_prob=rfc.predict_proba(x_val)[:,1]\n",
    "    fpr, tpr, _ = roc_curve(y_val, y_val_pred_prob)\n",
    "    val_auc= auc(fpr, tpr)\n",
    "#     print('val auc ',val_auc)\n",
    "    rfc.fit(x_train, y_train)\n",
    "    y_test_pred_prob=rfc.predict_proba(x_test)[:,1]\n",
    "    fpr, tpr, _ = roc_curve(y_test, y_test_pred_prob)\n",
    "    test1_auc=auc(fpr, tpr)\n",
    "#     print('test1 auc ',test1_auc)\n",
    "    y_test2_pred_prob=rfc.predict_proba(x_test2)[:,1]\n",
    "    fpr2, tpr2, _ = roc_curve(y_test2, y_test2_pred_prob)\n",
    "    test2_auc=auc(fpr2, tpr2)\n",
    "#     print('test2 auc ',test2_auc)\n",
    "    return val_auc,test1_auc,test2_auc\n",
    "    \n",
    "from sklearn.ensemble import GradientBoostingClassifier\n",
    "clf = GradientBoostingClassifier(random_state=123)\n",
    "test_test2_auc(clf,x_train, y_train,x_test1,y_test1,x_test2,y_test2)"
   ]
  },
  {
   "cell_type": "code",
   "execution_count": 23,
   "metadata": {},
   "outputs": [
    {
     "data": {
      "text/plain": [
       "(0.9956448377553679, 0.9963561783172402, 0.9199662142006876)"
      ]
     },
     "execution_count": 23,
     "metadata": {},
     "output_type": "execute_result"
    }
   ],
   "source": [
    "#loss loss{‘deviance’, ‘exponential’}, default=’deviance’\n",
    "from sklearn.ensemble import GradientBoostingClassifier\n",
    "clf = GradientBoostingClassifier(random_state=123,loss='exponential')\n",
    "test_test2_auc(clf,x_train, y_train,x_test1,y_test1,x_test2,y_test2)"
   ]
  },
  {
   "cell_type": "code",
   "execution_count": 24,
   "metadata": {},
   "outputs": [
    {
     "name": "stdout",
     "output_type": "stream",
     "text": [
      "0.0001 (0.9507183497065026, 0.9627633930595223, 0.14329174519504947)\n",
      "0.001 (0.9552788580822322, 0.9627633930595223, 0.14329174519504947)\n",
      "0.01 (0.9884518059322733, 0.9960971938891156, 0.8505478529103104)\n",
      "0.2 (0.9962704367461824, 0.9957690285144386, 0.9324126790611545)\n",
      "0.3 (0.9962280342042005, 0.9956972437553834, 0.946242120346195)\n",
      "0.4 (0.9963211337525009, 0.9938381017951856, 0.9520100075537571)\n"
     ]
    }
   ],
   "source": [
    "loss='exponential'\n",
    "#learning_ratefloat, default=0.1\n",
    "from sklearn.ensemble import GradientBoostingClassifier\n",
    "for para in [0.0001,0.001,0.01,0.2,0.3,0.4]:\n",
    "    \n",
    "    clf = GradientBoostingClassifier(random_state=123,loss=loss,\n",
    "                                    learning_rate=para)\n",
    "    out=test_test2_auc(clf,x_train, y_train,x_test1,y_test1,x_test2,y_test2)\n",
    "    print(para,out)\n",
    "\n",
    "#"
   ]
  },
  {
   "cell_type": "code",
   "execution_count": 25,
   "metadata": {},
   "outputs": [
    {
     "name": "stdout",
     "output_type": "stream",
     "text": [
      "0.5 (0.9962845192479376, 0.9923956208350333, 0.8981420129823154)\n",
      "0.6 (0.9963340534788819, 0.9948555606555147, 0.9011672739110704)\n",
      "0.7 (0.9966599406571128, 0.9950980240491409, 0.9314274287349055)\n",
      "0.8 (0.9962162255742882, 0.9920969672242622, 0.8987832367661277)\n",
      "0.9 (0.9962563025655218, 0.9931197725418197, 0.9064106582667133)\n"
     ]
    }
   ],
   "source": [
    "\n",
    "#learning_ratefloat, default=0.1\n",
    "from sklearn.ensemble import GradientBoostingClassifier\n",
    "for para in [0.5,0.6,0.7,0.8,0.9]:\n",
    "    \n",
    "    clf = GradientBoostingClassifier(random_state=123,loss=loss,\n",
    "                                    learning_rate=para)\n",
    "    out=test_test2_auc(clf,x_train, y_train,x_test1,y_test1,x_test2,y_test2)\n",
    "    print(para,out)\n",
    "\n",
    "#0.7 (0.9966599406571128, 0.9950980240491409, 0.9314274287349055)"
   ]
  },
  {
   "cell_type": "code",
   "execution_count": 26,
   "metadata": {},
   "outputs": [
    {
     "name": "stdout",
     "output_type": "stream",
     "text": [
      "10 (0.9948348742690989, 0.9954395541502336, 0.8298713806088291)\n",
      "20 (0.9959593038954785, 0.9959405939752483, 0.9336234733941455)\n",
      "40 (0.9963971017436204, 0.9957835577315381, 0.9414122431229337)\n",
      "60 (0.9965997864110835, 0.9945067971122898, 0.9255375357840452)\n",
      "80 (0.9965356012104233, 0.9950061964504284, 0.9271876300650806)\n",
      "100 (0.9966599406571128, 0.9950980240491409, 0.9314274287349055)\n",
      "120 (0.9966302769653425, 0.995056734212793, 0.9023633001321907)\n",
      "140 (0.9965584949655701, 0.9951931241216737, 0.9172865505777591)\n",
      "160 (0.9964994001371043, 0.9935316650800127, 0.8698565719800708)\n",
      "180 (0.9964146984109512, 0.9939760953579039, 0.887975885522999)\n",
      "200 (0.9962962761989442, 0.9942229985493449, 0.9063333091797878)\n",
      "300 (0.9961716525182744, 0.9949725168865317, 0.9239833901900747)\n"
     ]
    }
   ],
   "source": [
    "learning_rate=0.7\n",
    "#n_estimatorsint, default=100\n",
    "from sklearn.ensemble import GradientBoostingClassifier\n",
    "for para in [10,20,40,60,80,100,120,140,160,180,200,300]:\n",
    "    \n",
    "    clf = GradientBoostingClassifier(random_state=123,loss=loss,learning_rate=learning_rate,\n",
    "                                    n_estimators=para)\n",
    "    out=test_test2_auc(clf,x_train, y_train,x_test1,y_test1,x_test2,y_test2)\n",
    "    print(para,out)\n",
    "    \n",
    "#100 (0.9966599406571128, 0.9950980240491409, 0.9314274287349055)"
   ]
  },
  {
   "cell_type": "code",
   "execution_count": 27,
   "metadata": {},
   "outputs": [
    {
     "name": "stdout",
     "output_type": "stream",
     "text": [
      "0.2 (0.9951910452859665, 0.9940766353869169, 0.9188137142735003)\n",
      "0.5 (0.9959106223664752, 0.9942130961285643, 0.947777446139551)\n",
      "0.6 (0.9957066974052797, 0.9950998997008024, 0.9441333191152335)\n",
      "0.7 (0.9962026598615883, 0.9923553169907974, 0.8920046440573822)\n",
      "0.8 (0.9957495650574114, 0.9946690041479669, 0.9492979010608142)\n",
      "0.9 (0.9962724263840449, 0.9950305742554059, 0.9204216181434857)\n"
     ]
    }
   ],
   "source": [
    "n_estimators=100\n",
    "#subsamplefloat, default=1.0\n",
    "from sklearn.ensemble import GradientBoostingClassifier\n",
    "for para in [0.2,0.5,0.6,0.7,0.8,0.9]:\n",
    "    clf = GradientBoostingClassifier(random_state=123,\n",
    "                                     loss=loss,learning_rate=learning_rate,n_estimators=n_estimators,\n",
    "                                    subsample=para)\n",
    "    out=test_test2_auc(clf,x_train, y_train,x_test1,y_test1,x_test2,y_test2)\n",
    "    print(para,out)\n",
    "\n",
    "#"
   ]
  },
  {
   "cell_type": "code",
   "execution_count": 28,
   "metadata": {},
   "outputs": [
    {
     "name": "stdout",
     "output_type": "stream",
     "text": [
      "squared_error (0.9966599406571128, 0.9950980297157622, 0.9314274287349055)\n"
     ]
    }
   ],
   "source": [
    "subsample=1\n",
    "#criterion{‘friedman_mse’, ‘squared_error’, ‘mse’, ‘mae’}, default=’friedman_mse’\n",
    "from sklearn.ensemble import GradientBoostingClassifier\n",
    "for para in ['squared_error']:\n",
    "    clf = GradientBoostingClassifier(random_state=123,\n",
    "                                     loss=loss,learning_rate=learning_rate,\n",
    "                                     n_estimators=n_estimators,subsample=subsample,\n",
    "                                    criterion=para)\n",
    "    out=test_test2_auc(clf,x_train, y_train,x_test1,y_test1,x_test2,y_test2)\n",
    "    print(para,out)\n",
    "\n",
    "#"
   ]
  },
  {
   "cell_type": "code",
   "execution_count": 29,
   "metadata": {},
   "outputs": [
    {
     "name": "stdout",
     "output_type": "stream",
     "text": [
      "2 (0.9966599406571128, 0.9950980240491409, 0.9314274287349055)\n",
      "4 (0.9967071234978558, 0.9941203363706423, 0.9242227040665332)\n",
      "6 (0.9967357277720629, 0.9954318758783263, 0.9144088239673948)\n",
      "8 (0.9967357277720628, 0.9952028763769891, 0.9310843123544329)\n",
      "10 (0.9968646924807967, 0.9945430011559907, 0.9198381456043053)\n",
      "20 (0.9964456799148126, 0.994534665556009, 0.8800940443933554)\n"
     ]
    }
   ],
   "source": [
    "criterion='friedman_mse'\n",
    "#(0.9953899057144209, 0.9878844972573553, 0.93855434923537)\n",
    "#min_samples_splitint or float, default=2\n",
    "from sklearn.ensemble import GradientBoostingClassifier\n",
    "for para in [2,4,6,8,10,20]:\n",
    "    clf = GradientBoostingClassifier(random_state=123,\n",
    "            loss=loss,learning_rate=learning_rate,n_estimators=n_estimators,subsample=subsample,\n",
    "            criterion=criterion,\n",
    "            min_samples_split=para)\n",
    "    out=test_test2_auc(clf,x_train, y_train,x_test1,y_test1,x_test2,y_test2)\n",
    "    print(para,out)\n",
    "\n",
    "#"
   ]
  },
  {
   "cell_type": "code",
   "execution_count": 30,
   "metadata": {},
   "outputs": [
    {
     "name": "stdout",
     "output_type": "stream",
     "text": [
      "12 (0.9965275651406144, 0.994682048710277, 0.9107255893386799)\n",
      "14 (0.9968505324606833, 0.9947361847771885, 0.9111371880669428)\n",
      "16 (0.9966966326800346, 0.9946021011831905, 0.9221888443973014)\n",
      "18 (0.9960771834789774, 0.994534665556009, 0.8800940443933554)\n"
     ]
    }
   ],
   "source": [
    "criterion='friedman_mse'\n",
    "#(0.9953899057144209, 0.9878844972573553, 0.93855434923537)\n",
    "#min_samples_splitint or float, default=2\n",
    "from sklearn.ensemble import GradientBoostingClassifier\n",
    "for para in [12,14,16,18]:\n",
    "    clf = GradientBoostingClassifier(random_state=123,\n",
    "            loss=loss,learning_rate=learning_rate,n_estimators=n_estimators,subsample=subsample,\n",
    "            criterion=criterion,\n",
    "            min_samples_split=para)\n",
    "    out=test_test2_auc(clf,x_train, y_train,x_test1,y_test1,x_test2,y_test2)\n",
    "    print(para,out)\n",
    "\n",
    "#10 (0.9968646924807967, 0.9945430011559907, 0.9198381456043053)"
   ]
  },
  {
   "cell_type": "code",
   "execution_count": 31,
   "metadata": {},
   "outputs": [
    {
     "name": "stdout",
     "output_type": "stream",
     "text": [
      "2 (0.9955086121604083, 0.9955441486468108, 0.9387537627857203)\n",
      "4 (0.9962770516460893, 0.9947745846366562, 0.9279000520025442)\n",
      "5 (0.9959943680328759, 0.994009704089034, 0.8948255295850789)\n",
      "6 (0.9958697443522062, 0.9937471638560225, 0.8642260164688816)\n",
      "8 (0.9945543611699174, 0.9946332449340405, 0.9002772235902706)\n",
      "10 (0.9919264371451435, 0.9954822323088083, 0.9534675144991736)\n",
      "20 (0.9819926920859698, 0.9923039320685434, 0.8927121922243277)\n",
      "40 (0.9817703952738608, 0.988693376286323, 0.8200043587950065)\n"
     ]
    }
   ],
   "source": [
    "min_samples_split=10\n",
    "#max_depthint, default=3\n",
    "from sklearn.ensemble import GradientBoostingClassifier\n",
    "for para in [2,4,5,6,8,10,20,40]:\n",
    "    clf = GradientBoostingClassifier(random_state=123,\n",
    "            loss=loss,learning_rate=learning_rate,n_estimators=n_estimators,subsample=subsample,\n",
    "            criterion=criterion,min_samples_split=min_samples_split,\n",
    "            max_depth=para)\n",
    "    out=test_test2_auc(clf,x_train, y_train,x_test1,y_test1,x_test2,y_test2)\n",
    "    print(para,out)\n",
    "\n",
    "#"
   ]
  },
  {
   "cell_type": "code",
   "execution_count": 32,
   "metadata": {},
   "outputs": [
    {
     "name": "stdout",
     "output_type": "stream",
     "text": [
      "0.0001 (0.9964143366586126, 0.9909516212203635, 0.886532691608471)\n",
      "0.001 (0.9963007464242718, 0.9943674520603835, 0.9361361663367379)\n",
      "0.01 (0.9960800774976867, 0.9941776769119182, 0.822046145681346)\n",
      "0.1 (0.9920903626334638, 0.9910302597579219, 0.9337444808952894)\n",
      "0.2 (0.9834609156313444, 0.9729163946688426, 0.9260989442356096)\n",
      "0.3 (0.8421712272008819, 0.7412680453556372, 0.5420109770230492)\n",
      "0.4 (0.8257915464163135, 0.7618062497166689, 0.4292954330538882)\n",
      "0.5 (0.5, 0.5, 0.5)\n"
     ]
    }
   ],
   "source": [
    "max_depth=3\n",
    "#min_samples_leafint or float, default=1\n",
    "from sklearn.ensemble import GradientBoostingClassifier\n",
    "for para in [0.0001,0.001,0.01,0.1,0.2,0.3,0.4 ,0.5]:\n",
    "    clf = GradientBoostingClassifier(random_state=123,\n",
    "            loss=loss,learning_rate=learning_rate,n_estimators=n_estimators,subsample=subsample,\n",
    "            criterion=criterion,min_samples_split=min_samples_split,max_depth=max_depth,\n",
    "            min_samples_leaf=para)\n",
    "    out=test_test2_auc(clf,x_train, y_train,x_test1,y_test1,x_test2,y_test2)\n",
    "    print(para,out)\n",
    "\n",
    "#"
   ]
  },
  {
   "cell_type": "code",
   "execution_count": 33,
   "metadata": {},
   "outputs": [
    {
     "name": "stdout",
     "output_type": "stream",
     "text": [
      "0.001 (0.9963007464242718, 0.9943674520603835, 0.9361361663367379)\n",
      "0.01 (0.9960800774976867, 0.9941776769119182, 0.822046145681346)\n",
      "0.1 (0.9920903626334638, 0.9910302597579219, 0.9337444808952894)\n",
      "0.2 (0.9834609156313444, 0.9729163946688426, 0.9260989442356096)\n",
      "0.5 (0.5, 0.5, 0.5)\n"
     ]
    }
   ],
   "source": [
    "min_samples_leaf=1\n",
    "#\n",
    "#min_weight_fraction_leaffloat, default=0.0\n",
    "from sklearn.ensemble import GradientBoostingClassifier\n",
    "for para in [0.001,0.01,0.1,0.2,0.5]:\n",
    "    clf = GradientBoostingClassifier(random_state=123,\n",
    "            loss=loss,learning_rate=learning_rate,n_estimators=n_estimators,subsample=subsample,\n",
    "            criterion=criterion,min_samples_split=min_samples_split,max_depth=max_depth,                     \n",
    "            min_samples_leaf=min_samples_leaf,\n",
    "            min_weight_fraction_leaf=para)\n",
    "    out=test_test2_auc(clf,x_train, y_train,x_test1,y_test1,x_test2,y_test2)\n",
    "    print(para,out)\n",
    "\n",
    "#"
   ]
  },
  {
   "cell_type": "code",
   "execution_count": 34,
   "metadata": {},
   "outputs": [
    {
     "name": "stdout",
     "output_type": "stream",
     "text": [
      "0.001 (0.9968646924807967, 0.9945430011559907, 0.9198381456043053)\n",
      "0.01 (0.9968646924807967, 0.9945430011559907, 0.9198381456043053)\n",
      "0.1 (0.9968645374440802, 0.9943540250011333, 0.9562696536264141)\n",
      "0.2 (0.996655909702482, 0.9949109717122262, 0.9390338284301244)\n"
     ]
    }
   ],
   "source": [
    "min_weight_fraction_leaf=0\n",
    "#min_impurity_decreasefloat, default=0.0\n",
    "from sklearn.ensemble import GradientBoostingClassifier\n",
    "for para in [0.001,0.01,0.1,0.2]:\n",
    "    clf = GradientBoostingClassifier(random_state=123,\n",
    "            loss=loss,learning_rate=learning_rate,n_estimators=n_estimators,subsample=subsample,\n",
    "            criterion=criterion,min_samples_split=min_samples_split,max_depth=max_depth,\n",
    "            min_samples_leaf=min_samples_leaf,min_weight_fraction_leaf=min_weight_fraction_leaf,\n",
    "            min_impurity_decrease=para                        )\n",
    "    out=test_test2_auc(clf,x_train, y_train,x_test1,y_test1,x_test2,y_test2)\n",
    "    print(para,out)\n",
    "\n",
    "#"
   ]
  },
  {
   "cell_type": "code",
   "execution_count": 35,
   "metadata": {},
   "outputs": [
    {
     "name": "stdout",
     "output_type": "stream",
     "text": [
      "auto (0.9968646924807967, 0.9945430011559907, 0.9198381456043053)\n",
      "sqrt (0.9953299323445609, 0.9956276746452695, 0.9587331537828445)\n",
      "log2 (0.9958210111442976, 0.9951741381068953, 0.9494027752071412)\n",
      "2 (0.9948724965123199, 0.9955968623917676, 0.9515947828576691)\n",
      "4 (0.9958210111442976, 0.9951741381068953, 0.9494027752071412)\n",
      "6 (0.9960396387541146, 0.9946969094247246, 0.9235832565665544)\n",
      "8 (0.9961473892721311, 0.9942387857563806, 0.924993728690466)\n",
      "10 (0.9961263042786774, 0.9940483957795004, 0.9304745331984806)\n",
      "20 (0.9962551139506947, 0.9935450099732536, 0.8995698075436102)\n"
     ]
    }
   ],
   "source": [
    "min_impurity_decrease=0\n",
    "#max_features{‘auto’, ‘sqrt’, ‘log2’}, int or float, default=None\n",
    "from sklearn.ensemble import GradientBoostingClassifier\n",
    "for para in ['auto','sqrt','log2',2,4,6,8,10,20]:\n",
    "    clf = GradientBoostingClassifier(random_state=123,\n",
    "            loss=loss,learning_rate=learning_rate,n_estimators=n_estimators,subsample=subsample,\n",
    "            criterion=criterion,min_samples_split=min_samples_split,max_depth=max_depth,\n",
    "            min_samples_leaf=min_samples_leaf,min_weight_fraction_leaf=min_weight_fraction_leaf,\n",
    "            min_impurity_decrease=min_impurity_decrease,\n",
    "            max_features=para                        )\n",
    "    out=test_test2_auc(clf,x_train, y_train,x_test1,y_test1,x_test2,y_test2)\n",
    "    print(para,out)\n",
    "\n",
    "#"
   ]
  },
  {
   "cell_type": "code",
   "execution_count": 36,
   "metadata": {},
   "outputs": [
    {
     "name": "stdout",
     "output_type": "stream",
     "text": [
      "2 (0.9943182660900334, 0.9966776287456367, 0.9646993388583492)\n",
      "4 (0.9963200226560321, 0.994021779659096, 0.9378128167950838)\n",
      "6 (0.9961159684975727, 0.9952454978693505, 0.9481007297972229)\n",
      "8 (0.9968646924807967, 0.9945336852305181, 0.9196720850859335)\n",
      "10 (0.9968646924807967, 0.9945336852305181, 0.9196720850859335)\n",
      "20 (0.9968646924807967, 0.9945336852305181, 0.9196720850859335)\n"
     ]
    }
   ],
   "source": [
    "max_features=None\n",
    "#\n",
    "#max_leaf_nodesint, default=None\n",
    "from sklearn.ensemble import GradientBoostingClassifier\n",
    "for para in [2,4,6,8,10,20]:\n",
    "    clf = GradientBoostingClassifier(random_state=123,\n",
    "            loss=loss,learning_rate=learning_rate,n_estimators=n_estimators,subsample=subsample,\n",
    "            criterion=criterion,min_samples_split=min_samples_split,max_depth=max_depth,\n",
    "            min_samples_leaf=min_samples_leaf,min_weight_fraction_leaf=min_weight_fraction_leaf,\n",
    "            min_impurity_decrease=min_impurity_decrease,\n",
    "            max_features=max_features,                        \n",
    "            max_leaf_nodes=para                        )\n",
    "    out=test_test2_auc(clf,x_train, y_train,x_test1,y_test1,x_test2,y_test2)\n",
    "    print(para,out)\n",
    "\n",
    "#"
   ]
  },
  {
   "cell_type": "code",
   "execution_count": 37,
   "metadata": {},
   "outputs": [
    {
     "name": "stdout",
     "output_type": "stream",
     "text": [
      "1e-06 (0.9968646924807967, 0.9945430011559907, 0.9198381456043053)\n",
      "1e-05 (0.9968646924807967, 0.9945430011559907, 0.9198381456043053)\n",
      "0.001 (0.9968646924807967, 0.9945430011559907, 0.9198381456043053)\n",
      "0.01 (0.9968646924807967, 0.9945430011559907, 0.9198381456043053)\n",
      "0.1 (0.9968646924807967, 0.9945430011559907, 0.9198381456043053)\n"
     ]
    }
   ],
   "source": [
    "#\n",
    "max_leaf_nodes=None\n",
    "#tolfloat, default=1e-4\n",
    "from sklearn.ensemble import GradientBoostingClassifier\n",
    "for para in [1e-6,1e-5,1e-3,1e-2,1e-1]:\n",
    "    clf = GradientBoostingClassifier(random_state=123,\n",
    "            loss=loss,learning_rate=learning_rate,n_estimators=n_estimators,subsample=subsample,\n",
    "            criterion=criterion,min_samples_split=min_samples_split,max_depth=max_depth,\n",
    "            min_samples_leaf=min_samples_leaf,min_weight_fraction_leaf=min_weight_fraction_leaf,\n",
    "            min_impurity_decrease=min_impurity_decrease,\n",
    "            max_features=max_features,                        \n",
    "            max_leaf_nodes=max_leaf_nodes,\n",
    "            tol=para                        )\n",
    "    out=test_test2_auc(clf,x_train, y_train,x_test1,y_test1,x_test2,y_test2)\n",
    "    print(para,out)\n",
    "\n",
    "#"
   ]
  },
  {
   "cell_type": "code",
   "execution_count": 38,
   "metadata": {},
   "outputs": [
    {
     "data": {
      "image/png": "[encoded data removed]",
      "text/plain": [
       "<Figure size 576x684 with 2 Axes>"
      ]
     },
     "metadata": {
      "needs_background": "light"
     },
     "output_type": "display_data"
    }
   ],
   "source": [
    "clf=GradientBoostingClassifier(random_state=123,\n",
    "            loss=loss,learning_rate=learning_rate,n_estimators=n_estimators,subsample=subsample,\n",
    "            criterion=criterion,min_samples_split=min_samples_split,max_depth=max_depth,\n",
    "            min_samples_leaf=min_samples_leaf,min_weight_fraction_leaf=min_weight_fraction_leaf,\n",
    "            min_impurity_decrease=min_impurity_decrease,\n",
    "            max_features=max_features,                        \n",
    "            max_leaf_nodes=max_leaf_nodes,                        \n",
    "            )\n",
    "import shap\n",
    "clf.fit(x_train,y_train)\n",
    "explainer = shap.TreeExplainer(clf)\n",
    "shap_values = explainer.shap_values(x_train)\n",
    "#shap.summary_plot(shap_values, x_train)\n",
    "shap.summary_plot(shap_values, x_train)"
   ]
  },
  {
   "cell_type": "code",
   "execution_count": 39,
   "metadata": {},
   "outputs": [],
   "source": [
    "shap_df=pd.DataFrame()\n",
    "shap_df['feature']=x_train.columns.to_list()\n",
    "shap_df['importance']=np.mean(np.abs(shap_values),axis=0)\n",
    "shap_df=shap_df.sort_values(by=['importance'],ascending=False)"
   ]
  },
  {
   "cell_type": "code",
   "execution_count": 40,
   "metadata": {},
   "outputs": [
    {
     "data": {
      "text/html": [
       "<div>\n",
       "<style scoped>\n",
       "    .dataframe tbody tr th:only-of-type {\n",
       "        vertical-align: middle;\n",
       "    }\n",
       "\n",
       "    .dataframe tbody tr th {\n",
       "        vertical-align: top;\n",
       "    }\n",
       "\n",
       "    .dataframe thead th {\n",
       "        text-align: right;\n",
       "    }\n",
       "</style>\n",
       "<table border=\"1\" class=\"dataframe\">\n",
       "  <thead>\n",
       "    <tr style=\"text-align: right;\">\n",
       "      <th></th>\n",
       "      <th>feature</th>\n",
       "      <th>importance</th>\n",
       "    </tr>\n",
       "  </thead>\n",
       "  <tbody>\n",
       "    <tr>\n",
       "      <th>1</th>\n",
       "      <td>ExonicFunc</td>\n",
       "      <td>1.080914</td>\n",
       "    </tr>\n",
       "    <tr>\n",
       "      <th>3</th>\n",
       "      <td>exonic</td>\n",
       "      <td>0.737885</td>\n",
       "    </tr>\n",
       "    <tr>\n",
       "      <th>0</th>\n",
       "      <td>Func</td>\n",
       "      <td>0.717287</td>\n",
       "    </tr>\n",
       "    <tr>\n",
       "      <th>28</th>\n",
       "      <td>AF</td>\n",
       "      <td>0.417305</td>\n",
       "    </tr>\n",
       "    <tr>\n",
       "      <th>23</th>\n",
       "      <td>p_RVIS_pop_maf_0_05</td>\n",
       "      <td>0.261783</td>\n",
       "    </tr>\n",
       "    <tr>\n",
       "      <th>2</th>\n",
       "      <td>length</td>\n",
       "      <td>0.182324</td>\n",
       "    </tr>\n",
       "    <tr>\n",
       "      <th>20</th>\n",
       "      <td>exac_pLI</td>\n",
       "      <td>0.180543</td>\n",
       "    </tr>\n",
       "    <tr>\n",
       "      <th>6</th>\n",
       "      <td>intronic</td>\n",
       "      <td>0.177116</td>\n",
       "    </tr>\n",
       "    <tr>\n",
       "      <th>22</th>\n",
       "      <td>RVIS_pop_maf_0_05</td>\n",
       "      <td>0.148356</td>\n",
       "    </tr>\n",
       "    <tr>\n",
       "      <th>18</th>\n",
       "      <td>exac_mis_z</td>\n",
       "      <td>0.130119</td>\n",
       "    </tr>\n",
       "    <tr>\n",
       "      <th>8</th>\n",
       "      <td>splicing</td>\n",
       "      <td>0.126302</td>\n",
       "    </tr>\n",
       "    <tr>\n",
       "      <th>12</th>\n",
       "      <td>nonframeshift_deletion</td>\n",
       "      <td>0.124212</td>\n",
       "    </tr>\n",
       "    <tr>\n",
       "      <th>11</th>\n",
       "      <td>frameshift_insertion</td>\n",
       "      <td>0.097039</td>\n",
       "    </tr>\n",
       "    <tr>\n",
       "      <th>17</th>\n",
       "      <td>exac_syn_z</td>\n",
       "      <td>0.096896</td>\n",
       "    </tr>\n",
       "    <tr>\n",
       "      <th>26</th>\n",
       "      <td>alternative-RVIS_maf_0_0025</td>\n",
       "      <td>0.085852</td>\n",
       "    </tr>\n",
       "    <tr>\n",
       "      <th>21</th>\n",
       "      <td>exac_cnv_z</td>\n",
       "      <td>0.072585</td>\n",
       "    </tr>\n",
       "    <tr>\n",
       "      <th>25</th>\n",
       "      <td>p_OE-ratio_ExAC_v2</td>\n",
       "      <td>0.069535</td>\n",
       "    </tr>\n",
       "    <tr>\n",
       "      <th>24</th>\n",
       "      <td>OE-ratio_ExAC_v2</td>\n",
       "      <td>0.064908</td>\n",
       "    </tr>\n",
       "    <tr>\n",
       "      <th>15</th>\n",
       "      <td>stopgain</td>\n",
       "      <td>0.057406</td>\n",
       "    </tr>\n",
       "    <tr>\n",
       "      <th>27</th>\n",
       "      <td>alternative-p_RVIS_maf_0_0025</td>\n",
       "      <td>0.056541</td>\n",
       "    </tr>\n",
       "    <tr>\n",
       "      <th>9</th>\n",
       "      <td>UTR</td>\n",
       "      <td>0.056411</td>\n",
       "    </tr>\n",
       "    <tr>\n",
       "      <th>13</th>\n",
       "      <td>nonframeshift_insertion</td>\n",
       "      <td>0.043436</td>\n",
       "    </tr>\n",
       "    <tr>\n",
       "      <th>10</th>\n",
       "      <td>frameshift_deletion</td>\n",
       "      <td>0.039491</td>\n",
       "    </tr>\n",
       "    <tr>\n",
       "      <th>19</th>\n",
       "      <td>exac_lof_z</td>\n",
       "      <td>0.037170</td>\n",
       "    </tr>\n",
       "    <tr>\n",
       "      <th>4</th>\n",
       "      <td>stream</td>\n",
       "      <td>0.028497</td>\n",
       "    </tr>\n",
       "    <tr>\n",
       "      <th>14</th>\n",
       "      <td>startloss</td>\n",
       "      <td>0.022035</td>\n",
       "    </tr>\n",
       "    <tr>\n",
       "      <th>16</th>\n",
       "      <td>stoploss</td>\n",
       "      <td>0.006528</td>\n",
       "    </tr>\n",
       "    <tr>\n",
       "      <th>5</th>\n",
       "      <td>intergenic</td>\n",
       "      <td>0.003256</td>\n",
       "    </tr>\n",
       "    <tr>\n",
       "      <th>7</th>\n",
       "      <td>ncRNA</td>\n",
       "      <td>0.002702</td>\n",
       "    </tr>\n",
       "  </tbody>\n",
       "</table>\n",
       "</div>"
      ],
      "text/plain": [
       "                          feature  importance\n",
       "1                      ExonicFunc    1.080914\n",
       "3                          exonic    0.737885\n",
       "0                            Func    0.717287\n",
       "28                             AF    0.417305\n",
       "23            p_RVIS_pop_maf_0_05    0.261783\n",
       "2                          length    0.182324\n",
       "20                       exac_pLI    0.180543\n",
       "6                        intronic    0.177116\n",
       "22              RVIS_pop_maf_0_05    0.148356\n",
       "18                     exac_mis_z    0.130119\n",
       "8                        splicing    0.126302\n",
       "12         nonframeshift_deletion    0.124212\n",
       "11           frameshift_insertion    0.097039\n",
       "17                     exac_syn_z    0.096896\n",
       "26    alternative-RVIS_maf_0_0025    0.085852\n",
       "21                     exac_cnv_z    0.072585\n",
       "25             p_OE-ratio_ExAC_v2    0.069535\n",
       "24               OE-ratio_ExAC_v2    0.064908\n",
       "15                       stopgain    0.057406\n",
       "27  alternative-p_RVIS_maf_0_0025    0.056541\n",
       "9                             UTR    0.056411\n",
       "13        nonframeshift_insertion    0.043436\n",
       "10            frameshift_deletion    0.039491\n",
       "19                     exac_lof_z    0.037170\n",
       "4                          stream    0.028497\n",
       "14                      startloss    0.022035\n",
       "16                       stoploss    0.006528\n",
       "5                      intergenic    0.003256\n",
       "7                           ncRNA    0.002702"
      ]
     },
     "execution_count": 40,
     "metadata": {},
     "output_type": "execute_result"
    }
   ],
   "source": [
    "shap_df"
   ]
  },
  {
   "cell_type": "code",
   "execution_count": 41,
   "metadata": {},
   "outputs": [
    {
     "name": "stdout",
     "output_type": "stream",
     "text": [
      "1 (0.9453481362390315, 0.9752630587288635, 0.9404777563462364)\n",
      "2 (0.9826298929910744, 0.9383934051860919, 0.06843481384780306)\n",
      "3 (0.9896412217823486, 0.9665729209166326, 0.06812453669820015)\n",
      "4 (0.9931757488467207, 0.9734777896776827, 0.16520731493060217)\n",
      "5 (0.9938134407014275, 0.9802519408178069, 0.21179244302503547)\n",
      "6 (0.9948361662417369, 0.9871439775148465, 0.4186585022985406)\n",
      "7 (0.9945401753103512, 0.9866329502697312, 0.4185816229726289)\n",
      "8 (0.995756024920602, 0.9927652772111156, 0.8618029157596364)\n",
      "9 (0.9958159466115563, 0.9913190846139899, 0.7381365085576364)\n",
      "10 (0.9958546541117933, 0.9957752447980416, 0.892153426178466)\n",
      "11 (0.9958169543502139, 0.993808255700621, 0.8128998253428552)\n",
      "12 (0.9959969002992467, 0.9921724551203591, 0.8684434280903934)\n",
      "13 (0.9959994842445229, 0.9906846610227117, 0.8646653310969578)\n",
      "14 (0.9958975992822834, 0.9924121588693957, 0.8057637591826534)\n",
      "15 (0.9961232552232516, 0.9922620472369553, 0.8192099488806065)\n",
      "16 (0.996038398460382, 0.9921822782084411, 0.794769061375216)\n",
      "17 (0.9958148871939931, 0.9921564554150233, 0.8418150250241693)\n",
      "18 (0.9958149388728985, 0.9921565744140715, 0.8446613657268002)\n",
      "19 (0.9962279566858422, 0.9930635964912281, 0.8585502464601158)\n",
      "20 (0.9960777777863912, 0.9918588104628496, 0.8227200031755844)\n",
      "21 (0.9961266918704689, 0.9915402273448478, 0.8910062551027791)\n",
      "22 (0.9960904649576969, 0.9909609399791469, 0.8866655458951813)\n",
      "23 (0.9958749897611169, 0.9929560298517612, 0.9218696711484999)\n",
      "24 (0.996099689642333, 0.9910439389818214, 0.8988161053570606)\n",
      "25 (0.9964651887016477, 0.9910501665986673, 0.8957829025311663)\n",
      "26 (0.9964652403805532, 0.993365856906478, 0.9204137056064098)\n",
      "27 (0.9967722647582681, 0.9943419664309352, 0.9159837418061934)\n",
      "28 (0.9965819055097723, 0.995250229498164, 0.9431104145077233)\n"
     ]
    }
   ],
   "source": [
    "##\n",
    "for num in range(28):\n",
    "    num_sel=shap_df.iloc[:num+1,0].to_list()\n",
    "    x_train_num=x_train[num_sel]\n",
    "    x_test1_num=x_test1[num_sel]\n",
    "    x_test2_num=x_test2[num_sel]\n",
    "    out=test_test2_auc(clf,x_train_num, y_train,x_test1_num,y_test1,x_test2_num,y_test2)\n",
    "    print(num+1,out)"
   ]
  },
  {
   "cell_type": "code",
   "execution_count": 43,
   "metadata": {},
   "outputs": [
    {
     "data": {
      "text/plain": [
       "(0.9968646924807967, 0.9945430011559907, 0.9198381456043053)"
      ]
     },
     "execution_count": 43,
     "metadata": {},
     "output_type": "execute_result"
    }
   ],
   "source": [
    "test_test2_auc(clf,x_train, y_train,x_test1,y_test1,x_test2,y_test2)"
   ]
  },
  {
   "cell_type": "code",
   "execution_count": 45,
   "metadata": {},
   "outputs": [
    {
     "data": {
      "text/plain": [
       "(0.9968646924807967, 0.9966881489437881, 0.9103652609998938)"
      ]
     },
     "execution_count": 45,
     "metadata": {},
     "output_type": "execute_result"
    }
   ],
   "source": [
    "#x_test1[test1_star>=2]\n",
    "test_test2_auc(clf,x_train, y_train,\n",
    "               x_test1[test1_star>=2],y_test1[test1_star>=2],\n",
    "               x_test2[test2_lab.astype('int')>=2],y_test2[test2_lab.astype('int')>=2])"
   ]
  },
  {
   "cell_type": "code",
   "execution_count": null,
   "metadata": {},
   "outputs": [],
   "source": []
  }
 ],
 "metadata": {
  "kernelspec": {
   "display_name": "py38",
   "language": "python",
   "name": "py38"
  },
  "language_info": {
   "codemirror_mode": {
    "name": "ipython",
    "version": 3
   },
   "file_extension": ".py",
   "mimetype": "text/x-python",
   "name": "python",
   "nbconvert_exporter": "python",
   "pygments_lexer": "ipython3",
   "version": "3.8.5"
  }
 },
 "nbformat": 4,
 "nbformat_minor": 4
}
