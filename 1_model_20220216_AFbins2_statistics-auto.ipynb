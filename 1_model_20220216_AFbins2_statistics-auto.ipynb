{
 "cells": [
  {
   "cell_type": "code",
   "execution_count": 1,
   "metadata": {},
   "outputs": [],
   "source": [
    "import pandas as pd\n",
    "import numpy as np"
   ]
  },
  {
   "cell_type": "code",
   "execution_count": 2,
   "metadata": {},
   "outputs": [],
   "source": [
    "import pickle\n",
    "def save_data(data, outfile):\n",
    "    with open(outfile, 'wb') as outf:\n",
    "        pickle.dump(data, outf)\n",
    "\n",
    "def load_data(infile):\n",
    "    with open(infile, 'rb') as inf:\n",
    "        data = pickle.load(inf)\n",
    "    return data"
   ]
  },
  {
   "cell_type": "code",
   "execution_count": 4,
   "metadata": {},
   "outputs": [],
   "source": [
    "x_train,y_train=load_data('train_merge_data_statistics.pkl')\n",
    "x_test1,y_test1,test1_star=load_data('test1_data_statistics.pkl')\n",
    "x_test2,y_test2,test2_lab=load_data('test2_data_statistics.pkl')\n",
    "# x_test3,y_test3=load_data('test3_data_statistics.pkl')"
   ]
  },
  {
   "cell_type": "code",
   "execution_count": 5,
   "metadata": {},
   "outputs": [],
   "source": [
    "x_train = x_train.replace({'ncRNA_splicing':0})\n",
    "x_test1 = x_test1.replace({'ncRNA_splicing':0})\n",
    "x_test2 = x_test2.replace({'ncRNA_splicing':0})\n",
    "# x_test3 = x_test3.replace({'ncRNA_splicing':0})"
   ]
  },
  {
   "cell_type": "markdown",
   "metadata": {},
   "source": [
    "### AF make bin"
   ]
  },
  {
   "cell_type": "code",
   "execution_count": 6,
   "metadata": {},
   "outputs": [],
   "source": [
    "af_cut_off=0.005\n",
    "x_train.loc[x_train['gnomad_genome_controls_AF_popmax']>af_cut_off,'AF']=0\n",
    "x_train.loc[x_train['gnomad_genome_controls_AF_popmax']<=af_cut_off,'AF']=1\n",
    "x_test1.loc[x_test1['gnomad_genome_controls_AF_popmax']>af_cut_off,'AF']=0\n",
    "x_test1.loc[x_test1['gnomad_genome_controls_AF_popmax']<=af_cut_off,'AF']=1\n",
    "x_test2.loc[x_test2['gnomad_genome_controls_AF_popmax']>af_cut_off,'AF']=0\n",
    "x_test2.loc[x_test2['gnomad_genome_controls_AF_popmax']<=af_cut_off,'AF']=1\n",
    "# x_test3.loc[x_test3['gnomad_genome_controls_AF_popmax']>af_cut_off,'AF']=0\n",
    "# x_test3.loc[x_test3['gnomad_genome_controls_AF_popmax']<=af_cut_off,'AF']=1"
   ]
  },
  {
   "cell_type": "code",
   "execution_count": 7,
   "metadata": {},
   "outputs": [],
   "source": [
    "x_train = x_train.drop(['gnomad_genome_controls_AF_popmax'], axis=1) \n",
    "x_test1 = x_test1.drop(['gnomad_genome_controls_AF_popmax'], axis=1) \n",
    "x_test2 = x_test2.drop(['gnomad_genome_controls_AF_popmax'], axis=1) \n",
    "# x_test3 = x_test3.drop(['gnomad_genome_controls_AF_popmax'], axis=1) \n"
   ]
  },
  {
   "cell_type": "code",
   "execution_count": 8,
   "metadata": {},
   "outputs": [],
   "source": [
    "x_train = x_train.drop(['Func','ExonicFunc'], axis=1) \n",
    "x_test1 = x_test1.drop(['Func','ExonicFunc'], axis=1) \n",
    "x_test2 = x_test2.drop(['Func','ExonicFunc'], axis=1) \n",
    "# x_test3 = x_test3.drop(['Func','ExonicFunc'], axis=1) "
   ]
  },
  {
   "cell_type": "code",
   "execution_count": 9,
   "metadata": {},
   "outputs": [
    {
     "data": {
      "text/plain": [
       "Index(['length', 'exonic', 'stream', 'intergenic', 'intronic', 'ncRNA',\n",
       "       'splicing', 'UTR', 'frameshift_deletion', 'frameshift_insertion',\n",
       "       'nonframeshift_deletion', 'nonframeshift_insertion', 'startloss',\n",
       "       'stopgain', 'stoploss', 'exac_syn_z', 'exac_mis_z', 'exac_lof_z',\n",
       "       'exac_pLI', 'exac_cnv_z', 'RVIS_pop_maf_0_05', 'p_RVIS_pop_maf_0_05',\n",
       "       'OE-ratio_ExAC_v2', 'p_OE-ratio_ExAC_v2', 'alternative-RVIS_maf_0_0025',\n",
       "       'alternative-p_RVIS_maf_0_0025', 'Func_b', 'Func_p', 'ExonicFunc_b',\n",
       "       'ExonicFunc_p', 'AF'],\n",
       "      dtype='object')"
      ]
     },
     "execution_count": 9,
     "metadata": {},
     "output_type": "execute_result"
    }
   ],
   "source": [
    "x_train.columns"
   ]
  },
  {
   "cell_type": "code",
   "execution_count": 8,
   "metadata": {},
   "outputs": [],
   "source": [
    "# x_test3_1=x_test3[y_test3==1]\n",
    "# y_test3_1=y_test3[y_test3==1]"
   ]
  },
  {
   "cell_type": "markdown",
   "metadata": {},
   "source": [
    "#### baseline"
   ]
  },
  {
   "cell_type": "code",
   "execution_count": 10,
   "metadata": {},
   "outputs": [],
   "source": [
    "from sklearn.metrics import roc_curve, auc,matthews_corrcoef,average_precision_score,f1_score\n",
    "from sklearn.model_selection import train_test_split\n",
    "from sklearn.metrics import roc_curve, auc\n",
    "def Find_Optimal_Cutoff(target, predicted):\n",
    "    fpr, tpr, threshold = roc_curve(target, predicted)\n",
    "    \n",
    "    optimal_threshold = threshold[np.argmax(tpr - fpr)]\n",
    "\n",
    "    return optimal_threshold\n",
    "\n",
    "#cut_off = Find_Optimal_Cutoff(y_train, y_train_pred_prob)\n",
    "def test_test2_auc(rfc,x_train, y_train,\n",
    "                   x_test=None,y_test=None,\n",
    "                   x_test2=None,y_test2=None,\n",
    "                   ):\n",
    "    #out=[]\n",
    "    x_tra, x_val, y_tra, y_val = train_test_split(x_train, y_train, test_size=0.2, random_state=123)\n",
    "    rfc.fit(x_tra, y_tra)\n",
    "    y_val_pred=rfc.predict(x_val)\n",
    "    F1_score = f1_score(y_val, y_val_pred)\n",
    "#     fpr, tpr, _ = roc_curve(y_val, y_val_pred_prob)\n",
    "#     val_auc= auc(fpr, tpr)\n",
    "    #out.append(format(val_auc,'.3f'))\n",
    "    \n",
    "    \n",
    "    rfc.fit(x_train, y_train)\n",
    "    cut_off = Find_Optimal_Cutoff(y_train, rfc.predict_proba(x_train)[:,1])\n",
    "    if (x_test,y_test):\n",
    "        y_test_pred_prob=rfc.predict_proba(x_test)[:,1]\n",
    "        fpr, tpr, _ = roc_curve(y_test, y_test_pred_prob)\n",
    "        test1_auc=auc(fpr, tpr)\n",
    "        #out.append(format(test1_auc,'.3f'))\n",
    "        test1_mcc = matthews_corrcoef(y_test,(y_test_pred_prob > cut_off).astype('int'))\n",
    "        test1_aps =  average_precision_score(y_test,y_test_pred_prob)\n",
    "        \n",
    "    if (x_test2,y_test2):\n",
    "        y_test2_pred_prob=rfc.predict_proba(x_test2)[:,1]\n",
    "        fpr2, tpr2, _ = roc_curve(y_test2, y_test2_pred_prob)\n",
    "        test2_auc=auc(fpr2, tpr2)\n",
    "        test2_mcc = matthews_corrcoef(y_test2,(y_test2_pred_prob > cut_off).astype('int'))\n",
    "        test2_aps =  average_precision_score(y_test2,y_test2_pred_prob)\n",
    "        #out.append(format(test2_auc,'.3f'))\n",
    "#     if (x_test3,y_test3):\n",
    "#         y_test3_pred_prob=rfc.predict_proba(x_test3)[:,1]\n",
    "        #out.append(format(np.min(y_test3_pred_prob),'.3f'))\n",
    "        \n",
    "#     print('val_f1:',format(F1_score,'.4f'),'\\n',\n",
    "#          'test1: auc=',format(test1_auc,'.3f'),\n",
    "#           'aps=',format(test1_aps,'.3f'),\n",
    "#           'mcc=',format(test1_mcc,'.3f'),'\\n',\n",
    "          \n",
    "#          'test2: auc=',format(test2_auc,'.3f'),  \n",
    "#           'aps=',format(test2_aps,'.3f'),           \n",
    "#          ) \n",
    "    return [format(F1_score,'.4f'),\n",
    "           format(test1_auc,'.3f'),\n",
    "           format(test1_aps,'.3f'),\n",
    "           format(test1_mcc,'.3f'),\n",
    "           format(test2_auc,'.3f'),\n",
    "           format(test2_aps,'.3f')]\n",
    "    \n",
    "# from sklearn.ensemble import GradientBoostingClassifier\n",
    "# clf = GradientBoostingClassifier(random_state=123)\n",
    "# test_test2_auc(clf,x_train, y_train,x_test1,y_test1,x_test2,y_test2)"
   ]
  },
  {
   "cell_type": "markdown",
   "metadata": {},
   "source": [
    "#### autogluon"
   ]
  },
  {
   "cell_type": "code",
   "execution_count": 11,
   "metadata": {},
   "outputs": [],
   "source": [
    "from autogluon.tabular import TabularDataset, TabularPredictor\n",
    "# predictor = TabularPredictor(label=x_train, path=save_path).fit(x_train)"
   ]
  },
  {
   "cell_type": "code",
   "execution_count": 22,
   "metadata": {},
   "outputs": [
    {
     "name": "stderr",
     "output_type": "stream",
     "text": [
      "No path specified. Models will be saved in: \"AutogluonModels/ag-20220401_051356/\"\n",
      "Beginning AutoGluon training ...\n",
      "AutoGluon will save models to \"AutogluonModels/ag-20220401_051356/\"\n",
      "AutoGluon Version:  0.4.0\n",
      "Python Version:     3.8.13\n",
      "Operating System:   Linux\n",
      "Train Data Rows:    96320\n",
      "Train Data Columns: 32\n",
      "Label Column: label\n",
      "Preprocessing data ...\n",
      "AutoGluon infers your prediction problem is: 'binary' (because only two unique label-values observed).\n",
      "\t2 unique label values:  [0.0, 1.0]\n",
      "\tIf 'binary' is not the correct problem_type, please manually specify the problem_type parameter during predictor init (You may specify problem_type as one of: ['binary', 'multiclass', 'regression'])\n",
      "Selected class <--> label mapping:  class 1 = 1, class 0 = 0\n",
      "Using Feature Generators to preprocess the data ...\n",
      "Fitting AutoMLPipelineFeatureGenerator...\n",
      "\tAvailable Memory:                    42223.87 MB\n",
      "\tTrain Data (Original)  Memory Usage: 24.66 MB (0.1% of available memory)\n",
      "\tInferring data type of each feature based on column values. Set feature_metadata_in to manually specify special dtypes of the features.\n",
      "\tStage 1 Generators:\n",
      "\t\tFitting AsTypeFeatureGenerator...\n",
      "\t\t\tNote: Converting 1 features to boolean dtype as they only contain 2 unique values.\n",
      "\tStage 2 Generators:\n",
      "\t\tFitting FillNaFeatureGenerator...\n",
      "\tStage 3 Generators:\n",
      "\t\tFitting IdentityFeatureGenerator...\n",
      "\tStage 4 Generators:\n",
      "\t\tFitting DropUniqueFeatureGenerator...\n",
      "\tTypes of features in original data (raw dtype, special dtypes):\n",
      "\t\t('float', []) : 30 | ['exonic', 'stream', 'intergenic', 'intronic', 'ncRNA', ...]\n",
      "\t\t('int', [])   :  2 | ['index', 'length']\n",
      "\tTypes of features in processed data (raw dtype, special dtypes):\n",
      "\t\t('float', [])     : 29 | ['exonic', 'stream', 'intergenic', 'intronic', 'ncRNA', ...]\n",
      "\t\t('int', [])       :  2 | ['index', 'length']\n",
      "\t\t('int', ['bool']) :  1 | ['AF']\n",
      "\t0.3s = Fit runtime\n",
      "\t32 features in original data used to generate 32 features in processed data.\n",
      "\tTrain Data (Processed) Memory Usage: 23.98 MB (0.1% of available memory)\n",
      "Data preprocessing and feature engineering runtime = 0.35s ...\n",
      "AutoGluon will gauge predictive performance using evaluation metric: 'accuracy'\n",
      "\tTo change this, specify the eval_metric parameter of Predictor()\n",
      "Automatically generating train/validation split with holdout_frac=0.02595514950166113, Train Rows: 93820, Val Rows: 2500\n",
      "Fitting 13 L1 models ...\n",
      "Fitting model: KNeighborsUnif ...\n",
      "\t0.9656\t = Validation score   (accuracy)\n",
      "\t0.08s\t = Training   runtime\n",
      "\t7.17s\t = Validation runtime\n",
      "Fitting model: KNeighborsDist ...\n",
      "\t0.9684\t = Validation score   (accuracy)\n",
      "\t0.08s\t = Training   runtime\n",
      "\t6.52s\t = Validation runtime\n",
      "Fitting model: LightGBMXT ...\n",
      "\t0.9916\t = Validation score   (accuracy)\n",
      "\t2.5s\t = Training   runtime\n",
      "\t0.02s\t = Validation runtime\n",
      "Fitting model: LightGBM ...\n",
      "\t0.9888\t = Validation score   (accuracy)\n",
      "\t0.83s\t = Training   runtime\n",
      "\t0.02s\t = Validation runtime\n",
      "Fitting model: RandomForestGini ...\n",
      "\t0.99\t = Validation score   (accuracy)\n",
      "\t3.78s\t = Training   runtime\n",
      "\t0.19s\t = Validation runtime\n",
      "Fitting model: RandomForestEntr ...\n",
      "\t0.9908\t = Validation score   (accuracy)\n",
      "\t3.61s\t = Training   runtime\n",
      "\t0.19s\t = Validation runtime\n",
      "Fitting model: CatBoost ...\n",
      "\t0.9916\t = Validation score   (accuracy)\n",
      "\t2.66s\t = Training   runtime\n",
      "\t0.01s\t = Validation runtime\n",
      "Fitting model: ExtraTreesGini ...\n",
      "\t0.9888\t = Validation score   (accuracy)\n",
      "\t2.41s\t = Training   runtime\n",
      "\t0.21s\t = Validation runtime\n",
      "Fitting model: ExtraTreesEntr ...\n",
      "\t0.988\t = Validation score   (accuracy)\n",
      "\t2.4s\t = Training   runtime\n",
      "\t0.19s\t = Validation runtime\n",
      "Fitting model: NeuralNetFastAI ...\n",
      "No improvement since epoch 9: early stopping\n",
      "\t0.9856\t = Validation score   (accuracy)\n",
      "\t94.74s\t = Training   runtime\n",
      "\t0.06s\t = Validation runtime\n",
      "Fitting model: XGBoost ...\n",
      "\t0.9904\t = Validation score   (accuracy)\n",
      "\t0.85s\t = Training   runtime\n",
      "\t0.02s\t = Validation runtime\n",
      "Fitting model: NeuralNetTorch ...\n",
      "\t0.988\t = Validation score   (accuracy)\n",
      "\t186.66s\t = Training   runtime\n",
      "\t0.05s\t = Validation runtime\n",
      "Fitting model: LightGBMLarge ...\n",
      "\t0.992\t = Validation score   (accuracy)\n",
      "\t1.05s\t = Training   runtime\n",
      "\t0.02s\t = Validation runtime\n",
      "Fitting model: WeightedEnsemble_L2 ...\n",
      "\t0.992\t = Validation score   (accuracy)\n",
      "\t1.29s\t = Training   runtime\n",
      "\t0.0s\t = Validation runtime\n",
      "AutoGluon training complete, total runtime = 334.32s ... Best model: \"WeightedEnsemble_L2\"\n",
      "TabularPredictor saved. To load, use: predictor = TabularPredictor.load(\"AutogluonModels/ag-20220401_051356/\")\n"
     ]
    }
   ],
   "source": [
    "from autogluon.tabular import TabularPredictor\n",
    "x_train['label']=y_train\n",
    "x_train=x_train.reset_index()\n",
    "predictor = TabularPredictor(label='label').fit(x_train)"
   ]
  },
  {
   "cell_type": "code",
   "execution_count": 27,
   "metadata": {},
   "outputs": [
    {
     "name": "stderr",
     "output_type": "stream",
     "text": [
      "Evaluation: accuracy on test data: 0.980105791942513\n",
      "Evaluations on test data:\n",
      "{\n",
      "    \"accuracy\": 0.980105791942513,\n",
      "    \"balanced_accuracy\": 0.9707112034770389,\n",
      "    \"mcc\": 0.9488067494935284,\n",
      "    \"f1\": 0.962171052631579,\n",
      "    \"precision\": 0.9740010245901639,\n",
      "    \"recall\": 0.950625\n",
      "}\n"
     ]
    }
   ],
   "source": [
    "x_test1=x_test1.reset_index()\n",
    "y_test1=y_test1.reset_index()\n",
    "y_pred = predictor.predict(x_test1)\n",
    "#print(\"Predictions:  \\n\", y_pred)\n",
    "perf = predictor.evaluate_predictions(y_true=y_test1['tag'], y_pred=y_pred, auxiliary_metrics=True)"
   ]
  },
  {
   "cell_type": "code",
   "execution_count": 32,
   "metadata": {},
   "outputs": [
    {
     "data": {
      "text/plain": [
       "0.9913055697221088"
      ]
     },
     "execution_count": 32,
     "metadata": {},
     "output_type": "execute_result"
    }
   ],
   "source": [
    "y_pred_proba=predictor.predict_proba(x_test1)[1]\n",
    "fpr, tpr, _ = roc_curve(y_test1['tag'], y_pred_proba)\n",
    "auc(fpr, tpr)"
   ]
  },
  {
   "cell_type": "code",
   "execution_count": 31,
   "metadata": {},
   "outputs": [
    {
     "data": {
      "text/html": [
       "<div>\n",
       "<style scoped>\n",
       "    .dataframe tbody tr th:only-of-type {\n",
       "        vertical-align: middle;\n",
       "    }\n",
       "\n",
       "    .dataframe tbody tr th {\n",
       "        vertical-align: top;\n",
       "    }\n",
       "\n",
       "    .dataframe thead th {\n",
       "        text-align: right;\n",
       "    }\n",
       "</style>\n",
       "<table border=\"1\" class=\"dataframe\">\n",
       "  <thead>\n",
       "    <tr style=\"text-align: right;\">\n",
       "      <th></th>\n",
       "      <th>0</th>\n",
       "      <th>1</th>\n",
       "    </tr>\n",
       "  </thead>\n",
       "  <tbody>\n",
       "    <tr>\n",
       "      <th>0</th>\n",
       "      <td>0.629128</td>\n",
       "      <td>0.370872</td>\n",
       "    </tr>\n",
       "    <tr>\n",
       "      <th>1</th>\n",
       "      <td>0.629875</td>\n",
       "      <td>0.370125</td>\n",
       "    </tr>\n",
       "    <tr>\n",
       "      <th>2</th>\n",
       "      <td>0.629773</td>\n",
       "      <td>0.370226</td>\n",
       "    </tr>\n",
       "    <tr>\n",
       "      <th>3</th>\n",
       "      <td>0.629128</td>\n",
       "      <td>0.370872</td>\n",
       "    </tr>\n",
       "    <tr>\n",
       "      <th>4</th>\n",
       "      <td>0.630765</td>\n",
       "      <td>0.369235</td>\n",
       "    </tr>\n",
       "    <tr>\n",
       "      <th>...</th>\n",
       "      <td>...</td>\n",
       "      <td>...</td>\n",
       "    </tr>\n",
       "    <tr>\n",
       "      <th>30054</th>\n",
       "      <td>0.407120</td>\n",
       "      <td>0.592880</td>\n",
       "    </tr>\n",
       "    <tr>\n",
       "      <th>30055</th>\n",
       "      <td>0.407120</td>\n",
       "      <td>0.592880</td>\n",
       "    </tr>\n",
       "    <tr>\n",
       "      <th>30056</th>\n",
       "      <td>0.407120</td>\n",
       "      <td>0.592880</td>\n",
       "    </tr>\n",
       "    <tr>\n",
       "      <th>30057</th>\n",
       "      <td>0.407120</td>\n",
       "      <td>0.592880</td>\n",
       "    </tr>\n",
       "    <tr>\n",
       "      <th>30058</th>\n",
       "      <td>0.407120</td>\n",
       "      <td>0.592880</td>\n",
       "    </tr>\n",
       "  </tbody>\n",
       "</table>\n",
       "<p>30059 rows × 2 columns</p>\n",
       "</div>"
      ],
      "text/plain": [
       "              0         1\n",
       "0      0.629128  0.370872\n",
       "1      0.629875  0.370125\n",
       "2      0.629773  0.370226\n",
       "3      0.629128  0.370872\n",
       "4      0.630765  0.369235\n",
       "...         ...       ...\n",
       "30054  0.407120  0.592880\n",
       "30055  0.407120  0.592880\n",
       "30056  0.407120  0.592880\n",
       "30057  0.407120  0.592880\n",
       "30058  0.407120  0.592880\n",
       "\n",
       "[30059 rows x 2 columns]"
      ]
     },
     "execution_count": 31,
     "metadata": {},
     "output_type": "execute_result"
    }
   ],
   "source": [
    "y_pred_proba"
   ]
  },
  {
   "cell_type": "markdown",
   "metadata": {},
   "source": [
    "#### xgboost "
   ]
  },
  {
   "cell_type": "code",
   "execution_count": null,
   "metadata": {},
   "outputs": [],
   "source": [
    "import xgboost as xgb # direct xgboost library\n",
    "from xgboost.sklearn import XGBClassifier # sklearn wrapper   \n",
    "from sklearn.model_selection import GridSearchCV "
   ]
  },
  {
   "cell_type": "code",
   "execution_count": null,
   "metadata": {},
   "outputs": [],
   "source": [
    "def get_class_weight(y_train):\n",
    "    \n",
    "    from sklearn.utils.class_weight import compute_class_weight\n",
    "    cls = np.unique(y_train)\n",
    "    cls_weight = compute_class_weight('balanced', cls, y_train)\n",
    "    class_weight_dict = dict(zip(cls, cls_weight))\n",
    "    return class_weight_dict"
   ]
  },
  {
   "cell_type": "code",
   "execution_count": 57,
   "metadata": {},
   "outputs": [],
   "source": [
    "\n",
    "init_est = XGBClassifier(learning_rate =0.3, # this is analogue to eta, Typical: 0.01-0.2\n",
    "                         n_estimators=260, # the number of iterations/trees.  \n",
    "                         max_depth=5, # Typical values: 3-10 \n",
    "                         min_child_weight=1,\n",
    "                         gamma=0, # min_split_loss\n",
    "                         subsample=0.8, # the fraction of observations to be randomly samples for each tree. 0.5-1\n",
    "                         colsample_bytree=0.8, # the fraction of columns to be randomly samples for each tree. 0.5-1\n",
    "#                          objective= 'multi:softprob', \n",
    "                         reg_alpha = 0.01,\n",
    "                         seed=123, early_stopping_rounds=50,n_jobs=4)\n",
    "\n",
    "\n",
    "'''\n",
    "Tune hyperparameters \n",
    "'''\n",
    "def xgb_train_cv(x_train, y_train, init_estimator = init_est, n_folds = 5, scoring = 'f1'):\n",
    "    \n",
    "    import warnings\n",
    "    warnings.filterwarnings(\"ignore\")\n",
    "    \n",
    "    param_groups = {\n",
    "        '1':{ # 1. Tune max_depth and min_child_weight\n",
    "            'max_depth': range(8,16),\n",
    "            'min_child_weight':range(1,4)\n",
    "        },\n",
    "        '2':{ # 2. Tune gamma\n",
    "            'gamma':[i/10.0 for i in range(0,5)]\n",
    "        },\n",
    "        '3':{ # 3. Tune subsample and colsample_bytree\n",
    "            'subsample':[i/10.0 for i in range(6,10)],\n",
    "            'colsample_bytree':[i/10.0 for i in range(6,10)]\n",
    "        },\n",
    "        '4':{ # 4. Tuning Regularization Parameters\n",
    "            'reg_alpha':[0, 0.001, 0.005, 0.01, 0.05]\n",
    "        },\n",
    "        '5': { # 5. Tuning learning rate and the number of estimators\n",
    "            'learning_rate':[ .2, .1, .05, .01, .005, .001],\n",
    "            'n_estimators': [int(x) for x in range(50,200,5)],\n",
    "        }\n",
    "    }\n",
    "    best_param = {}\n",
    "    cv_results = {}\n",
    "    best_est = init_est\n",
    "    \n",
    "    for k, params in param_groups.items():\n",
    "        xgb_cv = GridSearchCV(estimator = best_est, param_grid = params, \n",
    "                              scoring=scoring,n_jobs=4,cv=n_folds,return_train_score=True)\n",
    "        xgb_cv.fit(x_train,y_train)\n",
    "        best_param[k] = xgb_cv.best_params_\n",
    "        cv_results[k] = xgb_cv.cv_results_\n",
    "        \n",
    "        best_est = xgb_cv.best_estimator_\n",
    "        best_est.get_booster().set_param(xgb_cv.best_params_)\n",
    "    \n",
    "    return cv_results,best_param,best_est\n"
   ]
  },
  {
   "cell_type": "code",
   "execution_count": 58,
   "metadata": {},
   "outputs": [
    {
     "name": "stdout",
     "output_type": "stream",
     "text": [
      "[10:40:55] WARNING: ../src/learner.cc:573: \n",
      "Parameters: { \"early_stopping_rounds\" } might not be used.\n",
      "\n",
      "  This may not be accurate due to some parameters are only used in language bindings but\n",
      "  passed down to XGBoost core.  Or some parameters are not used but slip through this\n",
      "  verification. Please open an issue if you find above cases.\n",
      "\n",
      "\n",
      "[10:40:55] WARNING: ../src/learner.cc:1095: Starting in XGBoost 1.3.0, the default evaluation metric used with the objective 'binary:logistic' was changed from 'error' to 'logloss'. Explicitly set eval_metric if you'd like to restore the old behavior.\n",
      "[10:43:31] WARNING: ../src/learner.cc:573: \n",
      "Parameters: { \"early_stopping_rounds\" } might not be used.\n",
      "\n",
      "  This may not be accurate due to some parameters are only used in language bindings but\n",
      "  passed down to XGBoost core.  Or some parameters are not used but slip through this\n",
      "  verification. Please open an issue if you find above cases.\n",
      "\n",
      "\n",
      "[10:43:31] WARNING: ../src/learner.cc:1095: Starting in XGBoost 1.3.0, the default evaluation metric used with the objective 'binary:logistic' was changed from 'error' to 'logloss'. Explicitly set eval_metric if you'd like to restore the old behavior.\n",
      "[10:50:51] WARNING: ../src/learner.cc:573: \n",
      "Parameters: { \"early_stopping_rounds\" } might not be used.\n",
      "\n",
      "  This may not be accurate due to some parameters are only used in language bindings but\n",
      "  passed down to XGBoost core.  Or some parameters are not used but slip through this\n",
      "  verification. Please open an issue if you find above cases.\n",
      "\n",
      "\n",
      "[10:50:51] WARNING: ../src/learner.cc:1095: Starting in XGBoost 1.3.0, the default evaluation metric used with the objective 'binary:logistic' was changed from 'error' to 'logloss'. Explicitly set eval_metric if you'd like to restore the old behavior.\n",
      "[10:54:07] WARNING: ../src/learner.cc:573: \n",
      "Parameters: { \"early_stopping_rounds\" } might not be used.\n",
      "\n",
      "  This may not be accurate due to some parameters are only used in language bindings but\n",
      "  passed down to XGBoost core.  Or some parameters are not used but slip through this\n",
      "  verification. Please open an issue if you find above cases.\n",
      "\n",
      "\n",
      "[10:54:08] WARNING: ../src/learner.cc:1095: Starting in XGBoost 1.3.0, the default evaluation metric used with the objective 'binary:logistic' was changed from 'error' to 'logloss'. Explicitly set eval_metric if you'd like to restore the old behavior.\n",
      "[11:34:33] WARNING: ../src/learner.cc:573: \n",
      "Parameters: { \"early_stopping_rounds\" } might not be used.\n",
      "\n",
      "  This may not be accurate due to some parameters are only used in language bindings but\n",
      "  passed down to XGBoost core.  Or some parameters are not used but slip through this\n",
      "  verification. Please open an issue if you find above cases.\n",
      "\n",
      "\n",
      "[11:34:33] WARNING: ../src/learner.cc:1095: Starting in XGBoost 1.3.0, the default evaluation metric used with the objective 'binary:logistic' was changed from 'error' to 'logloss'. Explicitly set eval_metric if you'd like to restore the old behavior.\n"
     ]
    }
   ],
   "source": [
    "# train model based on f1_weighted metric\n",
    "# imbalance data must use f1_weighted\n",
    "xgb_cv_results, best_param,best_est= xgb_train_cv(x_train, y_train.values, init_estimator=init_est,scoring='f1_weighted')\n",
    "\n"
   ]
  },
  {
   "cell_type": "code",
   "execution_count": 60,
   "metadata": {},
   "outputs": [
    {
     "name": "stdout",
     "output_type": "stream",
     "text": [
      "[13:00:02] WARNING: ../src/learner.cc:573: \n",
      "Parameters: { \"n_estimators\" } might not be used.\n",
      "\n",
      "  This may not be accurate due to some parameters are only used in language bindings but\n",
      "  passed down to XGBoost core.  Or some parameters are not used but slip through this\n",
      "  verification. Please open an issue if you find above cases.\n",
      "\n",
      "\n"
     ]
    },
    {
     "data": {
      "text/plain": [
       "XGBClassifier(base_score=0.5, booster='gbtree', colsample_bylevel=1,\n",
       "              colsample_bynode=1, colsample_bytree=0.9,\n",
       "              early_stopping_rounds=50, gamma=0.4, gpu_id=-1,\n",
       "              importance_type='gain', interaction_constraints='',\n",
       "              learning_rate=0.01, max_delta_step=0, max_depth=10,\n",
       "              min_child_weight=1, missing=nan, monotone_constraints='()',\n",
       "              n_estimators=85, n_jobs=4, num_parallel_tree=1, random_state=123,\n",
       "              reg_alpha=0.005, reg_lambda=1, scale_pos_weight=1, seed=123,\n",
       "              subsample=0.9, tree_method='exact', validate_parameters=1,\n",
       "              verbosity=None)"
      ]
     },
     "execution_count": 60,
     "metadata": {},
     "output_type": "execute_result"
    }
   ],
   "source": [
    "best_est"
   ]
  },
  {
   "cell_type": "code",
   "execution_count": 59,
   "metadata": {},
   "outputs": [
    {
     "data": {
      "text/plain": [
       "{'1': {'max_depth': 10, 'min_child_weight': 1},\n",
       " '2': {'gamma': 0.4},\n",
       " '3': {'colsample_bytree': 0.9, 'subsample': 0.9},\n",
       " '4': {'reg_alpha': 0.005},\n",
       " '5': {'learning_rate': 0.01, 'n_estimators': 85}}"
      ]
     },
     "execution_count": 59,
     "metadata": {},
     "output_type": "execute_result"
    }
   ],
   "source": [
    "best_param"
   ]
  },
  {
   "cell_type": "code",
   "execution_count": 61,
   "metadata": {},
   "outputs": [
    {
     "name": "stdout",
     "output_type": "stream",
     "text": [
      "[13:00:21] WARNING: ../src/learner.cc:573: \n",
      "Parameters: { \"early_stopping_rounds\" } might not be used.\n",
      "\n",
      "  This may not be accurate due to some parameters are only used in language bindings but\n",
      "  passed down to XGBoost core.  Or some parameters are not used but slip through this\n",
      "  verification. Please open an issue if you find above cases.\n",
      "\n",
      "\n",
      "[13:00:21] WARNING: ../src/learner.cc:1095: Starting in XGBoost 1.3.0, the default evaluation metric used with the objective 'binary:logistic' was changed from 'error' to 'logloss'. Explicitly set eval_metric if you'd like to restore the old behavior.\n",
      "[13:00:24] WARNING: ../src/learner.cc:573: \n",
      "Parameters: { \"early_stopping_rounds\" } might not be used.\n",
      "\n",
      "  This may not be accurate due to some parameters are only used in language bindings but\n",
      "  passed down to XGBoost core.  Or some parameters are not used but slip through this\n",
      "  verification. Please open an issue if you find above cases.\n",
      "\n",
      "\n",
      "[13:00:24] WARNING: ../src/learner.cc:1095: Starting in XGBoost 1.3.0, the default evaluation metric used with the objective 'binary:logistic' was changed from 'error' to 'logloss'. Explicitly set eval_metric if you'd like to restore the old behavior.\n",
      "val_f1: 0.9899 \n",
      " test1: auc= 0.992 aps= 0.984 mcc= 0.948 \n",
      " test2: auc= 0.900 aps= 0.833\n"
     ]
    }
   ],
   "source": [
    "XGBClassifier(base_score=0.5, booster='gbtree', colsample_bylevel=1,\n",
    "              colsample_bynode=1, colsample_bytree=0.9,\n",
    "              early_stopping_rounds=50, gamma=0.4, gpu_id=-1,\n",
    "              importance_type='gain', interaction_constraints='',\n",
    "              learning_rate=0.01, max_delta_step=0, max_depth=10,\n",
    "              min_child_weight=1,\n",
    "              n_estimators=85, n_jobs=4, num_parallel_tree=1, random_state=123,\n",
    "              reg_alpha=0.005, reg_lambda=1, scale_pos_weight=1, seed=123,\n",
    "              subsample=0.9, tree_method='exact', validate_parameters=1,\n",
    "              verbosity=None)\n",
    "test_test2_auc(xgb,x_train, y_train,x_test1,y_test1,x_test2,y_test2,x_test3_1,y_test3_1)"
   ]
  },
  {
   "cell_type": "code",
   "execution_count": null,
   "metadata": {},
   "outputs": [],
   "source": [
    "\n",
    "init_est = GradientBoostingClassifier(learning_rate=0.15, \n",
    "                                      #min_impurity_decrease=0,\n",
    "                           min_samples_leaf=0.01, \n",
    "                                      #min_weight_fraction_leaf=0,\n",
    "                           random_state=123)\n",
    "\n",
    "\n",
    "'''\n",
    "Tune hyperparameters \n",
    "'''\n",
    "def gdbt_train_cv(x_train, y_train, init_estimator = init_est, n_folds = 5, scoring = 'f1_weighted'):\n",
    "    \n",
    "    import warnings\n",
    "    warnings.filterwarnings(\"ignore\")\n",
    "    \n",
    "    param_groups = {\n",
    "        '1':{ # 1. Tune max_depth and min_child_weight\n",
    "            'learning_rate':[0.1,0.15,0.2]\n",
    "        },\n",
    "#         '2':{ # 2. Tune \n",
    "#             'min_impurity_decrease':[0,0.01,]\n",
    "#         },\n",
    "        '2':{ # 3. \n",
    "#             'min_samples_split':range(800,1900,200), \n",
    "            'min_samples_leaf':[0.01,0.1,0.2]\n",
    "\n",
    "        },\n",
    "#         '4':{ # 4. \n",
    "#             'min_weight_fraction_leaf':['None',2,3,4,5,6,7,8]\n",
    "#         },\n",
    "#         '3': { # 5. Tuning learning rate and the number of estimators\n",
    "#             'tol':[1e-5,1e-3,1e-4]\n",
    "#         }\n",
    "    }\n",
    "    best_param = {}\n",
    "    cv_results = {}\n",
    "    best_est = init_est\n",
    "    \n",
    "    for k, params in param_groups.items():\n",
    "        gdbt_cv = GridSearchCV(estimator = best_est, param_grid = params, \n",
    "                              scoring=scoring,n_jobs=10,cv=n_folds,return_train_score=True)\n",
    "        gdbt_cv.fit(x_train,y_train)\n",
    "        best_param[k] = gdbt_cv.best_params_\n",
    "        cv_results[k] = gdbt_cv.cv_results_\n",
    "        \n",
    "        best_est = gdbt_cv.best_estimator_\n",
    "#         best_est.get_booster().set_param(gdbt_cv.best_params_)\n",
    "    \n",
    "    return cv_results,best_param,best_est\n"
   ]
  },
  {
   "cell_type": "code",
   "execution_count": null,
   "metadata": {},
   "outputs": [],
   "source": [
    "gdbt_cv_results, best_param,best_est= gdbt_train_cv(x_train, y_train.values, init_estimator=init_est,scoring='f1_weighted')\n",
    "\n"
   ]
  },
  {
   "cell_type": "code",
   "execution_count": null,
   "metadata": {},
   "outputs": [],
   "source": [
    "best_est"
   ]
  },
  {
   "cell_type": "code",
   "execution_count": 188,
   "metadata": {},
   "outputs": [
    {
     "data": {
      "text/plain": [
       "['0.9856', '0.997', '0.991', '0.946', '0.967', '0.932']"
      ]
     },
     "execution_count": 188,
     "metadata": {},
     "output_type": "execute_result"
    }
   ],
   "source": [
    "test_test2_auc(best_est,x_train, y_train,x_test1,y_test1,x_test2,y_test2)"
   ]
  },
  {
   "cell_type": "code",
   "execution_count": 181,
   "metadata": {},
   "outputs": [
    {
     "data": {
      "text/plain": [
       "['0.9885', '0.997', '0.992', '0.951', '0.969', '0.939']"
      ]
     },
     "execution_count": 181,
     "metadata": {},
     "output_type": "execute_result"
    }
   ],
   "source": [
    "clf=GradientBoostingClassifier(learning_rate=0.15, min_impurity_decrease=0,\n",
    "                           min_samples_leaf=0.01, min_weight_fraction_leaf=0,\n",
    "                           random_state=123, subsample=1)\n",
    "test_test2_auc(clf,x_train, y_train,x_test1,y_test1,x_test2,y_test2)"
   ]
  },
  {
   "cell_type": "code",
   "execution_count": null,
   "metadata": {},
   "outputs": [],
   "source": []
  },
  {
   "cell_type": "code",
   "execution_count": 137,
   "metadata": {},
   "outputs": [],
   "source": [
    "para_list = [\n",
    "            'loss',#loss loss{‘deviance’, ‘exponential’}, default=’deviance’\n",
    "             'learning_rate',#learning_ratefloat, default=0.1\n",
    "             'n_estimators',#n_estimatorsint, default=100\n",
    "             'subsample',#subsamplefloat, default=1.0\n",
    "             'criterion',#criterion{‘friedman_mse’, ‘squared_error’, ‘mse’, ‘mae’}, default=’friedman_mse’\n",
    "             'min_samples_split',#min_samples_splitint or float, default=2\n",
    "             'max_depth',#max_depthint, default=3\n",
    "             'min_samples_leaf',#min_samples_leafint or float, default=1\n",
    "             'min_weight_fraction_leaf',#min_weight_fraction_leaffloat, default=0.0\n",
    "             'min_impurity_decrease',#min_impurity_decreasefloat, default=0.0\n",
    "             'max_features',#max_features{‘auto’, ‘sqrt’, ‘log2’}, int or float, default=None\n",
    "             'max_leaf_nodes',#max_leaf_nodesint, default=None\n",
    "             #'tolfloat',#tolfloat, default=1e-4\n",
    "            ]\n",
    "para_space=[\n",
    "            ['exponential'],#loss loss{‘deviance’, ‘exponential’}, default=’deviance’\n",
    "             [0.001,0.01,0.05,0.2,0.4],#learning_ratefloat, default=0.1\n",
    "             [2,4,8,10,20,40,60,100,140,160,200,300],#n_estimatorsint, default=100\n",
    "             [0.6,0.8,0.9],#subsamplefloat, default=1.0\n",
    "             ['squared_error'],#criterion{‘friedman_mse’, ‘squared_error’, ‘mse’, ‘mae’}, default=’friedman_mse’\n",
    "             [3,4,6,8,10],#min_samples_splitint or float, default=2\n",
    "             [2,4,6,8,10,20,40],#max_depthint, default=3\n",
    "             [2,4,6,10,20,40,100,200],#min_samples_leafint or float, default=1\n",
    "             [0.001,0.01,0.1],#min_weight_fraction_leaffloat, default=0.0\n",
    "             [0.001,0.01,0.1],#min_impurity_decreasefloat, default=0.0\n",
    "             ['auto','sqrt','log2',2,4,6,10,20],#max_features{‘auto’, ‘sqrt’, ‘log2’}, int or float, default=None\n",
    "             [2,4,6,10,20],#max_leaf_nodesint, default=None\n",
    "             #[1e-6,1e-5,1e-3,1e-2]#tolfloat, default=1e-4    \n",
    "]"
   ]
  },
  {
   "cell_type": "code",
   "execution_count": 130,
   "metadata": {},
   "outputs": [
    {
     "ename": "TypeError",
     "evalue": "__init__() got an unexpected keyword argument 'tolfloat'",
     "output_type": "error",
     "traceback": [
      "\u001b[0;31m---------------------------------------------------------------------------\u001b[0m",
      "\u001b[0;31mTypeError\u001b[0m                                 Traceback (most recent call last)",
      "\u001b[0;32m<ipython-input-130-4f2d6c3e47ee>\u001b[0m in \u001b[0;36m<module>\u001b[0;34m\u001b[0m\n\u001b[1;32m     10\u001b[0m     \u001b[0;32mfor\u001b[0m \u001b[0mn\u001b[0m \u001b[0;32min\u001b[0m \u001b[0mpara_space\u001b[0m\u001b[0;34m[\u001b[0m\u001b[0mm\u001b[0m\u001b[0;34m]\u001b[0m\u001b[0;34m:\u001b[0m\u001b[0;34m\u001b[0m\u001b[0;34m\u001b[0m\u001b[0m\n\u001b[1;32m     11\u001b[0m         \u001b[0mpara_dict\u001b[0m\u001b[0;34m=\u001b[0m\u001b[0;34m{\u001b[0m\u001b[0mpara_list\u001b[0m\u001b[0;34m[\u001b[0m\u001b[0mm\u001b[0m\u001b[0;34m]\u001b[0m\u001b[0;34m:\u001b[0m\u001b[0mn\u001b[0m\u001b[0;34m}\u001b[0m\u001b[0;34m\u001b[0m\u001b[0;34m\u001b[0m\u001b[0m\n\u001b[0;32m---> 12\u001b[0;31m         \u001b[0mclf\u001b[0m \u001b[0;34m=\u001b[0m \u001b[0mGradientBoostingClassifier\u001b[0m\u001b[0;34m(\u001b[0m\u001b[0mrandom_state\u001b[0m\u001b[0;34m=\u001b[0m\u001b[0;36m123\u001b[0m\u001b[0;34m,\u001b[0m\u001b[0;34m**\u001b[0m\u001b[0mpara_dict\u001b[0m\u001b[0;34m)\u001b[0m\u001b[0;34m\u001b[0m\u001b[0;34m\u001b[0m\u001b[0m\n\u001b[0m\u001b[1;32m     13\u001b[0m \u001b[0;34m\u001b[0m\u001b[0m\n\u001b[1;32m     14\u001b[0m         \u001b[0mout\u001b[0m\u001b[0;34m=\u001b[0m\u001b[0mtest_test2_auc\u001b[0m\u001b[0;34m(\u001b[0m\u001b[0mclf\u001b[0m\u001b[0;34m,\u001b[0m\u001b[0mx_train\u001b[0m\u001b[0;34m,\u001b[0m \u001b[0my_train\u001b[0m\u001b[0;34m,\u001b[0m\u001b[0mx_test1\u001b[0m\u001b[0;34m,\u001b[0m\u001b[0my_test1\u001b[0m\u001b[0;34m,\u001b[0m\u001b[0mx_test2\u001b[0m\u001b[0;34m,\u001b[0m\u001b[0my_test2\u001b[0m\u001b[0;34m)\u001b[0m\u001b[0;34m\u001b[0m\u001b[0;34m\u001b[0m\u001b[0m\n",
      "\u001b[0;31mTypeError\u001b[0m: __init__() got an unexpected keyword argument 'tolfloat'"
     ]
    }
   ],
   "source": [
    "#para=pd.DataFrame()\n",
    "val_list=[]\n",
    "test1_auc_list=[]\n",
    "test1_aps_list=[]\n",
    "test1_mcc_list=[]\n",
    "test2_auc_list=[]\n",
    "test2_aps_list=[]\n",
    "\n",
    "for m in range(13):\n",
    "    for n in para_space[m]:\n",
    "        para_dict={para_list[m]:n}\n",
    "        clf = GradientBoostingClassifier(random_state=123,**para_dict)\n",
    "        \n",
    "        out=test_test2_auc(clf,x_train, y_train,x_test1,y_test1,x_test2,y_test2)\n",
    "        val_list.append(out[0])\n",
    "        test1_auc_list.append(out[1])\n",
    "        test1_aps_list.append(out[2])\n",
    "        test1_mcc_list.append(out[3])\n",
    "        test2_auc_list.append(out[4])\n",
    "        test2_aps_list.append(out[5])"
   ]
  },
  {
   "cell_type": "code",
   "execution_count": 149,
   "metadata": {},
   "outputs": [
    {
     "data": {
      "text/html": [
       "<div>\n",
       "<style scoped>\n",
       "    .dataframe tbody tr th:only-of-type {\n",
       "        vertical-align: middle;\n",
       "    }\n",
       "\n",
       "    .dataframe tbody tr th {\n",
       "        vertical-align: top;\n",
       "    }\n",
       "\n",
       "    .dataframe thead th {\n",
       "        text-align: right;\n",
       "    }\n",
       "</style>\n",
       "<table border=\"1\" class=\"dataframe\">\n",
       "  <thead>\n",
       "    <tr style=\"text-align: right;\">\n",
       "      <th></th>\n",
       "      <th>index</th>\n",
       "      <th>value</th>\n",
       "      <th>val_f1</th>\n",
       "      <th>test1_auc</th>\n",
       "      <th>test1_aps</th>\n",
       "      <th>test1_mcc</th>\n",
       "      <th>test2_auc</th>\n",
       "      <th>test2_aps</th>\n",
       "    </tr>\n",
       "  </thead>\n",
       "  <tbody>\n",
       "    <tr>\n",
       "      <th>40</th>\n",
       "      <td>min_samples_leaf</td>\n",
       "      <td>100</td>\n",
       "      <td>0.9886</td>\n",
       "      <td>0.995</td>\n",
       "      <td>0.987</td>\n",
       "      <td>0.953</td>\n",
       "      <td>0.962</td>\n",
       "      <td>0.921</td>\n",
       "    </tr>\n",
       "    <tr>\n",
       "      <th>42</th>\n",
       "      <td>min_weight_fraction_leaf</td>\n",
       "      <td>0.001</td>\n",
       "      <td>0.9879</td>\n",
       "      <td>0.994</td>\n",
       "      <td>0.987</td>\n",
       "      <td>0.951</td>\n",
       "      <td>0.962</td>\n",
       "      <td>0.921</td>\n",
       "    </tr>\n",
       "    <tr>\n",
       "      <th>56</th>\n",
       "      <td>max_leaf_nodes</td>\n",
       "      <td>2</td>\n",
       "      <td>0.9751</td>\n",
       "      <td>0.997</td>\n",
       "      <td>0.991</td>\n",
       "      <td>0.953</td>\n",
       "      <td>0.961</td>\n",
       "      <td>0.922</td>\n",
       "    </tr>\n",
       "    <tr>\n",
       "      <th>49</th>\n",
       "      <td>max_features</td>\n",
       "      <td>sqrt</td>\n",
       "      <td>0.9861</td>\n",
       "      <td>0.997</td>\n",
       "      <td>0.992</td>\n",
       "      <td>0.947</td>\n",
       "      <td>0.964</td>\n",
       "      <td>0.922</td>\n",
       "    </tr>\n",
       "    <tr>\n",
       "      <th>57</th>\n",
       "      <td>max_leaf_nodes</td>\n",
       "      <td>4</td>\n",
       "      <td>0.9869</td>\n",
       "      <td>0.997</td>\n",
       "      <td>0.991</td>\n",
       "      <td>0.950</td>\n",
       "      <td>0.962</td>\n",
       "      <td>0.923</td>\n",
       "    </tr>\n",
       "    <tr>\n",
       "      <th>59</th>\n",
       "      <td>max_leaf_nodes</td>\n",
       "      <td>10</td>\n",
       "      <td>0.9887</td>\n",
       "      <td>0.995</td>\n",
       "      <td>0.988</td>\n",
       "      <td>0.952</td>\n",
       "      <td>0.962</td>\n",
       "      <td>0.924</td>\n",
       "    </tr>\n",
       "    <tr>\n",
       "      <th>45</th>\n",
       "      <td>min_impurity_decrease</td>\n",
       "      <td>0.001</td>\n",
       "      <td>0.9887</td>\n",
       "      <td>0.995</td>\n",
       "      <td>0.988</td>\n",
       "      <td>0.952</td>\n",
       "      <td>0.962</td>\n",
       "      <td>0.924</td>\n",
       "    </tr>\n",
       "    <tr>\n",
       "      <th>46</th>\n",
       "      <td>min_impurity_decrease</td>\n",
       "      <td>0.01</td>\n",
       "      <td>0.9887</td>\n",
       "      <td>0.995</td>\n",
       "      <td>0.988</td>\n",
       "      <td>0.952</td>\n",
       "      <td>0.962</td>\n",
       "      <td>0.924</td>\n",
       "    </tr>\n",
       "    <tr>\n",
       "      <th>47</th>\n",
       "      <td>min_impurity_decrease</td>\n",
       "      <td>0.1</td>\n",
       "      <td>0.9885</td>\n",
       "      <td>0.995</td>\n",
       "      <td>0.988</td>\n",
       "      <td>0.952</td>\n",
       "      <td>0.962</td>\n",
       "      <td>0.924</td>\n",
       "    </tr>\n",
       "    <tr>\n",
       "      <th>48</th>\n",
       "      <td>max_features</td>\n",
       "      <td>auto</td>\n",
       "      <td>0.9887</td>\n",
       "      <td>0.995</td>\n",
       "      <td>0.988</td>\n",
       "      <td>0.952</td>\n",
       "      <td>0.962</td>\n",
       "      <td>0.924</td>\n",
       "    </tr>\n",
       "    <tr>\n",
       "      <th>27</th>\n",
       "      <td>max_depth</td>\n",
       "      <td>2</td>\n",
       "      <td>0.9848</td>\n",
       "      <td>0.997</td>\n",
       "      <td>0.990</td>\n",
       "      <td>0.947</td>\n",
       "      <td>0.964</td>\n",
       "      <td>0.924</td>\n",
       "    </tr>\n",
       "    <tr>\n",
       "      <th>26</th>\n",
       "      <td>min_samples_split</td>\n",
       "      <td>10</td>\n",
       "      <td>0.9888</td>\n",
       "      <td>0.995</td>\n",
       "      <td>0.988</td>\n",
       "      <td>0.952</td>\n",
       "      <td>0.962</td>\n",
       "      <td>0.924</td>\n",
       "    </tr>\n",
       "    <tr>\n",
       "      <th>25</th>\n",
       "      <td>min_samples_split</td>\n",
       "      <td>8</td>\n",
       "      <td>0.9887</td>\n",
       "      <td>0.995</td>\n",
       "      <td>0.988</td>\n",
       "      <td>0.952</td>\n",
       "      <td>0.962</td>\n",
       "      <td>0.924</td>\n",
       "    </tr>\n",
       "    <tr>\n",
       "      <th>60</th>\n",
       "      <td>max_leaf_nodes</td>\n",
       "      <td>20</td>\n",
       "      <td>0.9887</td>\n",
       "      <td>0.995</td>\n",
       "      <td>0.988</td>\n",
       "      <td>0.952</td>\n",
       "      <td>0.962</td>\n",
       "      <td>0.924</td>\n",
       "    </tr>\n",
       "    <tr>\n",
       "      <th>22</th>\n",
       "      <td>min_samples_split</td>\n",
       "      <td>3</td>\n",
       "      <td>0.9887</td>\n",
       "      <td>0.995</td>\n",
       "      <td>0.988</td>\n",
       "      <td>0.952</td>\n",
       "      <td>0.962</td>\n",
       "      <td>0.924</td>\n",
       "    </tr>\n",
       "    <tr>\n",
       "      <th>21</th>\n",
       "      <td>criterion</td>\n",
       "      <td>squared_error</td>\n",
       "      <td>0.9887</td>\n",
       "      <td>0.995</td>\n",
       "      <td>0.988</td>\n",
       "      <td>0.952</td>\n",
       "      <td>0.962</td>\n",
       "      <td>0.924</td>\n",
       "    </tr>\n",
       "    <tr>\n",
       "      <th>20</th>\n",
       "      <td>subsample</td>\n",
       "      <td>0.9</td>\n",
       "      <td>0.9886</td>\n",
       "      <td>0.996</td>\n",
       "      <td>0.988</td>\n",
       "      <td>0.952</td>\n",
       "      <td>0.961</td>\n",
       "      <td>0.924</td>\n",
       "    </tr>\n",
       "    <tr>\n",
       "      <th>13</th>\n",
       "      <td>n_estimators</td>\n",
       "      <td>100</td>\n",
       "      <td>0.9887</td>\n",
       "      <td>0.995</td>\n",
       "      <td>0.988</td>\n",
       "      <td>0.952</td>\n",
       "      <td>0.962</td>\n",
       "      <td>0.924</td>\n",
       "    </tr>\n",
       "    <tr>\n",
       "      <th>24</th>\n",
       "      <td>min_samples_split</td>\n",
       "      <td>6</td>\n",
       "      <td>0.9887</td>\n",
       "      <td>0.995</td>\n",
       "      <td>0.988</td>\n",
       "      <td>0.952</td>\n",
       "      <td>0.962</td>\n",
       "      <td>0.924</td>\n",
       "    </tr>\n",
       "    <tr>\n",
       "      <th>23</th>\n",
       "      <td>min_samples_split</td>\n",
       "      <td>4</td>\n",
       "      <td>0.9887</td>\n",
       "      <td>0.995</td>\n",
       "      <td>0.988</td>\n",
       "      <td>0.952</td>\n",
       "      <td>0.962</td>\n",
       "      <td>0.924</td>\n",
       "    </tr>\n",
       "    <tr>\n",
       "      <th>19</th>\n",
       "      <td>subsample</td>\n",
       "      <td>0.8</td>\n",
       "      <td>0.9887</td>\n",
       "      <td>0.995</td>\n",
       "      <td>0.987</td>\n",
       "      <td>0.953</td>\n",
       "      <td>0.964</td>\n",
       "      <td>0.925</td>\n",
       "    </tr>\n",
       "    <tr>\n",
       "      <th>55</th>\n",
       "      <td>max_features</td>\n",
       "      <td>20</td>\n",
       "      <td>0.9888</td>\n",
       "      <td>0.995</td>\n",
       "      <td>0.988</td>\n",
       "      <td>0.953</td>\n",
       "      <td>0.963</td>\n",
       "      <td>0.925</td>\n",
       "    </tr>\n",
       "    <tr>\n",
       "      <th>16</th>\n",
       "      <td>n_estimators</td>\n",
       "      <td>200</td>\n",
       "      <td>0.9904</td>\n",
       "      <td>0.996</td>\n",
       "      <td>0.990</td>\n",
       "      <td>0.952</td>\n",
       "      <td>0.964</td>\n",
       "      <td>0.926</td>\n",
       "    </tr>\n",
       "    <tr>\n",
       "      <th>0</th>\n",
       "      <td>loss</td>\n",
       "      <td>exponential</td>\n",
       "      <td>0.9867</td>\n",
       "      <td>0.993</td>\n",
       "      <td>0.986</td>\n",
       "      <td>0.945</td>\n",
       "      <td>0.964</td>\n",
       "      <td>0.928</td>\n",
       "    </tr>\n",
       "    <tr>\n",
       "      <th>39</th>\n",
       "      <td>min_samples_leaf</td>\n",
       "      <td>40</td>\n",
       "      <td>0.9884</td>\n",
       "      <td>0.995</td>\n",
       "      <td>0.987</td>\n",
       "      <td>0.953</td>\n",
       "      <td>0.964</td>\n",
       "      <td>0.929</td>\n",
       "    </tr>\n",
       "    <tr>\n",
       "      <th>15</th>\n",
       "      <td>n_estimators</td>\n",
       "      <td>160</td>\n",
       "      <td>0.9901</td>\n",
       "      <td>0.996</td>\n",
       "      <td>0.989</td>\n",
       "      <td>0.951</td>\n",
       "      <td>0.965</td>\n",
       "      <td>0.929</td>\n",
       "    </tr>\n",
       "    <tr>\n",
       "      <th>17</th>\n",
       "      <td>n_estimators</td>\n",
       "      <td>300</td>\n",
       "      <td>0.9906</td>\n",
       "      <td>0.996</td>\n",
       "      <td>0.990</td>\n",
       "      <td>0.951</td>\n",
       "      <td>0.964</td>\n",
       "      <td>0.929</td>\n",
       "    </tr>\n",
       "    <tr>\n",
       "      <th>54</th>\n",
       "      <td>max_features</td>\n",
       "      <td>10</td>\n",
       "      <td>0.9885</td>\n",
       "      <td>0.996</td>\n",
       "      <td>0.989</td>\n",
       "      <td>0.950</td>\n",
       "      <td>0.965</td>\n",
       "      <td>0.930</td>\n",
       "    </tr>\n",
       "    <tr>\n",
       "      <th>43</th>\n",
       "      <td>min_weight_fraction_leaf</td>\n",
       "      <td>0.01</td>\n",
       "      <td>0.9856</td>\n",
       "      <td>0.997</td>\n",
       "      <td>0.991</td>\n",
       "      <td>0.946</td>\n",
       "      <td>0.967</td>\n",
       "      <td>0.932</td>\n",
       "    </tr>\n",
       "    <tr>\n",
       "      <th>14</th>\n",
       "      <td>n_estimators</td>\n",
       "      <td>140</td>\n",
       "      <td>0.9896</td>\n",
       "      <td>0.996</td>\n",
       "      <td>0.989</td>\n",
       "      <td>0.951</td>\n",
       "      <td>0.967</td>\n",
       "      <td>0.932</td>\n",
       "    </tr>\n",
       "    <tr>\n",
       "      <th>37</th>\n",
       "      <td>min_samples_leaf</td>\n",
       "      <td>10</td>\n",
       "      <td>0.9886</td>\n",
       "      <td>0.995</td>\n",
       "      <td>0.987</td>\n",
       "      <td>0.953</td>\n",
       "      <td>0.966</td>\n",
       "      <td>0.933</td>\n",
       "    </tr>\n",
       "    <tr>\n",
       "      <th>36</th>\n",
       "      <td>min_samples_leaf</td>\n",
       "      <td>6</td>\n",
       "      <td>0.9887</td>\n",
       "      <td>0.995</td>\n",
       "      <td>0.988</td>\n",
       "      <td>0.953</td>\n",
       "      <td>0.963</td>\n",
       "      <td>0.933</td>\n",
       "    </tr>\n",
       "    <tr>\n",
       "      <th>58</th>\n",
       "      <td>max_leaf_nodes</td>\n",
       "      <td>6</td>\n",
       "      <td>0.9876</td>\n",
       "      <td>0.996</td>\n",
       "      <td>0.990</td>\n",
       "      <td>0.951</td>\n",
       "      <td>0.968</td>\n",
       "      <td>0.933</td>\n",
       "    </tr>\n",
       "    <tr>\n",
       "      <th>18</th>\n",
       "      <td>subsample</td>\n",
       "      <td>0.6</td>\n",
       "      <td>0.9883</td>\n",
       "      <td>0.994</td>\n",
       "      <td>0.987</td>\n",
       "      <td>0.949</td>\n",
       "      <td>0.967</td>\n",
       "      <td>0.933</td>\n",
       "    </tr>\n",
       "    <tr>\n",
       "      <th>41</th>\n",
       "      <td>min_samples_leaf</td>\n",
       "      <td>200</td>\n",
       "      <td>0.9879</td>\n",
       "      <td>0.995</td>\n",
       "      <td>0.988</td>\n",
       "      <td>0.949</td>\n",
       "      <td>0.966</td>\n",
       "      <td>0.933</td>\n",
       "    </tr>\n",
       "    <tr>\n",
       "      <th>38</th>\n",
       "      <td>min_samples_leaf</td>\n",
       "      <td>20</td>\n",
       "      <td>0.9879</td>\n",
       "      <td>0.995</td>\n",
       "      <td>0.988</td>\n",
       "      <td>0.953</td>\n",
       "      <td>0.966</td>\n",
       "      <td>0.935</td>\n",
       "    </tr>\n",
       "    <tr>\n",
       "      <th>52</th>\n",
       "      <td>max_features</td>\n",
       "      <td>4</td>\n",
       "      <td>0.9854</td>\n",
       "      <td>0.997</td>\n",
       "      <td>0.993</td>\n",
       "      <td>0.946</td>\n",
       "      <td>0.967</td>\n",
       "      <td>0.939</td>\n",
       "    </tr>\n",
       "    <tr>\n",
       "      <th>50</th>\n",
       "      <td>max_features</td>\n",
       "      <td>log2</td>\n",
       "      <td>0.9854</td>\n",
       "      <td>0.997</td>\n",
       "      <td>0.993</td>\n",
       "      <td>0.946</td>\n",
       "      <td>0.967</td>\n",
       "      <td>0.939</td>\n",
       "    </tr>\n",
       "    <tr>\n",
       "      <th>34</th>\n",
       "      <td>min_samples_leaf</td>\n",
       "      <td>2</td>\n",
       "      <td>0.9888</td>\n",
       "      <td>0.995</td>\n",
       "      <td>0.988</td>\n",
       "      <td>0.953</td>\n",
       "      <td>0.967</td>\n",
       "      <td>0.939</td>\n",
       "    </tr>\n",
       "    <tr>\n",
       "      <th>51</th>\n",
       "      <td>max_features</td>\n",
       "      <td>2</td>\n",
       "      <td>0.9838</td>\n",
       "      <td>0.997</td>\n",
       "      <td>0.992</td>\n",
       "      <td>0.958</td>\n",
       "      <td>0.967</td>\n",
       "      <td>0.939</td>\n",
       "    </tr>\n",
       "    <tr>\n",
       "      <th>35</th>\n",
       "      <td>min_samples_leaf</td>\n",
       "      <td>4</td>\n",
       "      <td>0.9884</td>\n",
       "      <td>0.995</td>\n",
       "      <td>0.988</td>\n",
       "      <td>0.952</td>\n",
       "      <td>0.969</td>\n",
       "      <td>0.941</td>\n",
       "    </tr>\n",
       "    <tr>\n",
       "      <th>53</th>\n",
       "      <td>max_features</td>\n",
       "      <td>6</td>\n",
       "      <td>0.9877</td>\n",
       "      <td>0.997</td>\n",
       "      <td>0.992</td>\n",
       "      <td>0.947</td>\n",
       "      <td>0.968</td>\n",
       "      <td>0.942</td>\n",
       "    </tr>\n",
       "  </tbody>\n",
       "</table>\n",
       "</div>"
      ],
      "text/plain": [
       "                       index          value  val_f1 test1_auc test1_aps  \\\n",
       "40          min_samples_leaf            100  0.9886     0.995     0.987   \n",
       "42  min_weight_fraction_leaf          0.001  0.9879     0.994     0.987   \n",
       "56            max_leaf_nodes              2  0.9751     0.997     0.991   \n",
       "49              max_features           sqrt  0.9861     0.997     0.992   \n",
       "57            max_leaf_nodes              4  0.9869     0.997     0.991   \n",
       "59            max_leaf_nodes             10  0.9887     0.995     0.988   \n",
       "45     min_impurity_decrease          0.001  0.9887     0.995     0.988   \n",
       "46     min_impurity_decrease           0.01  0.9887     0.995     0.988   \n",
       "47     min_impurity_decrease            0.1  0.9885     0.995     0.988   \n",
       "48              max_features           auto  0.9887     0.995     0.988   \n",
       "27                 max_depth              2  0.9848     0.997     0.990   \n",
       "26         min_samples_split             10  0.9888     0.995     0.988   \n",
       "25         min_samples_split              8  0.9887     0.995     0.988   \n",
       "60            max_leaf_nodes             20  0.9887     0.995     0.988   \n",
       "22         min_samples_split              3  0.9887     0.995     0.988   \n",
       "21                 criterion  squared_error  0.9887     0.995     0.988   \n",
       "20                 subsample            0.9  0.9886     0.996     0.988   \n",
       "13              n_estimators            100  0.9887     0.995     0.988   \n",
       "24         min_samples_split              6  0.9887     0.995     0.988   \n",
       "23         min_samples_split              4  0.9887     0.995     0.988   \n",
       "19                 subsample            0.8  0.9887     0.995     0.987   \n",
       "55              max_features             20  0.9888     0.995     0.988   \n",
       "16              n_estimators            200  0.9904     0.996     0.990   \n",
       "0                       loss    exponential  0.9867     0.993     0.986   \n",
       "39          min_samples_leaf             40  0.9884     0.995     0.987   \n",
       "15              n_estimators            160  0.9901     0.996     0.989   \n",
       "17              n_estimators            300  0.9906     0.996     0.990   \n",
       "54              max_features             10  0.9885     0.996     0.989   \n",
       "43  min_weight_fraction_leaf           0.01  0.9856     0.997     0.991   \n",
       "14              n_estimators            140  0.9896     0.996     0.989   \n",
       "37          min_samples_leaf             10  0.9886     0.995     0.987   \n",
       "36          min_samples_leaf              6  0.9887     0.995     0.988   \n",
       "58            max_leaf_nodes              6  0.9876     0.996     0.990   \n",
       "18                 subsample            0.6  0.9883     0.994     0.987   \n",
       "41          min_samples_leaf            200  0.9879     0.995     0.988   \n",
       "38          min_samples_leaf             20  0.9879     0.995     0.988   \n",
       "52              max_features              4  0.9854     0.997     0.993   \n",
       "50              max_features           log2  0.9854     0.997     0.993   \n",
       "34          min_samples_leaf              2  0.9888     0.995     0.988   \n",
       "51              max_features              2  0.9838     0.997     0.992   \n",
       "35          min_samples_leaf              4  0.9884     0.995     0.988   \n",
       "53              max_features              6  0.9877     0.997     0.992   \n",
       "\n",
       "   test1_mcc test2_auc test2_aps  \n",
       "40     0.953     0.962     0.921  \n",
       "42     0.951     0.962     0.921  \n",
       "56     0.953     0.961     0.922  \n",
       "49     0.947     0.964     0.922  \n",
       "57     0.950     0.962     0.923  \n",
       "59     0.952     0.962     0.924  \n",
       "45     0.952     0.962     0.924  \n",
       "46     0.952     0.962     0.924  \n",
       "47     0.952     0.962     0.924  \n",
       "48     0.952     0.962     0.924  \n",
       "27     0.947     0.964     0.924  \n",
       "26     0.952     0.962     0.924  \n",
       "25     0.952     0.962     0.924  \n",
       "60     0.952     0.962     0.924  \n",
       "22     0.952     0.962     0.924  \n",
       "21     0.952     0.962     0.924  \n",
       "20     0.952     0.961     0.924  \n",
       "13     0.952     0.962     0.924  \n",
       "24     0.952     0.962     0.924  \n",
       "23     0.952     0.962     0.924  \n",
       "19     0.953     0.964     0.925  \n",
       "55     0.953     0.963     0.925  \n",
       "16     0.952     0.964     0.926  \n",
       "0      0.945     0.964     0.928  \n",
       "39     0.953     0.964     0.929  \n",
       "15     0.951     0.965     0.929  \n",
       "17     0.951     0.964     0.929  \n",
       "54     0.950     0.965     0.930  \n",
       "43     0.946     0.967     0.932  \n",
       "14     0.951     0.967     0.932  \n",
       "37     0.953     0.966     0.933  \n",
       "36     0.953     0.963     0.933  \n",
       "58     0.951     0.968     0.933  \n",
       "18     0.949     0.967     0.933  \n",
       "41     0.949     0.966     0.933  \n",
       "38     0.953     0.966     0.935  \n",
       "52     0.946     0.967     0.939  \n",
       "50     0.946     0.967     0.939  \n",
       "34     0.953     0.967     0.939  \n",
       "51     0.958     0.967     0.939  \n",
       "35     0.952     0.969     0.941  \n",
       "53     0.947     0.968     0.942  "
      ]
     },
     "execution_count": 149,
     "metadata": {},
     "output_type": "execute_result"
    }
   ],
   "source": [
    "\n",
    "para_df=pd.DataFrame()\n",
    "para_index=[]\n",
    "para_value=[]\n",
    "for m in range(12):\n",
    "    for n in para_space[m]:\n",
    "        para_index.append(para_list[m])\n",
    "        para_value.append(n)\n",
    "\n",
    "para_df['index']=para_index\n",
    "para_df['value']=para_value\n",
    "para_df['val_f1']=val_list\n",
    "para_df['test1_auc']=test1_auc_list\n",
    "para_df['test1_aps']=test1_aps_list\n",
    "para_df['test1_mcc']=test1_mcc_list\n",
    "para_df['test2_auc']=test2_auc_list\n",
    "para_df['test2_aps']=test2_aps_list\n",
    "para_df[(para_df['test1_auc'].astype(float)>=0.990) & \n",
    "        (para_df['test1_aps'].astype(float)>=0.981) &\n",
    "        (para_df['test1_mcc'].astype(float)>=0.924) & \n",
    "        (para_df['test2_auc'].astype(float)>=0.958)].sort_values(by=['test2_aps'])"
   ]
  },
  {
   "cell_type": "code",
   "execution_count": 145,
   "metadata": {},
   "outputs": [
    {
     "data": {
      "text/plain": [
       "0      True\n",
       "1     False\n",
       "2     False\n",
       "3      True\n",
       "4      True\n",
       "      ...  \n",
       "56     True\n",
       "57     True\n",
       "58     True\n",
       "59     True\n",
       "60     True\n",
       "Name: test1_auc, Length: 61, dtype: bool"
      ]
     },
     "execution_count": 145,
     "metadata": {},
     "output_type": "execute_result"
    }
   ],
   "source": [
    "para_df['test1_auc'].astype(float)>=0.990"
   ]
  },
  {
   "cell_type": "code",
   "execution_count": 125,
   "metadata": {},
   "outputs": [
    {
     "data": {
      "text/plain": [
       "'0.9867'"
      ]
     },
     "execution_count": 125,
     "metadata": {},
     "output_type": "execute_result"
    }
   ],
   "source": []
  },
  {
   "cell_type": "code",
   "execution_count": 22,
   "metadata": {},
   "outputs": [],
   "source": [
    "#test1: auc=0.990, aps=0.981, mcc=0.924\n",
    "#test2: auc=0.958, aps=0.953"
   ]
  },
  {
   "cell_type": "code",
   "execution_count": 35,
   "metadata": {},
   "outputs": [],
   "source": [
    "# from xgboost import XGBClassifier\n",
    "# clf = XGBClassifier(random_state=123,n_jobs=20) \n",
    "# test_test2_auc(clf,x_train, y_train,x_test1,y_test1,x_test2,y_test2,x_test3_1,y_test3_1)\n"
   ]
  },
  {
   "cell_type": "code",
   "execution_count": 34,
   "metadata": {},
   "outputs": [
    {
     "name": "stdout",
     "output_type": "stream",
     "text": [
      "val_f1: 0.9886 \n",
      " test1: auc= 0.993 aps= 0.985 mcc= 0.942 \n",
      " test2: auc= 0.914 aps= 0.855\n"
     ]
    }
   ],
   "source": [
    "from sklearn.ensemble import RandomForestClassifier\n",
    "clf=RandomForestClassifier(random_state=123,n_jobs=20)\n",
    "test_test2_auc(clf,x_train, y_train,x_test1,y_test1,x_test2,y_test2,x_test3_1,y_test3_1)"
   ]
  },
  {
   "cell_type": "markdown",
   "metadata": {},
   "source": [
    "#### Parameter Tuning"
   ]
  },
  {
   "cell_type": "code",
   "execution_count": 36,
   "metadata": {},
   "outputs": [
    {
     "name": "stdout",
     "output_type": "stream",
     "text": [
      "val_f1: 0.9867 \n",
      " test1: auc= 0.993 aps= 0.986 mcc= 0.945 \n",
      " test2: auc= 0.964 aps= 0.928\n"
     ]
    }
   ],
   "source": [
    "#loss loss{‘deviance’, ‘exponential’}, default=’deviance’\n",
    "from sklearn.ensemble import GradientBoostingClassifier\n",
    "clf = GradientBoostingClassifier(random_state=123,loss='exponential')\n",
    "test_test2_auc(clf,x_train, y_train,x_test1,y_test1,x_test2,y_test2,x_test3_1,y_test3_1)"
   ]
  },
  {
   "cell_type": "code",
   "execution_count": 37,
   "metadata": {},
   "outputs": [
    {
     "name": "stdout",
     "output_type": "stream",
     "text": [
      "val_f1: 0.9799 \n",
      " test1: auc= 0.976 aps= 0.937 mcc= 0.932 \n",
      " test2: auc= 0.812 aps= 0.746\n",
      "0.001 None\n",
      "val_f1: 0.9769 \n",
      " test1: auc= 0.989 aps= 0.979 mcc= 0.930 \n",
      " test2: auc= 0.951 aps= 0.913\n",
      "0.01 None\n",
      "val_f1: 0.9832 \n",
      " test1: auc= 0.992 aps= 0.983 mcc= 0.946 \n",
      " test2: auc= 0.893 aps= 0.840\n",
      "0.05 None\n",
      "val_f1: 0.9903 \n",
      " test1: auc= 0.996 aps= 0.989 mcc= 0.950 \n",
      " test2: auc= 0.965 aps= 0.930\n",
      "0.15 None\n",
      "val_f1: 0.9905 \n",
      " test1: auc= 0.995 aps= 0.988 mcc= 0.951 \n",
      " test2: auc= 0.950 aps= 0.909\n",
      "0.2 None\n",
      "val_f1: 0.9908 \n",
      " test1: auc= 0.995 aps= 0.988 mcc= 0.951 \n",
      " test2: auc= 0.967 aps= 0.930\n",
      "0.3 None\n"
     ]
    }
   ],
   "source": [
    "loss='deviance'\n",
    "#learning_ratefloat, default=0.1\n",
    "from sklearn.ensemble import GradientBoostingClassifier\n",
    "for para in [0.001,0.01,0.05,0.15,0.2,0.3]:\n",
    "    \n",
    "    clf = GradientBoostingClassifier(random_state=123,loss=loss,\n",
    "                                    learning_rate=para)\n",
    "    out=test_test2_auc(clf,x_train, y_train,x_test1,y_test1,x_test2,y_test2,x_test3_1,y_test3_1)\n",
    "#     print(para,out)\n",
    "\n",
    "#"
   ]
  },
  {
   "cell_type": "code",
   "execution_count": 38,
   "metadata": {},
   "outputs": [
    {
     "name": "stdout",
     "output_type": "stream",
     "text": [
      "val_f1: 0.9811 \n",
      " test1: auc= 0.993 aps= 0.983 mcc= 0.941 \n",
      " test2: auc= 0.952 aps= 0.914\n",
      "10 None\n",
      "val_f1: 0.9862 \n",
      " test1: auc= 0.991 aps= 0.982 mcc= 0.947 \n",
      " test2: auc= 0.954 aps= 0.916\n",
      "20 None\n",
      "val_f1: 0.9893 \n",
      " test1: auc= 0.994 aps= 0.987 mcc= 0.952 \n",
      " test2: auc= 0.968 aps= 0.933\n",
      "40 None\n",
      "val_f1: 0.9903 \n",
      " test1: auc= 0.995 aps= 0.988 mcc= 0.951 \n",
      " test2: auc= 0.966 aps= 0.928\n",
      "60 None\n",
      "val_f1: 0.9906 \n",
      " test1: auc= 0.995 aps= 0.988 mcc= 0.953 \n",
      " test2: auc= 0.966 aps= 0.929\n",
      "80 None\n",
      "val_f1: 0.9908 \n",
      " test1: auc= 0.995 aps= 0.988 mcc= 0.951 \n",
      " test2: auc= 0.967 aps= 0.930\n",
      "100 None\n",
      "val_f1: 0.9908 \n",
      " test1: auc= 0.995 aps= 0.988 mcc= 0.951 \n",
      " test2: auc= 0.967 aps= 0.932\n",
      "120 None\n",
      "val_f1: 0.9908 \n",
      " test1: auc= 0.996 aps= 0.989 mcc= 0.951 \n",
      " test2: auc= 0.965 aps= 0.929\n",
      "140 None\n",
      "val_f1: 0.9908 \n",
      " test1: auc= 0.996 aps= 0.989 mcc= 0.949 \n",
      " test2: auc= 0.965 aps= 0.930\n",
      "160 None\n",
      "val_f1: 0.9908 \n",
      " test1: auc= 0.996 aps= 0.989 mcc= 0.950 \n",
      " test2: auc= 0.964 aps= 0.930\n",
      "180 None\n",
      "val_f1: 0.9907 \n",
      " test1: auc= 0.995 aps= 0.980 mcc= 0.948 \n",
      " test2: auc= 0.963 aps= 0.925\n",
      "200 None\n",
      "val_f1: 0.9908 \n",
      " test1: auc= 0.993 aps= 0.951 mcc= 0.943 \n",
      " test2: auc= 0.963 aps= 0.923\n",
      "300 None\n"
     ]
    }
   ],
   "source": [
    "learning_rate=0.3\n",
    "#n_estimatorsint, default=100\n",
    "from sklearn.ensemble import GradientBoostingClassifier\n",
    "for para in [10,20,40,60,80,100,120,140,160,180,200,300]:\n",
    "    \n",
    "    clf = GradientBoostingClassifier(random_state=123,loss=loss,learning_rate=learning_rate,\n",
    "                                    n_estimators=para)\n",
    "    out=test_test2_auc(clf,x_train, y_train,x_test1,y_test1,x_test2,y_test2,x_test3_1,y_test3_1)\n",
    "    print(para,out)\n",
    "    \n",
    "#"
   ]
  },
  {
   "cell_type": "code",
   "execution_count": 44,
   "metadata": {},
   "outputs": [
    {
     "name": "stdout",
     "output_type": "stream",
     "text": [
      "0.2 [0.9982050369578003, 0.9944515050546263, 0.9605509380657685, 0.008004939446802363]\n",
      "0.5 [0.9988045526305819, 0.9955821943424453, 0.9595631187339754, 0.005664098634750396]\n",
      "0.6 [0.9987415501025584, 0.995086532141076, 0.955152004094437, 0.004705597032039711]\n",
      "0.7 [0.9987350881666216, 0.9952242112063103, 0.9657205405821843, 0.006771766847312281]\n",
      "0.8 [0.9987996428527353, 0.9950841861598441, 0.963879415048888, 0.0058126154158870515]\n",
      "0.9 [0.9987828008595724, 0.9952845692234462, 0.9666495517070646, 0.004989525508528628]\n"
     ]
    }
   ],
   "source": [
    "n_estimators=100\n",
    "#subsamplefloat, default=1.0\n",
    "from sklearn.ensemble import GradientBoostingClassifier\n",
    "for para in [0.2,0.5,0.6,0.7,0.8,0.9]:\n",
    "    clf = GradientBoostingClassifier(random_state=123,\n",
    "                                     loss=loss,learning_rate=learning_rate,n_estimators=n_estimators,\n",
    "                                    subsample=para)\n",
    "    out=test_test2_auc(clf,x_train, y_train,x_test1,y_test1,x_test2,y_test2,x_test3_1,y_test3_1)\n",
    "    print(para,out)\n",
    "\n",
    "#"
   ]
  },
  {
   "cell_type": "code",
   "execution_count": 45,
   "metadata": {},
   "outputs": [
    {
     "name": "stdout",
     "output_type": "stream",
     "text": [
      "squared_error [0.998751197196242, 0.9957442058796863, 0.9640506429384115, 0.007062776925011272]\n"
     ]
    }
   ],
   "source": [
    "subsample=1\n",
    "#criterion{‘friedman_mse’, ‘squared_error’, ‘mse’, ‘mae’}, default=’friedman_mse’\n",
    "from sklearn.ensemble import GradientBoostingClassifier\n",
    "for para in ['squared_error']:\n",
    "    clf = GradientBoostingClassifier(random_state=123,\n",
    "                                     loss=loss,learning_rate=learning_rate,\n",
    "                                     n_estimators=n_estimators,subsample=subsample,\n",
    "                                    criterion=para)\n",
    "    out=test_test2_auc(clf,x_train, y_train,x_test1,y_test1,x_test2,y_test2,x_test3_1,y_test3_1)\n",
    "    print(para,out)\n",
    "\n",
    "#"
   ]
  },
  {
   "cell_type": "code",
   "execution_count": 46,
   "metadata": {},
   "outputs": [
    {
     "name": "stdout",
     "output_type": "stream",
     "text": [
      "2 [0.9987515636780132, 0.9957442058796863, 0.9640506429384115, 0.007062776925011272]\n",
      "4 [0.9987500222987991, 0.9958357728138176, 0.9636065866601026, 0.00628503116506283]\n",
      "6 [0.9987499145100428, 0.9958349001541321, 0.9636065866601026, 0.006285211433473836]\n",
      "8 [0.9987389308357817, 0.9958358181467881, 0.963607761062637, 0.006285153499357481]\n",
      "10 [0.9987388984991548, 0.9957340087945963, 0.9628942821628924, 0.006422869790063074]\n",
      "20 [0.998823340210795, 0.9956971899224806, 0.964337901798339, 0.006917161891105978]\n"
     ]
    }
   ],
   "source": [
    "criterion='friedman_mse'\n",
    "#\n",
    "#min_samples_splitint or float, default=2\n",
    "from sklearn.ensemble import GradientBoostingClassifier\n",
    "for para in [2,4,6,8,10,20]:\n",
    "    clf = GradientBoostingClassifier(random_state=123,\n",
    "            loss=loss,learning_rate=learning_rate,n_estimators=n_estimators,subsample=subsample,\n",
    "            criterion=criterion,\n",
    "            min_samples_split=para)\n",
    "    out=test_test2_auc(clf,x_train, y_train,x_test1,y_test1,x_test2,y_test2,x_test3_1,y_test3_1)\n",
    "    print(para,out)\n",
    "\n",
    "#"
   ]
  },
  {
   "cell_type": "code",
   "execution_count": 52,
   "metadata": {},
   "outputs": [
    {
     "name": "stdout",
     "output_type": "stream",
     "text": [
      "2 [0.9985661885750278, 0.9969394974840202, 0.9670875891723844, 0.030946204533307202]\n",
      "4 [0.998913694135715, 0.9940547678951901, 0.9583757977716416, 0.0011604516478959832]\n",
      "5 [0.9990726017096051, 0.993134797588286, 0.9562662478590641, 0.0008635898285498301]\n",
      "6 [0.9990654930411309, 0.9923399859467791, 0.9511540883066149, 0.0010940589345242186]\n",
      "8 [0.9987721405515798, 0.9942711818305454, 0.9510617949474384, 0.0003431345644242474]\n",
      "10 [0.9988154123477733, 0.9951417533659731, 0.956372604688591, 0.00015099408369374543]\n",
      "20 [0.9929209626549147, 0.9776628898635474, 0.7835682559229818, 1.4482012479986888e-07]\n",
      "40 [0.989850071768449, 0.97924061040845, 0.8218840340914964, 1.4482135679399309e-07]\n"
     ]
    }
   ],
   "source": [
    "min_samples_split=2\n",
    "#max_depthint, default=3\n",
    "from sklearn.ensemble import GradientBoostingClassifier\n",
    "for para in [2,4,5,6,8,10,20,40]:\n",
    "    clf = GradientBoostingClassifier(random_state=123,\n",
    "            loss=loss,learning_rate=learning_rate,n_estimators=n_estimators,subsample=subsample,\n",
    "            criterion=criterion,min_samples_split=min_samples_split,\n",
    "            max_depth=para)\n",
    "    out=test_test2_auc(clf,x_train, y_train,x_test1,y_test1,x_test2,y_test2,x_test3_1,y_test3_1)\n",
    "    print(para,out)\n",
    "\n",
    "#"
   ]
  },
  {
   "cell_type": "code",
   "execution_count": 53,
   "metadata": {},
   "outputs": [
    {
     "name": "stdout",
     "output_type": "stream",
     "text": [
      "0.0001 [0.998802197446258, 0.9954273085815313, 0.9660582693910301, 0.006072266921068976]\n",
      "0.001 [0.998745602959793, 0.9950043689650482, 0.9630078322079425, 0.005313337358637254]\n",
      "0.01 [0.9981685935793149, 0.9974523720476903, 0.967964544904925, 0.0220333903978171]\n",
      "0.1 [0.9967101955390438, 0.9928267005530622, 0.9449240296616499, 0.023559508319652235]\n",
      "0.2 [0.9958173920499649, 0.9918588359626456, 0.9483213266332884, 0.01855200891405033]\n",
      "0.3 [0.9931111451364285, 0.9865359292125663, 0.9405894126671996, 0.08285966208311321]\n",
      "0.4 [0.9919456630412457, 0.9864139466884265, 0.9408323671915151, 0.1024771912799908]\n",
      "0.5 [0.5023733521187578, 0.5096193135454916, 0.5181341844150207, 0.40763389826404295]\n"
     ]
    }
   ],
   "source": [
    "max_depth=3\n",
    "#min_samples_leafint or float, default=1\n",
    "from sklearn.ensemble import GradientBoostingClassifier\n",
    "for para in [0.0001,0.001,0.01,0.1,0.2,0.3,0.4 ,0.5]:\n",
    "    clf = GradientBoostingClassifier(random_state=123,\n",
    "            loss=loss,learning_rate=learning_rate,n_estimators=n_estimators,subsample=subsample,\n",
    "            criterion=criterion,min_samples_split=min_samples_split,max_depth=max_depth,\n",
    "            min_samples_leaf=para)\n",
    "    out=test_test2_auc(clf,x_train, y_train,x_test1,y_test1,x_test2,y_test2,x_test3_1,y_test3_1)\n",
    "    print(para,out)\n"
   ]
  },
  {
   "cell_type": "code",
   "execution_count": 54,
   "metadata": {},
   "outputs": [
    {
     "name": "stdout",
     "output_type": "stream",
     "text": [
      "0.001 [0.9981685935793149, 0.9974523720476903, 0.967964544904925, 0.0220333903978171]\n",
      "0.01 [0.9981685935793149, 0.9974523720476903, 0.967964544904925, 0.0220333903978171]\n",
      "0.1 [0.9967101955390438, 0.9928267005530622, 0.9449240296616499, 0.023559508319652235]\n",
      "0.2 [0.9958173920499649, 0.9918588359626456, 0.9483213266332884, 0.01855200891405033]\n",
      "0.5 [0.5023733521187578, 0.5096193135454916, 0.5181341844150207, 0.40763389826404295]\n"
     ]
    }
   ],
   "source": [
    "min_samples_leaf=0.01\n",
    "#\n",
    "#min_weight_fraction_leaffloat, default=0.0\n",
    "from sklearn.ensemble import GradientBoostingClassifier\n",
    "for para in [0.001,0.01,0.1,0.2,0.5]:\n",
    "    clf = GradientBoostingClassifier(random_state=123,\n",
    "            loss=loss,learning_rate=learning_rate,n_estimators=n_estimators,subsample=subsample,\n",
    "            criterion=criterion,min_samples_split=min_samples_split,max_depth=max_depth,                     \n",
    "            min_samples_leaf=min_samples_leaf,\n",
    "            min_weight_fraction_leaf=para)\n",
    "    out=test_test2_auc(clf,x_train, y_train,x_test1,y_test1,x_test2,y_test2,x_test3_1,y_test3_1)\n",
    "    print(para,out)\n",
    "\n",
    "#"
   ]
  },
  {
   "cell_type": "code",
   "execution_count": 55,
   "metadata": {},
   "outputs": [
    {
     "name": "stdout",
     "output_type": "stream",
     "text": [
      "0.001 [0.9981685935793149, 0.9974523720476903, 0.967964544904925, 0.0220333903978171]\n",
      "0.01 [0.9981685935793149, 0.9974523720476903, 0.967964544904925, 0.0220333903978171]\n",
      "0.1 [0.9981043838172213, 0.997389186386509, 0.9646727092808804, 0.02529538114355442]\n",
      "0.2 [0.9979548808123134, 0.9973355433156534, 0.9683433044023184, 0.023587959009983717]\n"
     ]
    }
   ],
   "source": [
    "min_weight_fraction_leaf=0\n",
    "#min_impurity_decreasefloat, default=0.0\n",
    "from sklearn.ensemble import GradientBoostingClassifier\n",
    "for para in [0.001,0.01,0.1,0.2]:\n",
    "    clf = GradientBoostingClassifier(random_state=123,\n",
    "            loss=loss,learning_rate=learning_rate,n_estimators=n_estimators,subsample=subsample,\n",
    "            criterion=criterion,min_samples_split=min_samples_split,max_depth=max_depth,\n",
    "            min_samples_leaf=min_samples_leaf,min_weight_fraction_leaf=min_weight_fraction_leaf,\n",
    "            min_impurity_decrease=para                        )\n",
    "    out=test_test2_auc(clf,x_train, y_train,x_test1,y_test1,x_test2,y_test2,x_test3_1,y_test3_1)\n",
    "    print(para,out)\n",
    "\n",
    "#"
   ]
  },
  {
   "cell_type": "code",
   "execution_count": 56,
   "metadata": {},
   "outputs": [
    {
     "name": "stdout",
     "output_type": "stream",
     "text": [
      "auto [0.9981685935793149, 0.9974523720476903, 0.967964544904925, 0.0220333903978171]\n",
      "sqrt [0.9980924462124675, 0.9976671511627907, 0.9668777674795723, 0.02283456734477559]\n",
      "log2 [0.9978350251048097, 0.9977889778548439, 0.9668615754046287, 0.037967201142831]\n",
      "2 [0.9973220368561017, 0.9973091425268599, 0.9684143410756211, 0.02555153176333283]\n",
      "4 [0.9978350251048097, 0.9977889778548439, 0.9668615754046287, 0.037967201142831]\n",
      "6 [0.9981148285477013, 0.9975242814724149, 0.9707603422584795, 0.013117920394647967]\n",
      "8 [0.9980134154963907, 0.9975707619339046, 0.9678391774343721, 0.02195555822749888]\n",
      "10 [0.9979980933246908, 0.9975397966816266, 0.9644688330008991, 0.019999716805468682]\n",
      "20 [0.9979378178522001, 0.9974567976789519, 0.9687106868751592, 0.020252587540921914]\n"
     ]
    }
   ],
   "source": [
    "min_impurity_decrease=0\n",
    "#max_features{‘auto’, ‘sqrt’, ‘log2’}, int or float, default=None\n",
    "from sklearn.ensemble import GradientBoostingClassifier\n",
    "for para in ['auto','sqrt','log2',2,4,6,8,10,20]:\n",
    "    clf = GradientBoostingClassifier(random_state=123,\n",
    "            loss=loss,learning_rate=learning_rate,n_estimators=n_estimators,subsample=subsample,\n",
    "            criterion=criterion,min_samples_split=min_samples_split,max_depth=max_depth,\n",
    "            min_samples_leaf=min_samples_leaf,min_weight_fraction_leaf=min_weight_fraction_leaf,\n",
    "            min_impurity_decrease=min_impurity_decrease,\n",
    "            max_features=para                        )\n",
    "    out=test_test2_auc(clf,x_train, y_train,x_test1,y_test1,x_test2,y_test2,x_test3_1,y_test3_1)\n",
    "    print(para,out)\n",
    "\n",
    "#"
   ]
  },
  {
   "cell_type": "code",
   "execution_count": 57,
   "metadata": {},
   "outputs": [
    {
     "name": "stdout",
     "output_type": "stream",
     "text": [
      "2 [0.996427330895475, 0.9972921709959655, 0.9602794895999609, 0.15728621144128085]\n",
      "4 [0.9975658280755327, 0.9973558581531349, 0.9661118515066646, 0.011324534310849536]\n",
      "6 [0.9981038556523157, 0.9972754657962736, 0.9675309848492679, 0.02106270085198436]\n",
      "8 [0.9981685935793149, 0.9974523720476903, 0.967964544904925, 0.0220333903978171]\n",
      "10 [0.9981685935793149, 0.9974523720476903, 0.967964544904925, 0.0220333903978171]\n",
      "20 [0.9981685935793149, 0.9974523720476903, 0.967964544904925, 0.0220333903978171]\n"
     ]
    }
   ],
   "source": [
    "max_features=None\n",
    "#\n",
    "#max_leaf_nodesint, default=None\n",
    "from sklearn.ensemble import GradientBoostingClassifier\n",
    "for para in [2,4,6,8,10,20]:\n",
    "    clf = GradientBoostingClassifier(random_state=123,\n",
    "            loss=loss,learning_rate=learning_rate,n_estimators=n_estimators,subsample=subsample,\n",
    "            criterion=criterion,min_samples_split=min_samples_split,max_depth=max_depth,\n",
    "            min_samples_leaf=min_samples_leaf,min_weight_fraction_leaf=min_weight_fraction_leaf,\n",
    "            min_impurity_decrease=min_impurity_decrease,\n",
    "            max_features=max_features,                        \n",
    "            max_leaf_nodes=para                        )\n",
    "    out=test_test2_auc(clf,x_train, y_train,x_test1,y_test1,x_test2,y_test2,x_test3_1,y_test3_1)\n",
    "    print(para,out)\n",
    "\n",
    "#"
   ]
  },
  {
   "cell_type": "code",
   "execution_count": 58,
   "metadata": {},
   "outputs": [
    {
     "name": "stdout",
     "output_type": "stream",
     "text": [
      "1e-06 [0.9981685935793149, 0.9974523720476903, 0.967964544904925, 0.0220333903978171]\n",
      "1e-05 [0.9981685935793149, 0.9974523720476903, 0.967964544904925, 0.0220333903978171]\n",
      "0.001 [0.9981685935793149, 0.9974523720476903, 0.967964544904925, 0.0220333903978171]\n",
      "0.01 [0.9981685935793149, 0.9974523720476903, 0.967964544904925, 0.0220333903978171]\n",
      "0.1 [0.9981685935793149, 0.9974523720476903, 0.967964544904925, 0.0220333903978171]\n"
     ]
    }
   ],
   "source": [
    "#\n",
    "max_leaf_nodes=None\n",
    "#tolfloat, default=1e-4\n",
    "from sklearn.ensemble import GradientBoostingClassifier\n",
    "for para in [1e-6,1e-5,1e-3,1e-2,1e-1]:\n",
    "    clf = GradientBoostingClassifier(random_state=123,\n",
    "            loss=loss,learning_rate=learning_rate,n_estimators=n_estimators,subsample=subsample,\n",
    "            criterion=criterion,min_samples_split=min_samples_split,max_depth=max_depth,\n",
    "            min_samples_leaf=min_samples_leaf,min_weight_fraction_leaf=min_weight_fraction_leaf,\n",
    "            min_impurity_decrease=min_impurity_decrease,\n",
    "            max_features=max_features,                        \n",
    "            max_leaf_nodes=max_leaf_nodes,\n",
    "            tol=para                        )\n",
    "    out=test_test2_auc(clf,x_train, y_train,x_test1,y_test1,x_test2,y_test2,x_test3_1,y_test3_1)\n",
    "    print(para,out)\n",
    "\n",
    "#"
   ]
  },
  {
   "cell_type": "code",
   "execution_count": 59,
   "metadata": {},
   "outputs": [
    {
     "data": {
      "image/png": "[encoded data removed]",
      "text/plain": [
       "<Figure size 576x684 with 2 Axes>"
      ]
     },
     "metadata": {
      "needs_background": "light"
     },
     "output_type": "display_data"
    }
   ],
   "source": [
    "clf=GradientBoostingClassifier(random_state=123,\n",
    "            loss=loss,learning_rate=learning_rate,n_estimators=n_estimators,subsample=subsample,\n",
    "            criterion=criterion,min_samples_split=min_samples_split,max_depth=max_depth,\n",
    "            min_samples_leaf=min_samples_leaf,min_weight_fraction_leaf=min_weight_fraction_leaf,\n",
    "            min_impurity_decrease=min_impurity_decrease,\n",
    "            max_features=max_features,                        \n",
    "            max_leaf_nodes=max_leaf_nodes,                        \n",
    "            )\n",
    "import shap\n",
    "clf.fit(x_train,y_train)\n",
    "explainer = shap.TreeExplainer(clf)\n",
    "shap_values = explainer.shap_values(x_train)\n",
    "#shap.summary_plot(shap_values, x_train)\n",
    "shap.summary_plot(shap_values, x_train)"
   ]
  },
  {
   "cell_type": "code",
   "execution_count": 60,
   "metadata": {},
   "outputs": [],
   "source": [
    "shap_df=pd.DataFrame()\n",
    "shap_df['feature']=x_train.columns.to_list()\n",
    "shap_df['importance']=np.mean(np.abs(shap_values),axis=0)\n",
    "shap_df=shap_df.sort_values(by=['importance'],ascending=False)"
   ]
  },
  {
   "cell_type": "code",
   "execution_count": 61,
   "metadata": {},
   "outputs": [
    {
     "data": {
      "text/html": [
       "<div>\n",
       "<style scoped>\n",
       "    .dataframe tbody tr th:only-of-type {\n",
       "        vertical-align: middle;\n",
       "    }\n",
       "\n",
       "    .dataframe tbody tr th {\n",
       "        vertical-align: top;\n",
       "    }\n",
       "\n",
       "    .dataframe thead th {\n",
       "        text-align: right;\n",
       "    }\n",
       "</style>\n",
       "<table border=\"1\" class=\"dataframe\">\n",
       "  <thead>\n",
       "    <tr style=\"text-align: right;\">\n",
       "      <th></th>\n",
       "      <th>feature</th>\n",
       "      <th>importance</th>\n",
       "    </tr>\n",
       "  </thead>\n",
       "  <tbody>\n",
       "    <tr>\n",
       "      <th>29</th>\n",
       "      <td>ExonicFunc_p</td>\n",
       "      <td>1.494063</td>\n",
       "    </tr>\n",
       "    <tr>\n",
       "      <th>27</th>\n",
       "      <td>Func_p</td>\n",
       "      <td>1.399403</td>\n",
       "    </tr>\n",
       "    <tr>\n",
       "      <th>1</th>\n",
       "      <td>exonic</td>\n",
       "      <td>0.978229</td>\n",
       "    </tr>\n",
       "    <tr>\n",
       "      <th>26</th>\n",
       "      <td>Func_b</td>\n",
       "      <td>0.972366</td>\n",
       "    </tr>\n",
       "    <tr>\n",
       "      <th>30</th>\n",
       "      <td>AF</td>\n",
       "      <td>0.363352</td>\n",
       "    </tr>\n",
       "    <tr>\n",
       "      <th>28</th>\n",
       "      <td>ExonicFunc_b</td>\n",
       "      <td>0.297335</td>\n",
       "    </tr>\n",
       "    <tr>\n",
       "      <th>6</th>\n",
       "      <td>splicing</td>\n",
       "      <td>0.199858</td>\n",
       "    </tr>\n",
       "    <tr>\n",
       "      <th>4</th>\n",
       "      <td>intronic</td>\n",
       "      <td>0.183388</td>\n",
       "    </tr>\n",
       "    <tr>\n",
       "      <th>10</th>\n",
       "      <td>nonframeshift_deletion</td>\n",
       "      <td>0.161173</td>\n",
       "    </tr>\n",
       "    <tr>\n",
       "      <th>8</th>\n",
       "      <td>frameshift_deletion</td>\n",
       "      <td>0.126682</td>\n",
       "    </tr>\n",
       "    <tr>\n",
       "      <th>0</th>\n",
       "      <td>length</td>\n",
       "      <td>0.092750</td>\n",
       "    </tr>\n",
       "    <tr>\n",
       "      <th>9</th>\n",
       "      <td>frameshift_insertion</td>\n",
       "      <td>0.067777</td>\n",
       "    </tr>\n",
       "    <tr>\n",
       "      <th>2</th>\n",
       "      <td>stream</td>\n",
       "      <td>0.056637</td>\n",
       "    </tr>\n",
       "    <tr>\n",
       "      <th>15</th>\n",
       "      <td>exac_syn_z</td>\n",
       "      <td>0.055157</td>\n",
       "    </tr>\n",
       "    <tr>\n",
       "      <th>7</th>\n",
       "      <td>UTR</td>\n",
       "      <td>0.055049</td>\n",
       "    </tr>\n",
       "    <tr>\n",
       "      <th>11</th>\n",
       "      <td>nonframeshift_insertion</td>\n",
       "      <td>0.038597</td>\n",
       "    </tr>\n",
       "    <tr>\n",
       "      <th>19</th>\n",
       "      <td>exac_cnv_z</td>\n",
       "      <td>0.032199</td>\n",
       "    </tr>\n",
       "    <tr>\n",
       "      <th>23</th>\n",
       "      <td>p_OE-ratio_ExAC_v2</td>\n",
       "      <td>0.017634</td>\n",
       "    </tr>\n",
       "    <tr>\n",
       "      <th>18</th>\n",
       "      <td>exac_pLI</td>\n",
       "      <td>0.015316</td>\n",
       "    </tr>\n",
       "    <tr>\n",
       "      <th>17</th>\n",
       "      <td>exac_lof_z</td>\n",
       "      <td>0.011469</td>\n",
       "    </tr>\n",
       "    <tr>\n",
       "      <th>24</th>\n",
       "      <td>alternative-RVIS_maf_0_0025</td>\n",
       "      <td>0.006327</td>\n",
       "    </tr>\n",
       "    <tr>\n",
       "      <th>21</th>\n",
       "      <td>p_RVIS_pop_maf_0_05</td>\n",
       "      <td>0.004870</td>\n",
       "    </tr>\n",
       "    <tr>\n",
       "      <th>22</th>\n",
       "      <td>OE-ratio_ExAC_v2</td>\n",
       "      <td>0.002981</td>\n",
       "    </tr>\n",
       "    <tr>\n",
       "      <th>25</th>\n",
       "      <td>alternative-p_RVIS_maf_0_0025</td>\n",
       "      <td>0.001731</td>\n",
       "    </tr>\n",
       "    <tr>\n",
       "      <th>16</th>\n",
       "      <td>exac_mis_z</td>\n",
       "      <td>0.000000</td>\n",
       "    </tr>\n",
       "    <tr>\n",
       "      <th>20</th>\n",
       "      <td>RVIS_pop_maf_0_05</td>\n",
       "      <td>0.000000</td>\n",
       "    </tr>\n",
       "    <tr>\n",
       "      <th>12</th>\n",
       "      <td>startloss</td>\n",
       "      <td>0.000000</td>\n",
       "    </tr>\n",
       "    <tr>\n",
       "      <th>14</th>\n",
       "      <td>stoploss</td>\n",
       "      <td>0.000000</td>\n",
       "    </tr>\n",
       "    <tr>\n",
       "      <th>5</th>\n",
       "      <td>ncRNA</td>\n",
       "      <td>0.000000</td>\n",
       "    </tr>\n",
       "    <tr>\n",
       "      <th>3</th>\n",
       "      <td>intergenic</td>\n",
       "      <td>0.000000</td>\n",
       "    </tr>\n",
       "    <tr>\n",
       "      <th>13</th>\n",
       "      <td>stopgain</td>\n",
       "      <td>0.000000</td>\n",
       "    </tr>\n",
       "  </tbody>\n",
       "</table>\n",
       "</div>"
      ],
      "text/plain": [
       "                          feature  importance\n",
       "29                   ExonicFunc_p    1.494063\n",
       "27                         Func_p    1.399403\n",
       "1                          exonic    0.978229\n",
       "26                         Func_b    0.972366\n",
       "30                             AF    0.363352\n",
       "28                   ExonicFunc_b    0.297335\n",
       "6                        splicing    0.199858\n",
       "4                        intronic    0.183388\n",
       "10         nonframeshift_deletion    0.161173\n",
       "8             frameshift_deletion    0.126682\n",
       "0                          length    0.092750\n",
       "9            frameshift_insertion    0.067777\n",
       "2                          stream    0.056637\n",
       "15                     exac_syn_z    0.055157\n",
       "7                             UTR    0.055049\n",
       "11        nonframeshift_insertion    0.038597\n",
       "19                     exac_cnv_z    0.032199\n",
       "23             p_OE-ratio_ExAC_v2    0.017634\n",
       "18                       exac_pLI    0.015316\n",
       "17                     exac_lof_z    0.011469\n",
       "24    alternative-RVIS_maf_0_0025    0.006327\n",
       "21            p_RVIS_pop_maf_0_05    0.004870\n",
       "22               OE-ratio_ExAC_v2    0.002981\n",
       "25  alternative-p_RVIS_maf_0_0025    0.001731\n",
       "16                     exac_mis_z    0.000000\n",
       "20              RVIS_pop_maf_0_05    0.000000\n",
       "12                      startloss    0.000000\n",
       "14                       stoploss    0.000000\n",
       "5                           ncRNA    0.000000\n",
       "3                      intergenic    0.000000\n",
       "13                       stopgain    0.000000"
      ]
     },
     "execution_count": 61,
     "metadata": {},
     "output_type": "execute_result"
    }
   ],
   "source": [
    "shap_df"
   ]
  },
  {
   "cell_type": "code",
   "execution_count": 65,
   "metadata": {},
   "outputs": [
    {
     "data": {
      "text/html": [
       "<div>\n",
       "<style scoped>\n",
       "    .dataframe tbody tr th:only-of-type {\n",
       "        vertical-align: middle;\n",
       "    }\n",
       "\n",
       "    .dataframe tbody tr th {\n",
       "        vertical-align: top;\n",
       "    }\n",
       "\n",
       "    .dataframe thead th {\n",
       "        text-align: right;\n",
       "    }\n",
       "</style>\n",
       "<table border=\"1\" class=\"dataframe\">\n",
       "  <thead>\n",
       "    <tr style=\"text-align: right;\">\n",
       "      <th></th>\n",
       "      <th>ExonicFunc_p</th>\n",
       "    </tr>\n",
       "  </thead>\n",
       "  <tbody>\n",
       "    <tr>\n",
       "      <th>0</th>\n",
       "      <td>-0.713075</td>\n",
       "    </tr>\n",
       "    <tr>\n",
       "      <th>1</th>\n",
       "      <td>0.783842</td>\n",
       "    </tr>\n",
       "    <tr>\n",
       "      <th>2</th>\n",
       "      <td>0.783842</td>\n",
       "    </tr>\n",
       "    <tr>\n",
       "      <th>3</th>\n",
       "      <td>0.783842</td>\n",
       "    </tr>\n",
       "    <tr>\n",
       "      <th>4</th>\n",
       "      <td>5.208232</td>\n",
       "    </tr>\n",
       "    <tr>\n",
       "      <th>...</th>\n",
       "      <td>...</td>\n",
       "    </tr>\n",
       "    <tr>\n",
       "      <th>38038</th>\n",
       "      <td>-1.336501</td>\n",
       "    </tr>\n",
       "    <tr>\n",
       "      <th>38039</th>\n",
       "      <td>-1.336501</td>\n",
       "    </tr>\n",
       "    <tr>\n",
       "      <th>38040</th>\n",
       "      <td>-1.336501</td>\n",
       "    </tr>\n",
       "    <tr>\n",
       "      <th>38041</th>\n",
       "      <td>-1.336501</td>\n",
       "    </tr>\n",
       "    <tr>\n",
       "      <th>38042</th>\n",
       "      <td>-1.336501</td>\n",
       "    </tr>\n",
       "  </tbody>\n",
       "</table>\n",
       "<p>96320 rows × 1 columns</p>\n",
       "</div>"
      ],
      "text/plain": [
       "       ExonicFunc_p\n",
       "0         -0.713075\n",
       "1          0.783842\n",
       "2          0.783842\n",
       "3          0.783842\n",
       "4          5.208232\n",
       "...             ...\n",
       "38038     -1.336501\n",
       "38039     -1.336501\n",
       "38040     -1.336501\n",
       "38041     -1.336501\n",
       "38042     -1.336501\n",
       "\n",
       "[96320 rows x 1 columns]"
      ]
     },
     "execution_count": 65,
     "metadata": {},
     "output_type": "execute_result"
    }
   ],
   "source": [
    "x_train_num"
   ]
  },
  {
   "cell_type": "code",
   "execution_count": 66,
   "metadata": {},
   "outputs": [
    {
     "name": "stdout",
     "output_type": "stream",
     "text": [
      "1 [0.9752016336895051, 0.9752630587288635, 0.9404777563462364, 0.4284114444558269]\n",
      "2 [0.9881036460031848, 0.9915352945509769, 0.9497187335290044, 0.42878343099159666]\n",
      "3 [0.9957311233189061, 0.9871345907566073, 0.9019283014334287, 0.007139431168853504]\n",
      "4 [0.996120294623319, 0.9829442517793191, 0.8959326388543092, 0.003681275127350129]\n",
      "5 [0.9967926431586934, 0.9964233079468697, 0.9398352407196362, 0.007955270451481077]\n",
      "6 [0.996479225792168, 0.9969537518699849, 0.9405191099954808, 0.015278623584028815]\n",
      "7 [0.9965276822275365, 0.9968608306133551, 0.9577221253209642, 0.017731437342319637]\n",
      "8 [0.9976268634587547, 0.9966040476676186, 0.9535796699412142, 0.020197202252664498]\n",
      "9 [0.9977169910272866, 0.9965613921755291, 0.9557337590699106, 0.017900491722510754]\n",
      "10 [0.9977567704677779, 0.9964288074028742, 0.9397471458495206, 0.015699493718634973]\n",
      "11 [0.9981345161640288, 0.997347471553561, 0.9595512279083138, 0.029665950076425862]\n",
      "12 [0.9981145752441241, 0.9972889495217372, 0.9541282186850262, 0.030926198356501695]\n",
      "13 [0.997947863764282, 0.9975001048324946, 0.9601830417918189, 0.02878565853456663]\n",
      "14 [0.9979775110616863, 0.9976710271317829, 0.9590943706423796, 0.043411511130952145]\n",
      "15 [0.9982085293135026, 0.9974269997506687, 0.9597904977446774, 0.02803974513676856]\n",
      "16 [0.9980916324073579, 0.9974324425404597, 0.9624972753861201, 0.0323781009553102]\n",
      "17 [0.9980456335556315, 0.9974400074799401, 0.9645761293524533, 0.022413895915919645]\n",
      "18 [0.9980435855692629, 0.9973977203182374, 0.9618702765530065, 0.03454463849003317]\n",
      "19 [0.9979572252177616, 0.997339424951267, 0.9611336178832381, 0.02927757014995931]\n",
      "20 [0.9982002349687097, 0.9974076085724647, 0.9622746673857141, 0.02622041064683982]\n",
      "21 [0.9981525384440725, 0.9974163323360079, 0.9649711690049804, 0.02690622025284604]\n",
      "22 [0.998237314300857, 0.9974523720476903, 0.967964544904925, 0.0220333903978171]\n",
      "23 [0.9982374436473646, 0.9974523720476903, 0.967964544904925, 0.0220333903978171]\n",
      "24 [0.9982372711853545, 0.9974523720476903, 0.967964544904925, 0.0220333903978171]\n",
      "25 [0.9981686366948174, 0.9974523720476903, 0.967964544904925, 0.0220333903978171]\n",
      "26 [0.9981680977510362, 0.9974523720476903, 0.967964544904925, 0.0220333903978171]\n",
      "27 [0.9981683564440512, 0.9974523720476903, 0.967964544904925, 0.0220333903978171]\n",
      "28 [0.9981685289060612, 0.9974523720476903, 0.967964544904925, 0.0220333903978171]\n",
      "29 [0.9981680977510362, 0.9974523720476903, 0.967964544904925, 0.0220333903978171]\n"
     ]
    }
   ],
   "source": [
    "##\n",
    "for num in range(29):\n",
    "    num_sel=shap_df.iloc[:num+1,0].to_list()\n",
    "    x_train_num=x_train[num_sel]\n",
    "    x_test1_num=x_test1[num_sel]\n",
    "    x_test2_num=x_test2[num_sel]\n",
    "    x_test3_num=x_test3_1[num_sel]\n",
    "    out=test_test2_auc(clf,x_train_num, y_train,x_test1_num,y_test1,x_test2_num,y_test2,x_test3_num,y_test3_1)\n",
    "    print(num+1,out)"
   ]
  },
  {
   "cell_type": "code",
   "execution_count": 67,
   "metadata": {},
   "outputs": [
    {
     "data": {
      "text/plain": [
       "[0.9981685935793149, 0.9974523720476903, 0.967964544904925, 0.0220333903978171]"
      ]
     },
     "execution_count": 67,
     "metadata": {},
     "output_type": "execute_result"
    }
   ],
   "source": [
    "test_test2_auc(clf,x_train, y_train,x_test1,y_test1,x_test2,y_test2,x_test3_1,y_test3_1)"
   ]
  },
  {
   "cell_type": "code",
   "execution_count": 68,
   "metadata": {},
   "outputs": [
    {
     "data": {
      "text/plain": [
       "[0.9981685935793149, 0.997359470103831, 0.9831622193362901, 0.0220333903978171]"
      ]
     },
     "execution_count": 68,
     "metadata": {},
     "output_type": "execute_result"
    }
   ],
   "source": [
    "#x_test1[test1_star>=2]\n",
    "test_test2_auc(clf,x_train, y_train,\n",
    "               x_test1[test1_star>=2],y_test1[test1_star>=2],\n",
    "               x_test2[test2_lab.astype('int')>=2],y_test2[test2_lab.astype('int')>=2],x_test3_1,y_test3_1)"
   ]
  },
  {
   "cell_type": "code",
   "execution_count": 70,
   "metadata": {},
   "outputs": [
    {
     "data": {
      "text/plain": [
       "[0.9981685935793149, 0.997359470103831, 0.9889023605681199, 0.0220333903978171]"
      ]
     },
     "execution_count": 70,
     "metadata": {},
     "output_type": "execute_result"
    }
   ],
   "source": [
    "#x_test1[test1_star>=2]\n",
    "test_test2_auc(clf,x_train, y_train,\n",
    "               x_test1[test1_star>=2],y_test1[test1_star>=2],\n",
    "               x_test2[test2_lab.astype('int')>=3],y_test2[test2_lab.astype('int')>=3],x_test3_1,y_test3_1)"
   ]
  },
  {
   "cell_type": "code",
   "execution_count": 71,
   "metadata": {},
   "outputs": [
    {
     "data": {
      "text/plain": [
       "GradientBoostingClassifier(learning_rate=0.15, min_impurity_decrease=0,\n",
       "                           min_samples_leaf=0.01, min_weight_fraction_leaf=0,\n",
       "                           random_state=123, subsample=1)"
      ]
     },
     "execution_count": 71,
     "metadata": {},
     "output_type": "execute_result"
    }
   ],
   "source": [
    "clf"
   ]
  },
  {
   "cell_type": "code",
   "execution_count": 72,
   "metadata": {},
   "outputs": [],
   "source": [
    "# clf=GradientBoostingClassifier(random_state=123,\n",
    "#             loss=loss,learning_rate=learning_rate,n_estimators=n_estimators,subsample=subsample,\n",
    "#             criterion=criterion,min_samples_split=min_samples_split,max_depth=max_depth,\n",
    "#             min_samples_leaf=min_samples_leaf,min_weight_fraction_leaf=min_weight_fraction_leaf,\n",
    "#             min_impurity_decrease=min_impurity_decrease,\n",
    "#             max_features=max_features,                        \n",
    "#             max_leaf_nodes=max_leaf_nodes,                        \n",
    "#             )\n",
    "# clf.fit(x_train,y_train)\n",
    "x_test3_prob = clf.predict_proba(x_test3)[:,1]"
   ]
  },
  {
   "cell_type": "code",
   "execution_count": 101,
   "metadata": {},
   "outputs": [],
   "source": [
    "x_test1_prob = clf.predict_proba(x_test1)[:,1]\n",
    "x_test2_prob = clf.predict_proba(x_test2)[:,1]\n",
    "save_data([x_test1_prob,x_test2_prob],'x_test1_test2_prob.pkl')"
   ]
  },
  {
   "cell_type": "code",
   "execution_count": 73,
   "metadata": {},
   "outputs": [],
   "source": [
    "pd.DataFrame(x_test3_prob).to_csv('x_test3_prob_AFbins2_statistics.gz',index=False,compression='gzip')"
   ]
  },
  {
   "cell_type": "code",
   "execution_count": 85,
   "metadata": {},
   "outputs": [
    {
     "name": "stdout",
     "output_type": "stream",
     "text": [
      "cut_off =  0.5739323582253674\n"
     ]
    }
   ],
   "source": [
    "y_train_pred_prob=clf.predict_proba(x_train)[:,1]\n",
    "from sklearn.metrics import roc_curve, auc\n",
    "def Find_Optimal_Cutoff(target, predicted):\n",
    "    fpr, tpr, threshold = roc_curve(target, predicted)\n",
    "    \n",
    "    optimal_threshold = threshold[np.argmax(tpr - fpr)]\n",
    "\n",
    "    return optimal_threshold\n",
    "\n",
    "cut_off = Find_Optimal_Cutoff(y_train, y_train_pred_prob)\n",
    "print('cut_off = ',cut_off)"
   ]
  },
  {
   "cell_type": "code",
   "execution_count": null,
   "metadata": {},
   "outputs": [],
   "source": [
    "# clf=GradientBoostingClassifier(random_state=123,\n",
    "# #             loss=loss,learning_rate=learning_rate,n_estimators=n_estimators,subsample=subsample,\n",
    "# #             criterion=criterion,min_samples_split=min_samples_split,max_depth=max_depth,\n",
    "# #             min_samples_leaf=min_samples_leaf,min_weight_fraction_leaf=min_weight_fraction_leaf,\n",
    "# #             min_impurity_decrease=min_impurity_decrease,\n",
    "# #             max_features=max_features,                        \n",
    "# #             max_leaf_nodes=max_leaf_nodes,                        \n",
    "#             )\n",
    "# clf.fit(x_train,y_train)\n",
    "# test_test2_auc(clf,x_train, y_train,x_test1,y_test1,x_test2,y_test2)"
   ]
  },
  {
   "cell_type": "code",
   "execution_count": 83,
   "metadata": {},
   "outputs": [
    {
     "data": {
      "text/plain": [
       "(0.1, 0.6)"
      ]
     },
     "execution_count": 83,
     "metadata": {},
     "output_type": "execute_result"
    },
    {
     "data": {
      "image/png": "[encoded data removed]",
      "text/plain": [
       "<Figure size 432x288 with 1 Axes>"
      ]
     },
     "metadata": {
      "needs_background": "light"
     },
     "output_type": "display_data"
    }
   ],
   "source": [
    "import seaborn as sns\n",
    "import matplotlib.pyplot as plt\n",
    "hist = plt.hist(clf.predict_proba(x_train[y_train==1])[:,1], bins=50,label='p')\n",
    "hist = plt.hist(clf.predict_proba(x_train[y_train==0])[:,1], bins=50,label='b')\n",
    "plt.xlim(0.1,0.6)"
   ]
  },
  {
   "cell_type": "code",
   "execution_count": 77,
   "metadata": {
    "scrolled": false
   },
   "outputs": [
    {
     "data": {
      "image/png": "[encoded data removed]",
      "text/plain": [
       "<Figure size 432x288 with 1 Axes>"
      ]
     },
     "metadata": {
      "needs_background": "light"
     },
     "output_type": "display_data"
    }
   ],
   "source": [
    "hist = plt.hist(clf.predict_proba(x_test1[y_test1==1])[:,1], bins=50,label='p')\n",
    "hist = plt.hist(clf.predict_proba(x_test1[y_test1==0])[:,1], bins=50,label='b')\n"
   ]
  },
  {
   "cell_type": "code",
   "execution_count": 78,
   "metadata": {},
   "outputs": [
    {
     "data": {
      "image/png": "[encoded data removed]",
      "text/plain": [
       "<Figure size 432x288 with 1 Axes>"
      ]
     },
     "metadata": {
      "needs_background": "light"
     },
     "output_type": "display_data"
    }
   ],
   "source": [
    "hist = plt.hist(clf.predict_proba(x_test2[y_test2==1])[:,1], bins=50,label='p')\n",
    "hist = plt.hist(clf.predict_proba(x_test2[y_test2==0])[:,1], bins=50,label='b')\n",
    "# plt.xlim(-0.05,1)"
   ]
  },
  {
   "cell_type": "code",
   "execution_count": 79,
   "metadata": {},
   "outputs": [
    {
     "data": {
      "image/png": "[encoded data removed]",
      "text/plain": [
       "<Figure size 432x288 with 1 Axes>"
      ]
     },
     "metadata": {
      "needs_background": "light"
     },
     "output_type": "display_data"
    }
   ],
   "source": [
    "hist = plt.hist(clf.predict_proba(x_test3[y_test3==1])[:,1], bins=50,label='p',)\n",
    "hist = plt.hist(clf.predict_proba(x_test3[y_test3==0])[:,1], bins=50,label='b')\n",
    "# plt.xlim(-0.05,1)"
   ]
  },
  {
   "cell_type": "code",
   "execution_count": 80,
   "metadata": {},
   "outputs": [
    {
     "data": {
      "image/png": "[encoded data removed]",
      "text/plain": [
       "<Figure size 432x288 with 1 Axes>"
      ]
     },
     "metadata": {
      "needs_background": "light"
     },
     "output_type": "display_data"
    }
   ],
   "source": [
    "hist = plt.hist(clf.predict_proba(x_test3[y_test3==1])[:,1], bins=50,label='p',)\n"
   ]
  },
  {
   "cell_type": "code",
   "execution_count": null,
   "metadata": {},
   "outputs": [],
   "source": []
  },
  {
   "cell_type": "code",
   "execution_count": null,
   "metadata": {},
   "outputs": [],
   "source": []
  },
  {
   "cell_type": "code",
   "execution_count": null,
   "metadata": {},
   "outputs": [],
   "source": []
  },
  {
   "cell_type": "code",
   "execution_count": null,
   "metadata": {},
   "outputs": [],
   "source": [
    "from sklearn.preprocessing import StandardScaler, MinMaxScaler\n",
    "def norm_continue_feats(X_trn_df, X_tst_df, method='standard'):\n",
    "    cols_lst = list(X_trn_df.columns)\n",
    "    \n",
    "    if method=='standard':\n",
    "        scaler = StandardScaler()\n",
    "    if method=='minmax':\n",
    "        scaler = MinMaxScaler(feature_range=(-1, 1))\n",
    "    \n",
    "    scaler.fit(X_trn_df.values)\n",
    "    \n",
    "    trn_norm = scaler.transform(X_trn_df.values)\n",
    "    tst_norm = scaler.transform(X_tst_df.values)\n",
    "    \n",
    "    return pd.DataFrame(data=trn_norm, columns=cols_lst),pd.DataFrame(data=tst_norm, columns=cols_lst)\n",
    "    \n"
   ]
  },
  {
   "cell_type": "code",
   "execution_count": null,
   "metadata": {},
   "outputs": [],
   "source": [
    "x_train_norm,x_test1_norm = norm_continue_feats(x_train, x_test1, method='standard')\n",
    "x_train_norm,x_test2_norm = norm_continue_feats(x_train, x_test2, method='standard')\n",
    "test_test2_auc(cal_model,x_train_norm, y_train,x_test1_norm,y_test1,x_test2_norm,y_test2)"
   ]
  },
  {
   "cell_type": "code",
   "execution_count": null,
   "metadata": {},
   "outputs": [],
   "source": [
    "def calc_bins(labels_oneh, preds):\n",
    "    # Assign each prediction to a bin\n",
    "    num_bins = 10\n",
    "    bins = np.linspace(0.1, 1, num_bins) \n",
    "    binned = np.digitize(preds, bins)  \n",
    "    \n",
    "    # Save the accuracy, confidence and size of each bin\n",
    "    bin_accs = np.zeros(num_bins)\n",
    "    bin_confs = np.zeros(num_bins)\n",
    "    bin_sizes = np.zeros(num_bins)\n",
    "\n",
    "    for bin in range(num_bins):\n",
    "        bin_sizes[bin] = len(preds[binned == bin])\n",
    "        if bin_sizes[bin] > 0:\n",
    "            bin_accs[bin] = (labels_oneh[binned==bin]).sum() / bin_sizes[bin]\n",
    "            bin_confs[bin] = (preds[binned==bin]).sum() / bin_sizes[bin]\n",
    "    return bins, binned, bin_accs, bin_confs, bin_sizes\n",
    "def ece(labels_oneh, preds):\n",
    "    ECE = 0\n",
    "    bins, _, bin_accs, bin_confs, bin_sizes = calc_bins(labels_oneh,preds)\n",
    "    \n",
    "    for i in range(len(bins)):\n",
    "        abs_conf_dif = abs(bin_accs[i] - bin_confs[i])\n",
    "        ECE += (bin_sizes[i] / sum(bin_sizes)) * abs_conf_dif\n",
    "        \n",
    "    return ECE"
   ]
  },
  {
   "cell_type": "code",
   "execution_count": null,
   "metadata": {},
   "outputs": [],
   "source": [
    "import seaborn as sns\n",
    "import matplotlib.pyplot as plt\n",
    "from scipy import interp\n",
    "from sklearn.calibration import CalibratedClassifierCV,calibration_curve\n",
    "cal_model = CalibratedClassifierCV(clf,cv=5, method='sigmoid')\n",
    "\n",
    "   \n",
    "y_train_pred_prob = clf.predict_proba(x_train)[:,1]\n",
    "y_train_pred = clf.predict(x_train)\n",
    "\n",
    "cal_model.fit(x_train, y_train)\n",
    "cal_prob =  cal_model.predict_proba(x_train)[:,1]\n",
    "\n",
    "    \n",
    "from sklearn.calibration import CalibratedClassifierCV, calibration_curve\n",
    "\n",
    "uncal_fop,uncal_mpv = calibration_curve(y_train, y_train_pred_prob, n_bins=10)\n",
    "cal_fop,cal_mpv = calibration_curve(y_train, cal_prob, n_bins=10)\n",
    "#cal_score_loss\n",
    "from sklearn.metrics import brier_score_loss\n",
    "uncal_score_loss = brier_score_loss(y_train, y_train_pred_prob)\n",
    "cal_score_loss = brier_score_loss(y_train, cal_prob)\n",
    "#cal_ece\n",
    "uncal_ece = ece(y_train, y_train_pred_prob)\n",
    "cal_ece = ece(y_train, cal_prob)\n",
    "\n",
    "\n",
    "fig, axs = plt.subplots(1, 2, figsize = (11.7,5.27))\n",
    "\n",
    "# plot perfectly calibrated\n",
    "axs[0].plot([0, 1], [0, 1], 'k--',label=\"Perfectly Calibrated\")\n",
    "# plot model uncalibration\n",
    "axs[0].plot(uncal_mpv, uncal_fop, marker='o', color='b',label=\"Uncalibrated(ECE={0:0.4f},BS={1:0.4f})\".format(uncal_ece,uncal_score_loss))\n",
    "# plot model reliability\n",
    "axs[0].plot(cal_mpv, cal_fop, marker='s',color='r',label=\"Calibrated(ECE={0:0.4f},BS={1:0.4f})\".format(cal_ece,cal_score_loss))\n",
    "axs[0].set_xlabel('Average Predicted Value')\n",
    "axs[0].set_ylabel('Proportion of Positive Samples')\n",
    "axs[0].legend()\n",
    "\n",
    "axs[1].hist(y_train_pred_prob.ravel(), range=(0, 1), bins=15, color='b',label='Uncalibrated Model', histtype='step',density=True)\n",
    "axs[1].hist(cal_prob.ravel(), range=(0, 1), bins=15,color='r',label='Calibrated Model', histtype='step', density=True)\n",
    "axs[1].set_xlabel('Average Predicted Value')\n",
    "axs[1].set_ylabel('Count')\n",
    "axs[1].legend()\n",
    "# sns.despine()"
   ]
  },
  {
   "cell_type": "code",
   "execution_count": null,
   "metadata": {},
   "outputs": [],
   "source": [
    "test_test2_auc(cal_model,x_train, y_train,x_test1,y_test1,x_test2,y_test2)"
   ]
  },
  {
   "cell_type": "code",
   "execution_count": null,
   "metadata": {},
   "outputs": [],
   "source": []
  }
 ],
 "metadata": {
  "kernelspec": {
   "display_name": "autogluon",
   "language": "python",
   "name": "autogluon"
  },
  "language_info": {
   "codemirror_mode": {
    "name": "ipython",
    "version": 3
   },
   "file_extension": ".py",
   "mimetype": "text/x-python",
   "name": "python",
   "nbconvert_exporter": "python",
   "pygments_lexer": "ipython3",
   "version": "3.8.13"
  }
 },
 "nbformat": 4,
 "nbformat_minor": 4
}
