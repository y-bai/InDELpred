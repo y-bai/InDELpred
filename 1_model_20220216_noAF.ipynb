{
 "cells": [
  {
   "cell_type": "code",
   "execution_count": 1,
   "metadata": {},
   "outputs": [],
   "source": [
    "import pandas as pd\n",
    "import numpy as np"
   ]
  },
  {
   "cell_type": "code",
   "execution_count": 2,
   "metadata": {},
   "outputs": [],
   "source": [
    "import pickle\n",
    "def save_data(data, outfile):\n",
    "    with open(outfile, 'wb') as outf:\n",
    "        pickle.dump(data, outf)\n",
    "\n",
    "def load_data(infile):\n",
    "    with open(infile, 'rb') as inf:\n",
    "        data = pickle.load(inf)\n",
    "    return data"
   ]
  },
  {
   "cell_type": "code",
   "execution_count": 3,
   "metadata": {},
   "outputs": [],
   "source": [
    "x_train,y_train=load_data('train_data.pkl')\n",
    "x_test1,y_test1,test1_star=load_data('test1_data.pkl')\n",
    "x_test2,y_test2,test2_lab=load_data('test2_data.pkl')"
   ]
  },
  {
   "cell_type": "markdown",
   "metadata": {},
   "source": [
    "### NO AF"
   ]
  },
  {
   "cell_type": "code",
   "execution_count": 6,
   "metadata": {},
   "outputs": [],
   "source": [
    "x_train = x_train.drop(['gnomad_genome_controls_AF_popmax'], axis=1) \n",
    "x_test1 = x_test1.drop(['gnomad_genome_controls_AF_popmax'], axis=1) \n",
    "x_test2 = x_test2.drop(['gnomad_genome_controls_AF_popmax'], axis=1) "
   ]
  },
  {
   "cell_type": "code",
   "execution_count": 8,
   "metadata": {},
   "outputs": [
    {
     "data": {
      "text/plain": [
       "(0.9933320516964763, 0.9911623090348611, 0.9444471928725979)"
      ]
     },
     "execution_count": 8,
     "metadata": {},
     "output_type": "execute_result"
    }
   ],
   "source": [
    "from sklearn.metrics import roc_curve, auc\n",
    "from sklearn.model_selection import train_test_split\n",
    "def test_test2_auc(rfc,x_train, y_train,x_test,y_test,x_test2,y_test2):\n",
    "    x_tra, x_val, y_tra, y_val = train_test_split(x_train, y_train, test_size=0.2, random_state=123)\n",
    "    rfc.fit(x_tra, y_tra)\n",
    "    y_val_pred_prob=rfc.predict_proba(x_val)[:,1]\n",
    "    fpr, tpr, _ = roc_curve(y_val, y_val_pred_prob)\n",
    "    val_auc= auc(fpr, tpr)\n",
    "#     print('val auc ',val_auc)\n",
    "    rfc.fit(x_train, y_train)\n",
    "    y_test_pred_prob=rfc.predict_proba(x_test)[:,1]\n",
    "    fpr, tpr, _ = roc_curve(y_test, y_test_pred_prob)\n",
    "    test1_auc=auc(fpr, tpr)\n",
    "#     print('test1 auc ',test1_auc)\n",
    "    y_test2_pred_prob=rfc.predict_proba(x_test2)[:,1]\n",
    "    fpr2, tpr2, _ = roc_curve(y_test2, y_test2_pred_prob)\n",
    "    test2_auc=auc(fpr2, tpr2)\n",
    "#     print('test2 auc ',test2_auc)\n",
    "    return val_auc,test1_auc,test2_auc\n",
    "    \n",
    "from sklearn.ensemble import GradientBoostingClassifier\n",
    "clf = GradientBoostingClassifier(random_state=123)\n",
    "test_test2_auc(clf,x_train, y_train,x_test1,y_test1,x_test2,y_test2)"
   ]
  },
  {
   "cell_type": "code",
   "execution_count": 9,
   "metadata": {},
   "outputs": [
    {
     "data": {
      "text/plain": [
       "(0.9939993814035009, 0.9890890424543272, 0.9348651545137925)"
      ]
     },
     "execution_count": 9,
     "metadata": {},
     "output_type": "execute_result"
    }
   ],
   "source": [
    "#loss loss{‘deviance’, ‘exponential’}, default=’deviance’\n",
    "from sklearn.ensemble import GradientBoostingClassifier\n",
    "clf = GradientBoostingClassifier(random_state=123,loss='exponential')\n",
    "test_test2_auc(clf,x_train, y_train,x_test1,y_test1,x_test2,y_test2)"
   ]
  },
  {
   "cell_type": "code",
   "execution_count": 17,
   "metadata": {},
   "outputs": [
    {
     "name": "stdout",
     "output_type": "stream",
     "text": [
      "0.0001 (0.9789344119754495, 0.9684090223944877, 0.14329174519504947)\n",
      "0.001 (0.9789344119754495, 0.9684090223944877, 0.14329174519504947)\n",
      "0.01 (0.9886862214477277, 0.9901014608549797, 0.8898815444755633)\n",
      "0.2 (0.9945366353053229, 0.9886108957795005, 0.9412909713812194)\n",
      "0.3 (0.9947653661411697, 0.9878105563488826, 0.9160341089948899)\n",
      "0.4 (0.9951053875000614, 0.9881632836937304, 0.930101440193316)\n"
     ]
    }
   ],
   "source": [
    "loss='exponential'\n",
    "#learning_ratefloat, default=0.1\n",
    "from sklearn.ensemble import GradientBoostingClassifier\n",
    "for para in [0.0001,0.001,0.01,0.2,0.3,0.4]:\n",
    "    \n",
    "    clf = GradientBoostingClassifier(random_state=123,loss=loss,\n",
    "                                    learning_rate=para)\n",
    "    out=test_test2_auc(clf,x_train, y_train,x_test1,y_test1,x_test2,y_test2)\n",
    "    print(para,out)\n",
    "\n",
    "#"
   ]
  },
  {
   "cell_type": "code",
   "execution_count": 18,
   "metadata": {},
   "outputs": [
    {
     "name": "stdout",
     "output_type": "stream",
     "text": [
      "0.5 (0.9946839977044231, 0.9860198898408813, 0.9175466807391408)\n",
      "0.6 (0.9950978165404022, 0.9865981713812956, 0.9225142713395986)\n",
      "0.7 (0.9949049250255358, 0.9859575201731721, 0.9130466638277441)\n",
      "0.8 (0.9949281546935687, 0.9900222046556961, 0.9219248680676193)\n",
      "0.9 (0.9948159081107716, 0.9878374756335283, 0.9226309482313967)\n"
     ]
    }
   ],
   "source": [
    "\n",
    "#learning_ratefloat, default=0.1\n",
    "from sklearn.ensemble import GradientBoostingClassifier\n",
    "for para in [0.5,0.6,0.7,0.8,0.9]:\n",
    "    \n",
    "    clf = GradientBoostingClassifier(random_state=123,loss='exponential',\n",
    "                                    learning_rate=para)\n",
    "    out=test_test2_auc(clf,x_train, y_train,x_test1,y_test1,x_test2,y_test2)\n",
    "    print(para,out)\n",
    "\n",
    "#0.4 (0.9951053875000614, 0.9881632836937304, 0.930101440193316)"
   ]
  },
  {
   "cell_type": "code",
   "execution_count": 19,
   "metadata": {},
   "outputs": [
    {
     "name": "stdout",
     "output_type": "stream",
     "text": [
      "10 (0.9927469172886869, 0.9837269085180653, 0.7906583882640545)\n",
      "20 (0.9935563381464482, 0.9869136576907386, 0.8155939634770207)\n",
      "40 (0.9944585226396242, 0.9868820124439004, 0.9128637799930664)\n",
      "60 (0.9947460899094094, 0.9879407299741603, 0.9197790291167272)\n",
      "80 (0.9950436828868664, 0.9882854220499571, 0.9179053432731632)\n",
      "100 (0.9951053875000614, 0.9881632836937304, 0.930101440193316)\n",
      "120 (0.9951129584597206, 0.9882165811006846, 0.9325069982647028)\n",
      "140 (0.9953538855172709, 0.9881246231696814, 0.9319331264662415)\n",
      "160 (0.9953531103336881, 0.9859671279296431, 0.9300942176177291)\n",
      "180 (0.9953030593136887, 0.9880078001042659, 0.9383903145613701)\n",
      "200 (0.9953899057144209, 0.9878844972573553, 0.93855434923537)\n",
      "300 (0.9951254389154044, 0.9871879476630853, 0.9269842235461132)\n"
     ]
    }
   ],
   "source": [
    "learning_rate=0.4\n",
    "#n_estimatorsint, default=100\n",
    "from sklearn.ensemble import GradientBoostingClassifier\n",
    "for para in [10,20,40,60,80,100,120,140,160,180,200,300]:\n",
    "    \n",
    "    clf = GradientBoostingClassifier(random_state=123,loss=loss,learning_rate=learning_rate,\n",
    "                                    n_estimators=para)\n",
    "    out=test_test2_auc(clf,x_train, y_train,x_test1,y_test1,x_test2,y_test2)\n",
    "    print(para,out)\n",
    "    \n",
    "#200 (0.9953899057144209, 0.9878844972573553, 0.93855434923537)"
   ]
  },
  {
   "cell_type": "code",
   "execution_count": 20,
   "metadata": {},
   "outputs": [
    {
     "name": "stdout",
     "output_type": "stream",
     "text": [
      "0.2 (0.9935694129095456, 0.9893550534929053, 0.9318935050607354)\n",
      "0.5 (0.994604618905539, 0.9906446405095426, 0.9492252202239633)\n",
      "0.6 (0.994678338864268, 0.989594102747178, 0.942310455541348)\n",
      "0.7 (0.9947214907503803, 0.989870186205177, 0.9183769980110319)\n",
      "0.8 (0.9948866306929807, 0.9887701306722879, 0.9267062865063027)\n",
      "0.9 (0.9950773775332676, 0.9880865094745908, 0.9347495786243708)\n"
     ]
    }
   ],
   "source": [
    "n_estimators=200\n",
    "#subsamplefloat, default=1.0\n",
    "from sklearn.ensemble import GradientBoostingClassifier\n",
    "for para in [0.2,0.5,0.6,0.7,0.8,0.9]:\n",
    "    clf = GradientBoostingClassifier(random_state=123,\n",
    "                                     loss=loss,learning_rate=learning_rate,n_estimators=n_estimators,\n",
    "                                    subsample=para)\n",
    "    out=test_test2_auc(clf,x_train, y_train,x_test1,y_test1,x_test2,y_test2)\n",
    "    print(para,out)\n",
    "\n",
    "#"
   ]
  },
  {
   "cell_type": "code",
   "execution_count": 21,
   "metadata": {},
   "outputs": [
    {
     "name": "stdout",
     "output_type": "stream",
     "text": [
      "squared_error (0.9953899057144209, 0.9878842932589872, 0.9385807439323318)\n"
     ]
    }
   ],
   "source": [
    "subsample=1\n",
    "#criterion{‘friedman_mse’, ‘squared_error’, ‘mse’, ‘mae’}, default=’friedman_mse’\n",
    "from sklearn.ensemble import GradientBoostingClassifier\n",
    "for para in ['squared_error']:\n",
    "    clf = GradientBoostingClassifier(random_state=123,\n",
    "                                     loss=loss,learning_rate=learning_rate,\n",
    "                                     n_estimators=n_estimators,subsample=subsample,\n",
    "                                    criterion=para)\n",
    "    out=test_test2_auc(clf,x_train, y_train,x_test1,y_test1,x_test2,y_test2)\n",
    "    print(para,out)\n",
    "\n",
    "#"
   ]
  },
  {
   "cell_type": "code",
   "execution_count": 24,
   "metadata": {},
   "outputs": [
    {
     "name": "stdout",
     "output_type": "stream",
     "text": [
      "2 (0.9953899057144209, 0.9878844972573553, 0.93855434923537)\n"
     ]
    }
   ],
   "source": [
    "criterion='friedman_mse'\n",
    "#(0.9953899057144209, 0.9878844972573553, 0.93855434923537)\n",
    "#min_samples_splitint or float, default=2\n",
    "from sklearn.ensemble import GradientBoostingClassifier\n",
    "for para in [2,4,6,8,10,20]:\n",
    "    clf = GradientBoostingClassifier(random_state=123,\n",
    "            loss=loss,learning_rate=learning_rate,n_estimators=n_estimators,subsample=subsample,\n",
    "            criterion=criterion,\n",
    "            min_samples_split=para)\n",
    "    out=test_test2_auc(clf,x_train, y_train,x_test1,y_test1,x_test2,y_test2)\n",
    "    print(para,out)\n",
    "\n",
    "#"
   ]
  },
  {
   "cell_type": "code",
   "execution_count": 25,
   "metadata": {},
   "outputs": [
    {
     "name": "stdout",
     "output_type": "stream",
     "text": [
      "2 (0.9944783414998924, 0.986827383380933, 0.9042446636323237)\n",
      "4 (0.9951529579325958, 0.987255638288227, 0.9295429971081512)\n",
      "5 (0.9943076460749484, 0.9875987578766038, 0.9136866838489587)\n",
      "6 (0.9930459831149512, 0.9824163295026972, 0.8396258652997873)\n",
      "8 (0.9900406738825923, 0.9889707829004035, 0.9037023098618808)\n",
      "10 (0.9873645075995122, 0.9882949363071762, 0.8558966398934207)\n",
      "20 (0.9769128107097297, 0.9746897439820481, 0.8059990066903364)\n",
      "40 (0.9757208367538309, 0.9737602764177886, 0.8557393580339938)\n"
     ]
    }
   ],
   "source": [
    "min_samples_split=2\n",
    "#max_depthint, default=3\n",
    "from sklearn.ensemble import GradientBoostingClassifier\n",
    "for para in [2,4,5,6,8,10,20,40]:\n",
    "    clf = GradientBoostingClassifier(random_state=123,\n",
    "            loss=loss,learning_rate=learning_rate,n_estimators=n_estimators,subsample=subsample,\n",
    "            criterion=criterion,min_samples_split=min_samples_split,\n",
    "            max_depth=para)\n",
    "    out=test_test2_auc(clf,x_train, y_train,x_test1,y_test1,x_test2,y_test2)\n",
    "    print(para,out)\n",
    "\n",
    "#"
   ]
  },
  {
   "cell_type": "code",
   "execution_count": 26,
   "metadata": {},
   "outputs": [
    {
     "name": "stdout",
     "output_type": "stream",
     "text": [
      "0.0001 (0.9950373522209398, 0.9875896771159164, 0.9426244760990294)\n",
      "0.001 (0.9950833206074028, 0.9863198269413844, 0.9003929903201046)\n",
      "0.01 (0.9949471725308012, 0.9861255666621332, 0.7875241134200387)\n",
      "0.1 (0.9928328076296669, 0.9908992758057935, 0.9389230675910937)\n",
      "0.2 (0.9838339856503183, 0.9729320118772382, 0.9276626171701408)\n",
      "0.3 (0.8419406617638889, 0.740243120721701, 0.5443158153970749)\n",
      "0.4 (0.8263167591331484, 0.7620152715444943, 0.42054651585302494)\n",
      "0.5 (0.5, 0.5, 0.5)\n"
     ]
    }
   ],
   "source": [
    "max_depth=3\n",
    "#min_samples_leafint or float, default=1\n",
    "from sklearn.ensemble import GradientBoostingClassifier\n",
    "for para in [0.0001,0.001,0.01,0.1,0.2,0.3,0.4 ,0.5]:\n",
    "    clf = GradientBoostingClassifier(random_state=123,\n",
    "            loss=loss,learning_rate=learning_rate,n_estimators=n_estimators,subsample=subsample,\n",
    "            criterion=criterion,min_samples_split=min_samples_split,max_depth=max_depth,\n",
    "            min_samples_leaf=para)\n",
    "    out=test_test2_auc(clf,x_train, y_train,x_test1,y_test1,x_test2,y_test2)\n",
    "    print(para,out)\n",
    "\n",
    "#"
   ]
  },
  {
   "cell_type": "code",
   "execution_count": 27,
   "metadata": {},
   "outputs": [
    {
     "name": "stdout",
     "output_type": "stream",
     "text": [
      "0.001 (0.9950833206074028, 0.9863198269413844, 0.9003929903201046)\n",
      "0.01 (0.9949471725308012, 0.9861255666621332, 0.7875241134200387)\n",
      "0.1 (0.9928328076296669, 0.9908992758057935, 0.9389230675910937)\n",
      "0.2 (0.9838339856503183, 0.9729320118772382, 0.9276626171701408)\n",
      "0.5 (0.5, 0.5, 0.5)\n"
     ]
    }
   ],
   "source": [
    "min_samples_leaf=1\n",
    "#(0.9953899057144209, 0.9878844972573553, 0.93855434923537)\n",
    "#min_weight_fraction_leaffloat, default=0.0\n",
    "from sklearn.ensemble import GradientBoostingClassifier\n",
    "for para in [0.001,0.01,0.1,0.2,0.5]:\n",
    "    clf = GradientBoostingClassifier(random_state=123,\n",
    "            loss=loss,learning_rate=learning_rate,n_estimators=n_estimators,subsample=subsample,\n",
    "            criterion=criterion,min_samples_split=min_samples_split,max_depth=max_depth,                     \n",
    "            min_samples_leaf=min_samples_leaf,\n",
    "            min_weight_fraction_leaf=para)\n",
    "    out=test_test2_auc(clf,x_train, y_train,x_test1,y_test1,x_test2,y_test2)\n",
    "    print(para,out)\n",
    "\n",
    "#"
   ]
  },
  {
   "cell_type": "code",
   "execution_count": 28,
   "metadata": {},
   "outputs": [
    {
     "name": "stdout",
     "output_type": "stream",
     "text": [
      "0.001 (0.9953899057144209, 0.9878844972573553, 0.93855434923537)\n",
      "0.01 (0.9953899057144209, 0.9878844972573553, 0.93855434923537)\n",
      "0.1 (0.9950440446392049, 0.9889005592955257, 0.9412092329648214)\n",
      "0.2 (0.9951354129441705, 0.9882241658733396, 0.9429437961481475)\n"
     ]
    }
   ],
   "source": [
    "min_weight_fraction_leaf=0\n",
    "#min_impurity_decreasefloat, default=0.0\n",
    "from sklearn.ensemble import GradientBoostingClassifier\n",
    "for para in [0.001,0.01,0.1,0.2]:\n",
    "    clf = GradientBoostingClassifier(random_state=123,\n",
    "            loss=loss,learning_rate=learning_rate,n_estimators=n_estimators,subsample=subsample,\n",
    "            criterion=criterion,min_samples_split=min_samples_split,max_depth=max_depth,\n",
    "            min_samples_leaf=min_samples_leaf,min_weight_fraction_leaf=min_weight_fraction_leaf,\n",
    "            min_impurity_decrease=para                        )\n",
    "    out=test_test2_auc(clf,x_train, y_train,x_test1,y_test1,x_test2,y_test2)\n",
    "    print(para,out)\n",
    "\n",
    "#"
   ]
  },
  {
   "cell_type": "code",
   "execution_count": 29,
   "metadata": {},
   "outputs": [
    {
     "name": "stdout",
     "output_type": "stream",
     "text": [
      "auto (0.9953899057144209, 0.9878844972573553, 0.93855434923537)\n",
      "sqrt (0.994920196142118, 0.9835073694410446, 0.922621097930139)\n",
      "log2 (0.9944220114928719, 0.9855553033909061, 0.9441797080153441)\n",
      "2 (0.9946398380796533, 0.9839815098145882, 0.9266136408263661)\n",
      "4 (0.9944220114928719, 0.9855553033909061, 0.9441797080153441)\n",
      "6 (0.9951034237016515, 0.986805748220681, 0.9385042169271806)\n",
      "8 (0.9947102247489764, 0.9860648998141348, 0.9237178577770346)\n",
      "10 (0.9948922378542299, 0.9876164462350968, 0.9194592393065951)\n",
      "20 (0.9952968061661203, 0.9869865559408858, 0.9283699744966746)\n"
     ]
    }
   ],
   "source": [
    "min_impurity_decrease=0\n",
    "#max_features{‘auto’, ‘sqrt’, ‘log2’}, int or float, default=None\n",
    "from sklearn.ensemble import GradientBoostingClassifier\n",
    "for para in ['auto','sqrt','log2',2,4,6,8,10,20]:\n",
    "    clf = GradientBoostingClassifier(random_state=123,\n",
    "            loss=loss,learning_rate=learning_rate,n_estimators=n_estimators,subsample=subsample,\n",
    "            criterion=criterion,min_samples_split=min_samples_split,max_depth=max_depth,\n",
    "            min_samples_leaf=min_samples_leaf,min_weight_fraction_leaf=min_weight_fraction_leaf,\n",
    "            min_impurity_decrease=min_impurity_decrease,\n",
    "            max_features=para                        )\n",
    "    out=test_test2_auc(clf,x_train, y_train,x_test1,y_test1,x_test2,y_test2)\n",
    "    print(para,out)\n",
    "\n",
    "#"
   ]
  },
  {
   "cell_type": "code",
   "execution_count": 30,
   "metadata": {},
   "outputs": [
    {
     "name": "stdout",
     "output_type": "stream",
     "text": [
      "2 (0.992848311301324, 0.9891924129606963, 0.9531295654898526)\n",
      "4 (0.9950528558925967, 0.9871544692642459, 0.9296672488962965)\n",
      "6 (0.9950380498861644, 0.9865137698898409, 0.9173984124191659)\n",
      "8 (0.9953899057144209, 0.9878812106169818, 0.93855434923537)\n",
      "10 (0.9953899057144209, 0.9878812106169818, 0.93855434923537)\n",
      "20 (0.9953899057144209, 0.9878812106169818, 0.93855434923537)\n"
     ]
    }
   ],
   "source": [
    "max_features=None\n",
    "#(0.9953899057144209, 0.9878844972573553, 0.93855434923537)\n",
    "#max_leaf_nodesint, default=None\n",
    "from sklearn.ensemble import GradientBoostingClassifier\n",
    "for para in [2,4,6,8,10,20]:\n",
    "    clf = GradientBoostingClassifier(random_state=123,\n",
    "            loss=loss,learning_rate=learning_rate,n_estimators=n_estimators,subsample=subsample,\n",
    "            criterion=criterion,min_samples_split=min_samples_split,max_depth=max_depth,\n",
    "            min_samples_leaf=min_samples_leaf,min_weight_fraction_leaf=min_weight_fraction_leaf,\n",
    "            min_impurity_decrease=min_impurity_decrease,\n",
    "            max_features=max_features,                        \n",
    "            max_leaf_nodes=para                        )\n",
    "    out=test_test2_auc(clf,x_train, y_train,x_test1,y_test1,x_test2,y_test2)\n",
    "    print(para,out)\n",
    "\n",
    "#"
   ]
  },
  {
   "cell_type": "code",
   "execution_count": 31,
   "metadata": {},
   "outputs": [
    {
     "name": "stdout",
     "output_type": "stream",
     "text": [
      "1e-06 (0.9953899057144209, 0.9878844972573553, 0.93855434923537)\n",
      "1e-05 (0.9953899057144209, 0.9878844972573553, 0.93855434923537)\n",
      "0.001 (0.9953899057144209, 0.9878844972573553, 0.93855434923537)\n",
      "0.01 (0.9953899057144209, 0.9878844972573553, 0.93855434923537)\n",
      "0.1 (0.9953899057144209, 0.9878844972573553, 0.93855434923537)\n"
     ]
    }
   ],
   "source": [
    "#\n",
    "max_leaf_nodes=None\n",
    "#tolfloat, default=1e-4\n",
    "from sklearn.ensemble import GradientBoostingClassifier\n",
    "for para in [1e-6,1e-5,1e-3,1e-2,1e-1]:\n",
    "    clf = GradientBoostingClassifier(random_state=123,\n",
    "            loss=loss,learning_rate=learning_rate,n_estimators=n_estimators,subsample=subsample,\n",
    "            criterion=criterion,min_samples_split=min_samples_split,max_depth=max_depth,\n",
    "            min_samples_leaf=min_samples_leaf,min_weight_fraction_leaf=min_weight_fraction_leaf,\n",
    "            min_impurity_decrease=min_impurity_decrease,\n",
    "            max_features=max_features,                        \n",
    "            max_leaf_nodes=max_leaf_nodes,\n",
    "            tol=para                        )\n",
    "    out=test_test2_auc(clf,x_train, y_train,x_test1,y_test1,x_test2,y_test2)\n",
    "    print(para,out)\n",
    "\n",
    "#"
   ]
  },
  {
   "cell_type": "code",
   "execution_count": 32,
   "metadata": {},
   "outputs": [
    {
     "data": {
      "image/png": "[encoded data removed]",
      "text/plain": [
       "<Figure size 576x684 with 2 Axes>"
      ]
     },
     "metadata": {
      "needs_background": "light"
     },
     "output_type": "display_data"
    }
   ],
   "source": [
    "clf=GradientBoostingClassifier(random_state=123,\n",
    "            loss=loss,learning_rate=learning_rate,n_estimators=n_estimators,subsample=subsample,\n",
    "            criterion=criterion,min_samples_split=min_samples_split,max_depth=max_depth,\n",
    "            min_samples_leaf=min_samples_leaf,min_weight_fraction_leaf=min_weight_fraction_leaf,\n",
    "            min_impurity_decrease=min_impurity_decrease,\n",
    "            max_features=max_features,                        \n",
    "            max_leaf_nodes=max_leaf_nodes,                        \n",
    "            )\n",
    "import shap\n",
    "clf.fit(x_train,y_train)\n",
    "explainer = shap.TreeExplainer(clf)\n",
    "shap_values = explainer.shap_values(x_train)\n",
    "#shap.summary_plot(shap_values, x_train)\n",
    "shap.summary_plot(shap_values, x_train)"
   ]
  },
  {
   "cell_type": "code",
   "execution_count": 33,
   "metadata": {},
   "outputs": [],
   "source": [
    "shap_df=pd.DataFrame()\n",
    "shap_df['feature']=x_train.columns.to_list()\n",
    "shap_df['importance']=np.mean(np.abs(shap_values),axis=0)\n",
    "shap_df=shap_df.sort_values(by=['importance'],ascending=False)"
   ]
  },
  {
   "cell_type": "code",
   "execution_count": 34,
   "metadata": {},
   "outputs": [
    {
     "data": {
      "text/html": [
       "<div>\n",
       "<style scoped>\n",
       "    .dataframe tbody tr th:only-of-type {\n",
       "        vertical-align: middle;\n",
       "    }\n",
       "\n",
       "    .dataframe tbody tr th {\n",
       "        vertical-align: top;\n",
       "    }\n",
       "\n",
       "    .dataframe thead th {\n",
       "        text-align: right;\n",
       "    }\n",
       "</style>\n",
       "<table border=\"1\" class=\"dataframe\">\n",
       "  <thead>\n",
       "    <tr style=\"text-align: right;\">\n",
       "      <th></th>\n",
       "      <th>feature</th>\n",
       "      <th>importance</th>\n",
       "    </tr>\n",
       "  </thead>\n",
       "  <tbody>\n",
       "    <tr>\n",
       "      <th>0</th>\n",
       "      <td>Func</td>\n",
       "      <td>1.082047</td>\n",
       "    </tr>\n",
       "    <tr>\n",
       "      <th>1</th>\n",
       "      <td>ExonicFunc</td>\n",
       "      <td>0.877426</td>\n",
       "    </tr>\n",
       "    <tr>\n",
       "      <th>3</th>\n",
       "      <td>exonic</td>\n",
       "      <td>0.778264</td>\n",
       "    </tr>\n",
       "    <tr>\n",
       "      <th>6</th>\n",
       "      <td>intronic</td>\n",
       "      <td>0.243126</td>\n",
       "    </tr>\n",
       "    <tr>\n",
       "      <th>19</th>\n",
       "      <td>exac_lof_z</td>\n",
       "      <td>0.167066</td>\n",
       "    </tr>\n",
       "    <tr>\n",
       "      <th>2</th>\n",
       "      <td>length</td>\n",
       "      <td>0.163494</td>\n",
       "    </tr>\n",
       "    <tr>\n",
       "      <th>11</th>\n",
       "      <td>frameshift_insertion</td>\n",
       "      <td>0.104183</td>\n",
       "    </tr>\n",
       "    <tr>\n",
       "      <th>8</th>\n",
       "      <td>splicing</td>\n",
       "      <td>0.092875</td>\n",
       "    </tr>\n",
       "    <tr>\n",
       "      <th>25</th>\n",
       "      <td>p_OE-ratio_ExAC_v2</td>\n",
       "      <td>0.082165</td>\n",
       "    </tr>\n",
       "    <tr>\n",
       "      <th>22</th>\n",
       "      <td>RVIS_pop_maf_0_05</td>\n",
       "      <td>0.080971</td>\n",
       "    </tr>\n",
       "    <tr>\n",
       "      <th>17</th>\n",
       "      <td>exac_syn_z</td>\n",
       "      <td>0.078910</td>\n",
       "    </tr>\n",
       "    <tr>\n",
       "      <th>21</th>\n",
       "      <td>exac_cnv_z</td>\n",
       "      <td>0.074238</td>\n",
       "    </tr>\n",
       "    <tr>\n",
       "      <th>27</th>\n",
       "      <td>alternative-p_RVIS_maf_0_0025</td>\n",
       "      <td>0.069319</td>\n",
       "    </tr>\n",
       "    <tr>\n",
       "      <th>24</th>\n",
       "      <td>OE-ratio_ExAC_v2</td>\n",
       "      <td>0.069100</td>\n",
       "    </tr>\n",
       "    <tr>\n",
       "      <th>12</th>\n",
       "      <td>nonframeshift_deletion</td>\n",
       "      <td>0.068925</td>\n",
       "    </tr>\n",
       "    <tr>\n",
       "      <th>10</th>\n",
       "      <td>frameshift_deletion</td>\n",
       "      <td>0.064630</td>\n",
       "    </tr>\n",
       "    <tr>\n",
       "      <th>18</th>\n",
       "      <td>exac_mis_z</td>\n",
       "      <td>0.064023</td>\n",
       "    </tr>\n",
       "    <tr>\n",
       "      <th>9</th>\n",
       "      <td>UTR</td>\n",
       "      <td>0.059070</td>\n",
       "    </tr>\n",
       "    <tr>\n",
       "      <th>20</th>\n",
       "      <td>exac_pLI</td>\n",
       "      <td>0.054446</td>\n",
       "    </tr>\n",
       "    <tr>\n",
       "      <th>14</th>\n",
       "      <td>startloss</td>\n",
       "      <td>0.048258</td>\n",
       "    </tr>\n",
       "    <tr>\n",
       "      <th>26</th>\n",
       "      <td>alternative-RVIS_maf_0_0025</td>\n",
       "      <td>0.048134</td>\n",
       "    </tr>\n",
       "    <tr>\n",
       "      <th>15</th>\n",
       "      <td>stopgain</td>\n",
       "      <td>0.046503</td>\n",
       "    </tr>\n",
       "    <tr>\n",
       "      <th>23</th>\n",
       "      <td>p_RVIS_pop_maf_0_05</td>\n",
       "      <td>0.043638</td>\n",
       "    </tr>\n",
       "    <tr>\n",
       "      <th>4</th>\n",
       "      <td>stream</td>\n",
       "      <td>0.026048</td>\n",
       "    </tr>\n",
       "    <tr>\n",
       "      <th>13</th>\n",
       "      <td>nonframeshift_insertion</td>\n",
       "      <td>0.024827</td>\n",
       "    </tr>\n",
       "    <tr>\n",
       "      <th>5</th>\n",
       "      <td>intergenic</td>\n",
       "      <td>0.009502</td>\n",
       "    </tr>\n",
       "    <tr>\n",
       "      <th>16</th>\n",
       "      <td>stoploss</td>\n",
       "      <td>0.006850</td>\n",
       "    </tr>\n",
       "    <tr>\n",
       "      <th>7</th>\n",
       "      <td>ncRNA</td>\n",
       "      <td>0.000939</td>\n",
       "    </tr>\n",
       "  </tbody>\n",
       "</table>\n",
       "</div>"
      ],
      "text/plain": [
       "                          feature  importance\n",
       "0                            Func    1.082047\n",
       "1                      ExonicFunc    0.877426\n",
       "3                          exonic    0.778264\n",
       "6                        intronic    0.243126\n",
       "19                     exac_lof_z    0.167066\n",
       "2                          length    0.163494\n",
       "11           frameshift_insertion    0.104183\n",
       "8                        splicing    0.092875\n",
       "25             p_OE-ratio_ExAC_v2    0.082165\n",
       "22              RVIS_pop_maf_0_05    0.080971\n",
       "17                     exac_syn_z    0.078910\n",
       "21                     exac_cnv_z    0.074238\n",
       "27  alternative-p_RVIS_maf_0_0025    0.069319\n",
       "24               OE-ratio_ExAC_v2    0.069100\n",
       "12         nonframeshift_deletion    0.068925\n",
       "10            frameshift_deletion    0.064630\n",
       "18                     exac_mis_z    0.064023\n",
       "9                             UTR    0.059070\n",
       "20                       exac_pLI    0.054446\n",
       "14                      startloss    0.048258\n",
       "26    alternative-RVIS_maf_0_0025    0.048134\n",
       "15                       stopgain    0.046503\n",
       "23            p_RVIS_pop_maf_0_05    0.043638\n",
       "4                          stream    0.026048\n",
       "13        nonframeshift_insertion    0.024827\n",
       "5                      intergenic    0.009502\n",
       "16                       stoploss    0.006850\n",
       "7                           ncRNA    0.000939"
      ]
     },
     "execution_count": 34,
     "metadata": {},
     "output_type": "execute_result"
    }
   ],
   "source": [
    "shap_df"
   ]
  },
  {
   "cell_type": "code",
   "execution_count": 35,
   "metadata": {},
   "outputs": [
    {
     "name": "stdout",
     "output_type": "stream",
     "text": [
      "1 (0.8889429105714628, 0.9815206208350333, 0.8570402290413777)\n",
      "2 (0.9555102503817133, 0.9939405684754522, 0.9497996058235335)\n",
      "3 (0.9897988941231007, 0.9685964940613807, 0.07474367490282993)\n",
      "4 (0.9917669302032455, 0.9705782730404824, 0.10411759621410202)\n",
      "5 (0.9929383876336513, 0.9852154336098644, 0.7855673679572255)\n",
      "6 (0.9939748856022826, 0.9881707608005803, 0.8324464783660961)\n",
      "7 (0.9945535601468816, 0.9810518835849315, 0.5554725513942037)\n",
      "8 (0.9948151329271888, 0.9765742384060928, 0.49765623018195726)\n",
      "9 (0.9946873309938291, 0.9814640537875697, 0.680922567765375)\n",
      "10 (0.9943792730380039, 0.9831667629992294, 0.6658096513104923)\n",
      "11 (0.9944378510774148, 0.9780824521737159, 0.5242236083564847)\n",
      "12 (0.9945103307424115, 0.9801883613264428, 0.6237265072517008)\n",
      "13 (0.9943800482215868, 0.9760662144702843, 0.39645366253872005)\n",
      "14 (0.9943803066161144, 0.9760657158076069, 0.39653839568158095)\n",
      "15 (0.9949305060837699, 0.9806525737794098, 0.7226482824128053)\n",
      "16 (0.9948866306929806, 0.9828515628541639, 0.801625825252661)\n",
      "17 (0.99526050173499, 0.9825888271227164, 0.7425517629661086)\n",
      "18 (0.9952191586105712, 0.9857576074391403, 0.9015246299222733)\n",
      "19 (0.9952607601295177, 0.9863180249558005, 0.8931635151183187)\n",
      "20 (0.9951122866339488, 0.9860220289904349, 0.902351526746783)\n",
      "21 (0.9950056213729483, 0.9856659045060973, 0.8912208918459822)\n",
      "22 (0.9951353354258122, 0.9846961387642232, 0.8858014058302979)\n",
      "23 (0.9952121044399673, 0.9856769827508047, 0.8782779629941065)\n",
      "24 (0.9951845854227761, 0.9876537156036086, 0.9143300215573329)\n",
      "25 (0.9951533972032927, 0.9868900307130877, 0.9121391883093395)\n",
      "26 (0.9950391868220857, 0.9890066667799992, 0.9337613776117537)\n",
      "27 (0.9952935245556196, 0.9879095663901355, 0.9367044744031922)\n",
      "28 (0.9953899057144209, 0.9878935581848679, 0.9385937798004642)\n"
     ]
    }
   ],
   "source": [
    "##\n",
    "for num in range(28):\n",
    "    num_sel=shap_df.iloc[:num+1,0].to_list()\n",
    "    x_train_num=x_train[num_sel]\n",
    "    x_test1_num=x_test1[num_sel]\n",
    "    x_test2_num=x_test2[num_sel]\n",
    "    out=test_test2_auc(clf,x_train_num, y_train,x_test1_num,y_test1,x_test2_num,y_test2)\n",
    "    print(num+1,out)"
   ]
  },
  {
   "cell_type": "code",
   "execution_count": 42,
   "metadata": {},
   "outputs": [
    {
     "data": {
      "text/plain": [
       "(0.9953899057144209, 0.9938238453276047, 0.932950062483154)"
      ]
     },
     "execution_count": 42,
     "metadata": {},
     "output_type": "execute_result"
    }
   ],
   "source": [
    "#x_test1[test1_star>=2]\n",
    "test_test2_auc(clf,x_train, y_train,\n",
    "               x_test1[test1_star>=2],y_test1[test1_star>=2],\n",
    "               x_test2[test2_lab.astype('int')>=2],y_test2[test2_lab.astype('int')>=2])"
   ]
  },
  {
   "cell_type": "code",
   "execution_count": null,
   "metadata": {},
   "outputs": [],
   "source": []
  }
 ],
 "metadata": {
  "kernelspec": {
   "display_name": "py38",
   "language": "python",
   "name": "py38"
  },
  "language_info": {
   "codemirror_mode": {
    "name": "ipython",
    "version": 3
   },
   "file_extension": ".py",
   "mimetype": "text/x-python",
   "name": "python",
   "nbconvert_exporter": "python",
   "pygments_lexer": "ipython3",
   "version": "3.8.5"
  }
 },
 "nbformat": 4,
 "nbformat_minor": 4
}
