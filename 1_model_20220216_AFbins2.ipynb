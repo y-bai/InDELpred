{
 "cells": [
  {
   "cell_type": "code",
   "execution_count": 1,
   "metadata": {},
   "outputs": [],
   "source": [
    "import pandas as pd\n",
    "import numpy as np"
   ]
  },
  {
   "cell_type": "code",
   "execution_count": 2,
   "metadata": {},
   "outputs": [],
   "source": [
    "import pickle\n",
    "def save_data(data, outfile):\n",
    "    with open(outfile, 'wb') as outf:\n",
    "        pickle.dump(data, outf)\n",
    "\n",
    "def load_data(infile):\n",
    "    with open(infile, 'rb') as inf:\n",
    "        data = pickle.load(inf)\n",
    "    return data"
   ]
  },
  {
   "cell_type": "code",
   "execution_count": 3,
   "metadata": {},
   "outputs": [],
   "source": [
    "x_train,y_train=load_data('train_data.pkl')\n",
    "x_test1,y_test1,test1_star=load_data('test1_data.pkl')\n",
    "x_test2,y_test2,test2_lab=load_data('test2_data.pkl')"
   ]
  },
  {
   "cell_type": "markdown",
   "metadata": {},
   "source": [
    "### AF make bin"
   ]
  },
  {
   "cell_type": "code",
   "execution_count": 5,
   "metadata": {},
   "outputs": [],
   "source": [
    "af_cut_off=0.005\n",
    "x_train.loc[x_train['gnomad_genome_controls_AF_popmax']>af_cut_off,'AF']=0\n",
    "x_train.loc[x_train['gnomad_genome_controls_AF_popmax']<=af_cut_off,'AF']=1\n",
    "x_test1.loc[x_test1['gnomad_genome_controls_AF_popmax']>af_cut_off,'AF']=0\n",
    "x_test1.loc[x_test1['gnomad_genome_controls_AF_popmax']<=af_cut_off,'AF']=1\n",
    "x_test2.loc[x_test2['gnomad_genome_controls_AF_popmax']>af_cut_off,'AF']=0\n",
    "x_test2.loc[x_test2['gnomad_genome_controls_AF_popmax']<=af_cut_off,'AF']=1"
   ]
  },
  {
   "cell_type": "code",
   "execution_count": 6,
   "metadata": {},
   "outputs": [],
   "source": [
    "x_train = x_train.drop(['gnomad_genome_controls_AF_popmax'], axis=1) \n",
    "x_test1 = x_test1.drop(['gnomad_genome_controls_AF_popmax'], axis=1) \n",
    "x_test2 = x_test2.drop(['gnomad_genome_controls_AF_popmax'], axis=1) "
   ]
  },
  {
   "cell_type": "code",
   "execution_count": 7,
   "metadata": {},
   "outputs": [
    {
     "data": {
      "text/plain": [
       "(0.9950212542418693, 0.9965753008975928, 0.9505702781267058)"
      ]
     },
     "execution_count": 7,
     "metadata": {},
     "output_type": "execute_result"
    }
   ],
   "source": [
    "from sklearn.metrics import roc_curve, auc\n",
    "from sklearn.model_selection import train_test_split\n",
    "def test_test2_auc(rfc,x_train, y_train,x_test,y_test,x_test2,y_test2):\n",
    "    x_tra, x_val, y_tra, y_val = train_test_split(x_train, y_train, test_size=0.2, random_state=123)\n",
    "    rfc.fit(x_tra, y_tra)\n",
    "    y_val_pred_prob=rfc.predict_proba(x_val)[:,1]\n",
    "    fpr, tpr, _ = roc_curve(y_val, y_val_pred_prob)\n",
    "    val_auc= auc(fpr, tpr)\n",
    "#     print('val auc ',val_auc)\n",
    "    rfc.fit(x_train, y_train)\n",
    "    y_test_pred_prob=rfc.predict_proba(x_test)[:,1]\n",
    "    fpr, tpr, _ = roc_curve(y_test, y_test_pred_prob)\n",
    "    test1_auc=auc(fpr, tpr)\n",
    "#     print('test1 auc ',test1_auc)\n",
    "    y_test2_pred_prob=rfc.predict_proba(x_test2)[:,1]\n",
    "    fpr2, tpr2, _ = roc_curve(y_test2, y_test2_pred_prob)\n",
    "    test2_auc=auc(fpr2, tpr2)\n",
    "#     print('test2 auc ',test2_auc)\n",
    "    return val_auc,test1_auc,test2_auc\n",
    "    \n",
    "from sklearn.ensemble import GradientBoostingClassifier\n",
    "clf = GradientBoostingClassifier(random_state=123)\n",
    "test_test2_auc(clf,x_train, y_train,x_test1,y_test1,x_test2,y_test2)"
   ]
  },
  {
   "cell_type": "code",
   "execution_count": 8,
   "metadata": {},
   "outputs": [
    {
     "data": {
      "text/plain": [
       "(0.995566880126386, 0.9970648686477175, 0.9185427796088018)"
      ]
     },
     "execution_count": 8,
     "metadata": {},
     "output_type": "execute_result"
    }
   ],
   "source": [
    "#loss loss{‘deviance’, ‘exponential’}, default=’deviance’\n",
    "from sklearn.ensemble import GradientBoostingClassifier\n",
    "clf = GradientBoostingClassifier(random_state=123,loss='exponential')\n",
    "test_test2_auc(clf,x_train, y_train,x_test1,y_test1,x_test2,y_test2)"
   ]
  },
  {
   "cell_type": "code",
   "execution_count": 9,
   "metadata": {},
   "outputs": [
    {
     "name": "stdout",
     "output_type": "stream",
     "text": [
      "0.0001 (0.9535452633569944, 0.9858989244752708, 0.9120579930541137)\n",
      "0.001 (0.9582444779151489, 0.9858998623011016, 0.9120579930541137)\n",
      "0.01 (0.9915082514416477, 0.9974305328890702, 0.8690822149889466)\n",
      "0.2 (0.9959862544447089, 0.9959782883403601, 0.9347825499755253)\n",
      "0.3 (0.9960279851609192, 0.9963583882995602, 0.9555505229144724)\n",
      "0.4 (0.9961900502086408, 0.9949927523913142, 0.9410182751127192)\n"
     ]
    }
   ],
   "source": [
    "loss='exponential'\n",
    "#learning_ratefloat, default=0.1\n",
    "from sklearn.ensemble import GradientBoostingClassifier\n",
    "for para in [0.0001,0.001,0.01,0.2,0.3,0.4]:\n",
    "    \n",
    "    clf = GradientBoostingClassifier(random_state=123,loss=loss,\n",
    "                                    learning_rate=para)\n",
    "    out=test_test2_auc(clf,x_train, y_train,x_test1,y_test1,x_test2,y_test2)\n",
    "    print(para,out)\n",
    "\n",
    "#"
   ]
  },
  {
   "cell_type": "code",
   "execution_count": 10,
   "metadata": {},
   "outputs": [
    {
     "name": "stdout",
     "output_type": "stream",
     "text": [
      "0.5 (0.9961419371475984, 0.9949769283512399, 0.9277814079865009)\n",
      "0.6 (0.9963879804167955, 0.9952676628586972, 0.9487529489247641)\n",
      "0.7 (0.9959979338773574, 0.995090164445351, 0.9396051312230416)\n",
      "0.8 (0.9967386217907721, 0.9939650652794777, 0.924933922241399)\n",
      "0.9 (0.9961935385347636, 0.9956634310258852, 0.9587451473687276)\n"
     ]
    }
   ],
   "source": [
    "\n",
    "#learning_ratefloat, default=0.1\n",
    "from sklearn.ensemble import GradientBoostingClassifier\n",
    "for para in [0.5,0.6,0.7,0.8,0.9]:\n",
    "    \n",
    "    clf = GradientBoostingClassifier(random_state=123,loss=loss,\n",
    "                                    learning_rate=para)\n",
    "    out=test_test2_auc(clf,x_train, y_train,x_test1,y_test1,x_test2,y_test2)\n",
    "    print(para,out)\n",
    "\n",
    "#0.3 (0.9960279851609192, 0.9963583882995602, 0.9555505229144724)"
   ]
  },
  {
   "cell_type": "code",
   "execution_count": 31,
   "metadata": {},
   "outputs": [
    {
     "name": "stdout",
     "output_type": "stream",
     "text": [
      "10 (0.9935331343178682, 0.9968497523686478, 0.868249989312937)\n",
      "20 (0.9949303252076006, 0.997498733510132, 0.9052670691187563)\n",
      "40 (0.9957364127759556, 0.9970036748039349, 0.9477176250104521)\n",
      "60 (0.9957466451992494, 0.9968488003762637, 0.9555287671075218)\n",
      "80 (0.9958421736561094, 0.9963208157668073, 0.9493082358031174)\n",
      "100 (0.9960279851609192, 0.9963583882995602, 0.9555505229144724)\n",
      "120 (0.9962259928874323, 0.9962069195113107, 0.9498160034189205)\n",
      "140 (0.9963786265348957, 0.9960911079378033, 0.9480697108902816)\n",
      "160 (0.9963953188213799, 0.995985006119951, 0.9514330382686111)\n",
      "180 (0.9964420107125204, 0.9959618381386282, 0.9538798912691155)\n",
      "200 (0.9965314152190758, 0.9959175449929734, 0.953695289870731)\n",
      "300 (0.9963673088545861, 0.9950693084455324, 0.944787343886671)\n"
     ]
    }
   ],
   "source": [
    "learning_rate=0.3\n",
    "#n_estimatorsint, default=100\n",
    "from sklearn.ensemble import GradientBoostingClassifier\n",
    "for para in [10,20,40,60,80,100,120,140,160,180,200,300]:\n",
    "    \n",
    "    clf = GradientBoostingClassifier(random_state=123,loss=loss,learning_rate=learning_rate,\n",
    "                                    n_estimators=para)\n",
    "    out=test_test2_auc(clf,x_train, y_train,x_test1,y_test1,x_test2,y_test2)\n",
    "    print(para,out)\n",
    "    \n",
    "#100 (0.9966599406571128, 0.9950980240491409, 0.9314274287349055)"
   ]
  },
  {
   "cell_type": "code",
   "execution_count": 32,
   "metadata": {},
   "outputs": [
    {
     "name": "stdout",
     "output_type": "stream",
     "text": [
      "0.2 (0.9952777883288876, 0.9968958814996147, 0.9593271519047399)\n",
      "0.5 (0.9961455288315323, 0.9963387307901537, 0.9544349873070574)\n",
      "0.6 (0.9957237514441024, 0.996171205630355, 0.9582300103770206)\n",
      "0.7 (0.9962946999923257, 0.9962583780996418, 0.9530137547199238)\n",
      "0.8 (0.9963594019820411, 0.9966683949861734, 0.9593330826375389)\n",
      "0.9 (0.9963358364011223, 0.9970207370007707, 0.9575360999595066)\n"
     ]
    }
   ],
   "source": [
    "n_estimators=100\n",
    "#subsamplefloat, default=1.0\n",
    "from sklearn.ensemble import GradientBoostingClassifier\n",
    "for para in [0.2,0.5,0.6,0.7,0.8,0.9]:\n",
    "    clf = GradientBoostingClassifier(random_state=123,\n",
    "                                     loss=loss,learning_rate=learning_rate,n_estimators=n_estimators,\n",
    "                                    subsample=para)\n",
    "    out=test_test2_auc(clf,x_train, y_train,x_test1,y_test1,x_test2,y_test2)\n",
    "    print(para,out)\n",
    "\n",
    "#0.8 (0.9963594019820411, 0.9966683949861734, 0.9593330826375389)"
   ]
  },
  {
   "cell_type": "code",
   "execution_count": 49,
   "metadata": {},
   "outputs": [
    {
     "name": "stdout",
     "output_type": "stream",
     "text": [
      "squared_error (0.9963594019820411, 0.9966610227118183, 0.9592629120861054)\n"
     ]
    }
   ],
   "source": [
    "subsample=0.8\n",
    "#criterion{‘friedman_mse’, ‘squared_error’, ‘mse’, ‘mae’}, default=’friedman_mse’\n",
    "from sklearn.ensemble import GradientBoostingClassifier\n",
    "for para in ['squared_error']:\n",
    "    clf = GradientBoostingClassifier(random_state=123,\n",
    "                                     loss=loss,learning_rate=learning_rate,\n",
    "                                     n_estimators=n_estimators,subsample=subsample,\n",
    "                                    criterion=para)\n",
    "    out=test_test2_auc(clf,x_train, y_train,x_test1,y_test1,x_test2,y_test2)\n",
    "    print(para,out)\n",
    "\n",
    "#"
   ]
  },
  {
   "cell_type": "code",
   "execution_count": 50,
   "metadata": {},
   "outputs": [
    {
     "name": "stdout",
     "output_type": "stream",
     "text": [
      "2 (0.9963594019820411, 0.9966683949861734, 0.9593330826375389)\n",
      "4 (0.9964225536045906, 0.9966684686522508, 0.9592553665498214)\n",
      "6 (0.9964226569624017, 0.9966690126478989, 0.9592552784696314)\n",
      "8 (0.9964226569624017, 0.9966681739879415, 0.9592414498797881)\n",
      "10 (0.9964223985678742, 0.9967426730586156, 0.9582656828540048)\n",
      "20 (0.9962568451940299, 0.996694693775783, 0.96007421871697)\n"
     ]
    }
   ],
   "source": [
    "criterion='friedman_mse'\n",
    "#\n",
    "#min_samples_splitint or float, default=2\n",
    "from sklearn.ensemble import GradientBoostingClassifier\n",
    "for para in [2,4,6,8,10,20]:\n",
    "    clf = GradientBoostingClassifier(random_state=123,\n",
    "            loss=loss,learning_rate=learning_rate,n_estimators=n_estimators,subsample=subsample,\n",
    "            criterion=criterion,\n",
    "            min_samples_split=para)\n",
    "    out=test_test2_auc(clf,x_train, y_train,x_test1,y_test1,x_test2,y_test2)\n",
    "    print(para,out)\n",
    "\n",
    "#"
   ]
  },
  {
   "cell_type": "code",
   "execution_count": 51,
   "metadata": {},
   "outputs": [
    {
     "name": "stdout",
     "output_type": "stream",
     "text": [
      "12 (0.9964223985678742, 0.9967655832086677, 0.9624719670115025)\n",
      "14 (0.9963783681403682, 0.9967648805476222, 0.9623376153615609)\n",
      "16 (0.9962568451940298, 0.996075085565982, 0.9515129416810492)\n",
      "18 (0.9962567935151243, 0.9966875283331067, 0.9546880563732006)\n"
     ]
    }
   ],
   "source": [
    "criterion='friedman_mse'\n",
    "#\n",
    "#min_samples_splitint or float, default=2\n",
    "from sklearn.ensemble import GradientBoostingClassifier\n",
    "for para in [12,14,16,18]:\n",
    "    clf = GradientBoostingClassifier(random_state=123,\n",
    "            loss=loss,learning_rate=learning_rate,n_estimators=n_estimators,subsample=subsample,\n",
    "            criterion=criterion,\n",
    "            min_samples_split=para)\n",
    "    out=test_test2_auc(clf,x_train, y_train,x_test1,y_test1,x_test2,y_test2)\n",
    "    print(para,out)\n",
    "\n",
    "#12 (0.9964223985678742, 0.9967655832086677, 0.9624719670115025)"
   ]
  },
  {
   "cell_type": "code",
   "execution_count": 65,
   "metadata": {},
   "outputs": [
    {
     "name": "stdout",
     "output_type": "stream",
     "text": [
      "2 (0.9954655377926545, 0.9972498753343306, 0.9676402923651621)\n",
      "4 (0.9966237395837936, 0.9963519906840745, 0.9613227847714754)\n",
      "5 (0.9968199643880662, 0.9963729571830092, 0.9578490048347804)\n",
      "6 (0.99641309636488, 0.996152885443583, 0.9536583989511176)\n",
      "8 (0.9958227165481799, 0.9961363559091527, 0.9542561111210283)\n",
      "10 (0.994640096474181, 0.9958823127748312, 0.9395684751839349)\n",
      "20 (0.9922305416646964, 0.9933414904347433, 0.8763048199359059)\n",
      "40 (0.9905847235604907, 0.9923398499478672, 0.9286487482982906)\n"
     ]
    }
   ],
   "source": [
    "min_samples_split=12\n",
    "#max_depthint, default=3\n",
    "from sklearn.ensemble import GradientBoostingClassifier\n",
    "for para in [2,4,5,6,8,10,20,40]:\n",
    "    clf = GradientBoostingClassifier(random_state=123,\n",
    "            loss=loss,learning_rate=learning_rate,n_estimators=n_estimators,subsample=subsample,\n",
    "            criterion=criterion,min_samples_split=min_samples_split,\n",
    "            max_depth=para)\n",
    "    out=test_test2_auc(clf,x_train, y_train,x_test1,y_test1,x_test2,y_test2)\n",
    "    print(para,out)\n",
    "\n",
    "#"
   ]
  },
  {
   "cell_type": "code",
   "execution_count": 66,
   "metadata": {},
   "outputs": [
    {
     "name": "stdout",
     "output_type": "stream",
     "text": [
      "0.0001 (0.9960954261326271, 0.9966748067682125, 0.9578282913100788)\n",
      "0.001 (0.9960043679010949, 0.9964385653248108, 0.954510633510308)\n",
      "0.01 (0.9958390212428726, 0.9967045650301464, 0.9236541317595084)\n",
      "0.1 (0.9908662960772352, 0.9927981067818125, 0.947545325478616)\n",
      "0.2 (0.9636773778950201, 0.9514604328165375, 0.886129284337886)\n",
      "0.3 (0.8274055303147169, 0.758762101069858, 0.4365861827079091)\n",
      "0.4 (0.5, 0.5, 0.5)\n",
      "0.5 (0.5, 0.5, 0.5)\n"
     ]
    }
   ],
   "source": [
    "max_depth=3\n",
    "#min_samples_leafint or float, default=1\n",
    "from sklearn.ensemble import GradientBoostingClassifier\n",
    "for para in [0.0001,0.001,0.01,0.1,0.2,0.3,0.4 ,0.5]:\n",
    "    clf = GradientBoostingClassifier(random_state=123,\n",
    "            loss=loss,learning_rate=learning_rate,n_estimators=n_estimators,subsample=subsample,\n",
    "            criterion=criterion,min_samples_split=min_samples_split,max_depth=max_depth,\n",
    "            min_samples_leaf=para)\n",
    "    out=test_test2_auc(clf,x_train, y_train,x_test1,y_test1,x_test2,y_test2)\n",
    "    print(para,out)\n",
    "\n",
    "#"
   ]
  },
  {
   "cell_type": "code",
   "execution_count": 67,
   "metadata": {},
   "outputs": [
    {
     "name": "stdout",
     "output_type": "stream",
     "text": [
      "0.001 (0.9961030487711919, 0.995949422571286, 0.9413999118963218)\n",
      "0.01 (0.9960276492480332, 0.9970559578856703, 0.9396299111165185)\n",
      "0.1 (0.9912267564432614, 0.993473874042341, 0.94836300324323)\n",
      "0.2 (0.982542633159098, 0.9738667748991341, 0.9277671536757389)\n",
      "0.5 (0.7757492859913216, 0.5, 0.5)\n"
     ]
    }
   ],
   "source": [
    "min_samples_leaf=1\n",
    "#\n",
    "#min_weight_fraction_leaffloat, default=0.0\n",
    "from sklearn.ensemble import GradientBoostingClassifier\n",
    "for para in [0.001,0.01,0.1,0.2,0.5]:\n",
    "    clf = GradientBoostingClassifier(random_state=123,\n",
    "            loss=loss,learning_rate=learning_rate,n_estimators=n_estimators,subsample=subsample,\n",
    "            criterion=criterion,min_samples_split=min_samples_split,max_depth=max_depth,                     \n",
    "            min_samples_leaf=min_samples_leaf,\n",
    "            min_weight_fraction_leaf=para)\n",
    "    out=test_test2_auc(clf,x_train, y_train,x_test1,y_test1,x_test2,y_test2)\n",
    "    print(para,out)\n",
    "\n",
    "#"
   ]
  },
  {
   "cell_type": "code",
   "execution_count": 68,
   "metadata": {},
   "outputs": [
    {
     "name": "stdout",
     "output_type": "stream",
     "text": [
      "0.001 (0.9964223985678742, 0.9967655832086677, 0.9624719670115025)\n",
      "0.01 (0.9964223985678742, 0.9967655832086677, 0.9624719670115025)\n",
      "0.1 (0.9964223985678742, 0.9967651808785529, 0.962533270823801)\n",
      "0.2 (0.9964211065952361, 0.9967663198694411, 0.962390757076245)\n"
     ]
    }
   ],
   "source": [
    "min_weight_fraction_leaf=0\n",
    "#min_impurity_decreasefloat, default=0.0\n",
    "from sklearn.ensemble import GradientBoostingClassifier\n",
    "for para in [0.001,0.01,0.1,0.2]:\n",
    "    clf = GradientBoostingClassifier(random_state=123,\n",
    "            loss=loss,learning_rate=learning_rate,n_estimators=n_estimators,subsample=subsample,\n",
    "            criterion=criterion,min_samples_split=min_samples_split,max_depth=max_depth,\n",
    "            min_samples_leaf=min_samples_leaf,min_weight_fraction_leaf=min_weight_fraction_leaf,\n",
    "            min_impurity_decrease=para                        )\n",
    "    out=test_test2_auc(clf,x_train, y_train,x_test1,y_test1,x_test2,y_test2)\n",
    "    print(para,out)\n",
    "\n",
    "#"
   ]
  },
  {
   "cell_type": "code",
   "execution_count": 69,
   "metadata": {},
   "outputs": [
    {
     "name": "stdout",
     "output_type": "stream",
     "text": [
      "auto (0.9964223985678742, 0.9967655832086677, 0.9624719670115025)\n",
      "sqrt (0.9961154000296121, 0.996880357790471, 0.964800528316724)\n",
      "log2 (0.995890803506207, 0.9959990196745093, 0.9636241439779925)\n",
      "2 (0.9953522576317471, 0.9973233799129606, 0.9534910612699894)\n",
      "4 (0.995890803506207, 0.9959990196745093, 0.9636241439779925)\n",
      "6 (0.9961135912679187, 0.9968822872750351, 0.9607663234905873)\n",
      "8 (0.9960990436560138, 0.9958337158302734, 0.9587856055360396)\n",
      "10 (0.9965376683666443, 0.9965708780996418, 0.9649490755573009)\n",
      "20 (0.9961592495809487, 0.994157308241534, 0.9474873099934139)\n"
     ]
    }
   ],
   "source": [
    "min_impurity_decrease=0\n",
    "#max_features{‘auto’, ‘sqrt’, ‘log2’}, int or float, default=None\n",
    "from sklearn.ensemble import GradientBoostingClassifier\n",
    "for para in ['auto','sqrt','log2',2,4,6,8,10,20]:\n",
    "    clf = GradientBoostingClassifier(random_state=123,\n",
    "            loss=loss,learning_rate=learning_rate,n_estimators=n_estimators,subsample=subsample,\n",
    "            criterion=criterion,min_samples_split=min_samples_split,max_depth=max_depth,\n",
    "            min_samples_leaf=min_samples_leaf,min_weight_fraction_leaf=min_weight_fraction_leaf,\n",
    "            min_impurity_decrease=min_impurity_decrease,\n",
    "            max_features=para                        )\n",
    "    out=test_test2_auc(clf,x_train, y_train,x_test1,y_test1,x_test2,y_test2)\n",
    "    print(para,out)\n",
    "\n",
    "#"
   ]
  },
  {
   "cell_type": "code",
   "execution_count": 70,
   "metadata": {},
   "outputs": [
    {
     "name": "stdout",
     "output_type": "stream",
     "text": [
      "2 (0.9940337737151267, 0.9979022082823338, 0.9652300220036059)\n",
      "4 (0.995968993690264, 0.9967760551248924, 0.9675488504478231)\n",
      "6 (0.9962091455642316, 0.9967270076839385, 0.9576752960199029)\n",
      "8 (0.9964218817788189, 0.9967668468652251, 0.9625372637924182)\n",
      "10 (0.9964218817788189, 0.9967668468652251, 0.9625372637924182)\n",
      "20 (0.9964218817788189, 0.9967668468652251, 0.9625372637924182)\n"
     ]
    }
   ],
   "source": [
    "max_features=None\n",
    "#\n",
    "#max_leaf_nodesint, default=None\n",
    "from sklearn.ensemble import GradientBoostingClassifier\n",
    "for para in [2,4,6,8,10,20]:\n",
    "    clf = GradientBoostingClassifier(random_state=123,\n",
    "            loss=loss,learning_rate=learning_rate,n_estimators=n_estimators,subsample=subsample,\n",
    "            criterion=criterion,min_samples_split=min_samples_split,max_depth=max_depth,\n",
    "            min_samples_leaf=min_samples_leaf,min_weight_fraction_leaf=min_weight_fraction_leaf,\n",
    "            min_impurity_decrease=min_impurity_decrease,\n",
    "            max_features=max_features,                        \n",
    "            max_leaf_nodes=para                        )\n",
    "    out=test_test2_auc(clf,x_train, y_train,x_test1,y_test1,x_test2,y_test2)\n",
    "    print(para,out)\n",
    "\n",
    "#"
   ]
  },
  {
   "cell_type": "code",
   "execution_count": 71,
   "metadata": {},
   "outputs": [
    {
     "name": "stdout",
     "output_type": "stream",
     "text": [
      "1e-06 (0.9964223985678742, 0.9967655832086677, 0.9624719670115025)\n",
      "1e-05 (0.9964223985678742, 0.9967655832086677, 0.9624719670115025)\n",
      "0.001 (0.9964223985678742, 0.9967655832086677, 0.9624719670115025)\n",
      "0.01 (0.9964223985678742, 0.9967655832086677, 0.9624719670115025)\n",
      "0.1 (0.9964223985678742, 0.9967655832086677, 0.9624719670115025)\n"
     ]
    }
   ],
   "source": [
    "#\n",
    "max_leaf_nodes=None\n",
    "#tolfloat, default=1e-4\n",
    "from sklearn.ensemble import GradientBoostingClassifier\n",
    "for para in [1e-6,1e-5,1e-3,1e-2,1e-1]:\n",
    "    clf = GradientBoostingClassifier(random_state=123,\n",
    "            loss=loss,learning_rate=learning_rate,n_estimators=n_estimators,subsample=subsample,\n",
    "            criterion=criterion,min_samples_split=min_samples_split,max_depth=max_depth,\n",
    "            min_samples_leaf=min_samples_leaf,min_weight_fraction_leaf=min_weight_fraction_leaf,\n",
    "            min_impurity_decrease=min_impurity_decrease,\n",
    "            max_features=max_features,                        \n",
    "            max_leaf_nodes=max_leaf_nodes,\n",
    "            tol=para                        )\n",
    "    out=test_test2_auc(clf,x_train, y_train,x_test1,y_test1,x_test2,y_test2)\n",
    "    print(para,out)\n",
    "\n",
    "#"
   ]
  },
  {
   "cell_type": "code",
   "execution_count": 72,
   "metadata": {},
   "outputs": [
    {
     "data": {
      "image/png": "[encoded data removed]",
      "text/plain": [
       "<Figure size 576x684 with 2 Axes>"
      ]
     },
     "metadata": {
      "needs_background": "light"
     },
     "output_type": "display_data"
    }
   ],
   "source": [
    "clf=GradientBoostingClassifier(random_state=123,\n",
    "            loss=loss,learning_rate=learning_rate,n_estimators=n_estimators,subsample=subsample,\n",
    "            criterion=criterion,min_samples_split=min_samples_split,max_depth=max_depth,\n",
    "            min_samples_leaf=min_samples_leaf,min_weight_fraction_leaf=min_weight_fraction_leaf,\n",
    "            min_impurity_decrease=min_impurity_decrease,\n",
    "            max_features=max_features,                        \n",
    "            max_leaf_nodes=max_leaf_nodes,                        \n",
    "            )\n",
    "import shap\n",
    "clf.fit(x_train,y_train)\n",
    "explainer = shap.TreeExplainer(clf)\n",
    "shap_values = explainer.shap_values(x_train)\n",
    "#shap.summary_plot(shap_values, x_train)\n",
    "shap.summary_plot(shap_values, x_train)"
   ]
  },
  {
   "cell_type": "code",
   "execution_count": 73,
   "metadata": {},
   "outputs": [],
   "source": [
    "shap_df=pd.DataFrame()\n",
    "shap_df['feature']=x_train.columns.to_list()\n",
    "shap_df['importance']=np.mean(np.abs(shap_values),axis=0)\n",
    "shap_df=shap_df.sort_values(by=['importance'],ascending=False)"
   ]
  },
  {
   "cell_type": "code",
   "execution_count": 74,
   "metadata": {},
   "outputs": [
    {
     "data": {
      "text/html": [
       "<div>\n",
       "<style scoped>\n",
       "    .dataframe tbody tr th:only-of-type {\n",
       "        vertical-align: middle;\n",
       "    }\n",
       "\n",
       "    .dataframe tbody tr th {\n",
       "        vertical-align: top;\n",
       "    }\n",
       "\n",
       "    .dataframe thead th {\n",
       "        text-align: right;\n",
       "    }\n",
       "</style>\n",
       "<table border=\"1\" class=\"dataframe\">\n",
       "  <thead>\n",
       "    <tr style=\"text-align: right;\">\n",
       "      <th></th>\n",
       "      <th>feature</th>\n",
       "      <th>importance</th>\n",
       "    </tr>\n",
       "  </thead>\n",
       "  <tbody>\n",
       "    <tr>\n",
       "      <th>1</th>\n",
       "      <td>ExonicFunc</td>\n",
       "      <td>0.866195</td>\n",
       "    </tr>\n",
       "    <tr>\n",
       "      <th>0</th>\n",
       "      <td>Func</td>\n",
       "      <td>0.657603</td>\n",
       "    </tr>\n",
       "    <tr>\n",
       "      <th>3</th>\n",
       "      <td>exonic</td>\n",
       "      <td>0.587579</td>\n",
       "    </tr>\n",
       "    <tr>\n",
       "      <th>28</th>\n",
       "      <td>AF</td>\n",
       "      <td>0.398710</td>\n",
       "    </tr>\n",
       "    <tr>\n",
       "      <th>6</th>\n",
       "      <td>intronic</td>\n",
       "      <td>0.205513</td>\n",
       "    </tr>\n",
       "    <tr>\n",
       "      <th>2</th>\n",
       "      <td>length</td>\n",
       "      <td>0.129690</td>\n",
       "    </tr>\n",
       "    <tr>\n",
       "      <th>22</th>\n",
       "      <td>RVIS_pop_maf_0_05</td>\n",
       "      <td>0.111635</td>\n",
       "    </tr>\n",
       "    <tr>\n",
       "      <th>8</th>\n",
       "      <td>splicing</td>\n",
       "      <td>0.103678</td>\n",
       "    </tr>\n",
       "    <tr>\n",
       "      <th>12</th>\n",
       "      <td>nonframeshift_deletion</td>\n",
       "      <td>0.101060</td>\n",
       "    </tr>\n",
       "    <tr>\n",
       "      <th>20</th>\n",
       "      <td>exac_pLI</td>\n",
       "      <td>0.088032</td>\n",
       "    </tr>\n",
       "    <tr>\n",
       "      <th>19</th>\n",
       "      <td>exac_lof_z</td>\n",
       "      <td>0.076778</td>\n",
       "    </tr>\n",
       "    <tr>\n",
       "      <th>11</th>\n",
       "      <td>frameshift_insertion</td>\n",
       "      <td>0.056922</td>\n",
       "    </tr>\n",
       "    <tr>\n",
       "      <th>17</th>\n",
       "      <td>exac_syn_z</td>\n",
       "      <td>0.047708</td>\n",
       "    </tr>\n",
       "    <tr>\n",
       "      <th>23</th>\n",
       "      <td>p_RVIS_pop_maf_0_05</td>\n",
       "      <td>0.047530</td>\n",
       "    </tr>\n",
       "    <tr>\n",
       "      <th>21</th>\n",
       "      <td>exac_cnv_z</td>\n",
       "      <td>0.047455</td>\n",
       "    </tr>\n",
       "    <tr>\n",
       "      <th>24</th>\n",
       "      <td>OE-ratio_ExAC_v2</td>\n",
       "      <td>0.042756</td>\n",
       "    </tr>\n",
       "    <tr>\n",
       "      <th>18</th>\n",
       "      <td>exac_mis_z</td>\n",
       "      <td>0.039294</td>\n",
       "    </tr>\n",
       "    <tr>\n",
       "      <th>9</th>\n",
       "      <td>UTR</td>\n",
       "      <td>0.037212</td>\n",
       "    </tr>\n",
       "    <tr>\n",
       "      <th>15</th>\n",
       "      <td>stopgain</td>\n",
       "      <td>0.031669</td>\n",
       "    </tr>\n",
       "    <tr>\n",
       "      <th>25</th>\n",
       "      <td>p_OE-ratio_ExAC_v2</td>\n",
       "      <td>0.030294</td>\n",
       "    </tr>\n",
       "    <tr>\n",
       "      <th>14</th>\n",
       "      <td>startloss</td>\n",
       "      <td>0.025427</td>\n",
       "    </tr>\n",
       "    <tr>\n",
       "      <th>26</th>\n",
       "      <td>alternative-RVIS_maf_0_0025</td>\n",
       "      <td>0.023382</td>\n",
       "    </tr>\n",
       "    <tr>\n",
       "      <th>10</th>\n",
       "      <td>frameshift_deletion</td>\n",
       "      <td>0.020494</td>\n",
       "    </tr>\n",
       "    <tr>\n",
       "      <th>27</th>\n",
       "      <td>alternative-p_RVIS_maf_0_0025</td>\n",
       "      <td>0.019555</td>\n",
       "    </tr>\n",
       "    <tr>\n",
       "      <th>13</th>\n",
       "      <td>nonframeshift_insertion</td>\n",
       "      <td>0.018574</td>\n",
       "    </tr>\n",
       "    <tr>\n",
       "      <th>4</th>\n",
       "      <td>stream</td>\n",
       "      <td>0.012992</td>\n",
       "    </tr>\n",
       "    <tr>\n",
       "      <th>16</th>\n",
       "      <td>stoploss</td>\n",
       "      <td>0.004949</td>\n",
       "    </tr>\n",
       "    <tr>\n",
       "      <th>5</th>\n",
       "      <td>intergenic</td>\n",
       "      <td>0.004118</td>\n",
       "    </tr>\n",
       "    <tr>\n",
       "      <th>7</th>\n",
       "      <td>ncRNA</td>\n",
       "      <td>0.000197</td>\n",
       "    </tr>\n",
       "  </tbody>\n",
       "</table>\n",
       "</div>"
      ],
      "text/plain": [
       "                          feature  importance\n",
       "1                      ExonicFunc    0.866195\n",
       "0                            Func    0.657603\n",
       "3                          exonic    0.587579\n",
       "28                             AF    0.398710\n",
       "6                        intronic    0.205513\n",
       "2                          length    0.129690\n",
       "22              RVIS_pop_maf_0_05    0.111635\n",
       "8                        splicing    0.103678\n",
       "12         nonframeshift_deletion    0.101060\n",
       "20                       exac_pLI    0.088032\n",
       "19                     exac_lof_z    0.076778\n",
       "11           frameshift_insertion    0.056922\n",
       "17                     exac_syn_z    0.047708\n",
       "23            p_RVIS_pop_maf_0_05    0.047530\n",
       "21                     exac_cnv_z    0.047455\n",
       "24               OE-ratio_ExAC_v2    0.042756\n",
       "18                     exac_mis_z    0.039294\n",
       "9                             UTR    0.037212\n",
       "15                       stopgain    0.031669\n",
       "25             p_OE-ratio_ExAC_v2    0.030294\n",
       "14                      startloss    0.025427\n",
       "26    alternative-RVIS_maf_0_0025    0.023382\n",
       "10            frameshift_deletion    0.020494\n",
       "27  alternative-p_RVIS_maf_0_0025    0.019555\n",
       "13        nonframeshift_insertion    0.018574\n",
       "4                          stream    0.012992\n",
       "16                       stoploss    0.004949\n",
       "5                      intergenic    0.004118\n",
       "7                           ncRNA    0.000197"
      ]
     },
     "execution_count": 74,
     "metadata": {},
     "output_type": "execute_result"
    }
   ],
   "source": [
    "shap_df"
   ]
  },
  {
   "cell_type": "code",
   "execution_count": 75,
   "metadata": {},
   "outputs": [
    {
     "name": "stdout",
     "output_type": "stream",
     "text": [
      "1 (0.9453481362390315, 0.9752630587288635, 0.9404777563462364)\n",
      "2 (0.9555102503817133, 0.9939778605104492, 0.9497996058235335)\n",
      "3 (0.9895859253534385, 0.9689660059386191, 0.07515527363109291)\n",
      "4 (0.9937060777752025, 0.9836394612176436, 0.19538973898668793)\n",
      "5 (0.9946981060456309, 0.9909769595176571, 0.8064038966441213)\n",
      "6 (0.9954380187754632, 0.992337248968675, 0.8355515839871623)\n",
      "7 (0.9958471606704924, 0.9949191911464708, 0.8664679362271238)\n",
      "8 (0.995859796162893, 0.9944561970170904, 0.8754145494146308)\n",
      "9 (0.9960893021823227, 0.9944621526361123, 0.8981792415426577)\n",
      "10 (0.996088397801476, 0.9960254006301283, 0.9213546809571099)\n",
      "11 (0.9960426361306349, 0.9954081157350742, 0.9042504328847741)\n",
      "12 (0.996203150811191, 0.9960351783852396, 0.9228572849598495)\n",
      "13 (0.9960560209671655, 0.9958903253773971, 0.9230061698411549)\n",
      "14 (0.9959615777673214, 0.995808604197833, 0.9131151021354396)\n",
      "15 (0.9959232061799702, 0.9959073054082235, 0.9176276557938915)\n",
      "16 (0.9961745465369836, 0.9962143711183643, 0.9327181998804929)\n",
      "17 (0.9961501282541239, 0.9961823320413437, 0.9016437290192987)\n",
      "18 (0.9959433092742188, 0.9962638322226756, 0.9550586097328845)\n",
      "19 (0.9961716266788216, 0.9957967581259349, 0.953555624049321)\n",
      "20 (0.9962844158901265, 0.995795874133007, 0.9535346022439544)\n",
      "21 (0.9961378803535146, 0.996447688585158, 0.9536087951240684)\n",
      "22 (0.9958635945624489, 0.9968470805566888, 0.953418952954374)\n",
      "23 (0.9960868474343103, 0.9958645960832313, 0.9392125137757417)\n",
      "24 (0.9962706693012573, 0.9964538793689651, 0.9289174075580788)\n",
      "25 (0.9960401813826225, 0.996244931207217, 0.9521029321542958)\n",
      "26 (0.9963695568869764, 0.9960686312842831, 0.9451190098424327)\n",
      "27 (0.9964661964403053, 0.9964402483113467, 0.9551483047264534)\n",
      "28 (0.9960557108937323, 0.9967492945056439, 0.9592725862269829)\n"
     ]
    }
   ],
   "source": [
    "##\n",
    "for num in range(28):\n",
    "    num_sel=shap_df.iloc[:num+1,0].to_list()\n",
    "    x_train_num=x_train[num_sel]\n",
    "    x_test1_num=x_test1[num_sel]\n",
    "    x_test2_num=x_test2[num_sel]\n",
    "    out=test_test2_auc(clf,x_train_num, y_train,x_test1_num,y_test1,x_test2_num,y_test2)\n",
    "    print(num+1,out)"
   ]
  },
  {
   "cell_type": "code",
   "execution_count": 76,
   "metadata": {},
   "outputs": [
    {
     "data": {
      "text/plain": [
       "(0.9964223985678742, 0.9967655832086677, 0.9624719670115025)"
      ]
     },
     "execution_count": 76,
     "metadata": {},
     "output_type": "execute_result"
    }
   ],
   "source": [
    "test_test2_auc(clf,x_train, y_train,x_test1,y_test1,x_test2,y_test2)"
   ]
  },
  {
   "cell_type": "code",
   "execution_count": 77,
   "metadata": {},
   "outputs": [
    {
     "data": {
      "text/plain": [
       "(0.9964223985678742, 0.9978816087838644, 0.9782391185383026)"
      ]
     },
     "execution_count": 77,
     "metadata": {},
     "output_type": "execute_result"
    }
   ],
   "source": [
    "#x_test1[test1_star>=2]\n",
    "test_test2_auc(clf,x_train, y_train,\n",
    "               x_test1[test1_star>=2],y_test1[test1_star>=2],\n",
    "               x_test2[test2_lab.astype('int')>=2],y_test2[test2_lab.astype('int')>=2])"
   ]
  },
  {
   "cell_type": "code",
   "execution_count": null,
   "metadata": {},
   "outputs": [],
   "source": []
  },
  {
   "cell_type": "code",
   "execution_count": null,
   "metadata": {},
   "outputs": [],
   "source": []
  },
  {
   "cell_type": "code",
   "execution_count": null,
   "metadata": {},
   "outputs": [],
   "source": []
  }
 ],
 "metadata": {
  "kernelspec": {
   "display_name": "py38",
   "language": "python",
   "name": "py38"
  },
  "language_info": {
   "codemirror_mode": {
    "name": "ipython",
    "version": 3
   },
   "file_extension": ".py",
   "mimetype": "text/x-python",
   "name": "python",
   "nbconvert_exporter": "python",
   "pygments_lexer": "ipython3",
   "version": "3.8.5"
  }
 },
 "nbformat": 4,
 "nbformat_minor": 4
}
