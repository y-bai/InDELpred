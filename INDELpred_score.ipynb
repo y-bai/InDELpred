{
 "cells": [
  {
   "cell_type": "code",
   "execution_count": 1,
   "metadata": {},
   "outputs": [],
   "source": [
    "import pandas as pd\n",
    "import numpy as np"
   ]
  },
  {
   "cell_type": "code",
   "execution_count": 2,
   "metadata": {},
   "outputs": [],
   "source": [
    "import pickle\n",
    "def save_data(data, outfile):\n",
    "    with open(outfile, 'wb') as outf:\n",
    "        pickle.dump(data, outf)\n",
    "\n",
    "def load_data(infile):\n",
    "    with open(infile, 'rb') as inf:\n",
    "        data = pickle.load(inf)\n",
    "    return data"
   ]
  },
  {
   "cell_type": "code",
   "execution_count": 3,
   "metadata": {},
   "outputs": [],
   "source": [
    "x_train,y_train=load_data('train_merge_data_statistics.pkl')"
   ]
  },
  {
   "cell_type": "code",
   "execution_count": 4,
   "metadata": {},
   "outputs": [],
   "source": [
    "x_train = x_train.replace({'ncRNA_splicing':0})\n",
    "af_cut_off=0.005\n",
    "x_train.loc[x_train['gnomad_genome_controls_AF_popmax']>af_cut_off,'AF']=0\n",
    "x_train.loc[x_train['gnomad_genome_controls_AF_popmax']<=af_cut_off,'AF']=1\n",
    "x_train = x_train.drop(['gnomad_genome_controls_AF_popmax'], axis=1) \n",
    "x_train = x_train.drop(['Func','ExonicFunc'], axis=1) "
   ]
  },
  {
   "cell_type": "code",
   "execution_count": 5,
   "metadata": {},
   "outputs": [
    {
     "data": {
      "text/plain": [
       "GradientBoostingClassifier(learning_rate=0.15, min_impurity_decrease=0,\n",
       "                           min_samples_leaf=0.01, min_weight_fraction_leaf=0,\n",
       "                           random_state=123, subsample=1)"
      ]
     },
     "execution_count": 5,
     "metadata": {},
     "output_type": "execute_result"
    }
   ],
   "source": [
    "from sklearn.ensemble import GradientBoostingClassifier\n",
    "clf=GradientBoostingClassifier(learning_rate=0.15, min_impurity_decrease=0,\n",
    "                           min_samples_leaf=0.01, min_weight_fraction_leaf=0,\n",
    "                           random_state=123, subsample=1)\n",
    "import shap\n",
    "clf.fit(x_train,y_train)"
   ]
  },
  {
   "cell_type": "code",
   "execution_count": 6,
   "metadata": {},
   "outputs": [],
   "source": [
    "save_data(clf,'INDELpred_model_fitted.pkl')"
   ]
  },
  {
   "cell_type": "markdown",
   "metadata": {},
   "source": [
    "### test1_vus score"
   ]
  },
  {
   "cell_type": "code",
   "execution_count": 7,
   "metadata": {},
   "outputs": [],
   "source": [
    "test1_vus=load_data('test1_vus.pkl')\n",
    "test1_vus = test1_vus.replace({'ncRNA_splicing':0})\n",
    "test1_vus.loc[test1_vus['gnomad_genome_controls_AF_popmax']>af_cut_off,'AF']=0\n",
    "test1_vus.loc[test1_vus['gnomad_genome_controls_AF_popmax']<=af_cut_off,'AF']=1\n",
    "test1_vus = test1_vus.drop(['gnomad_genome_controls_AF_popmax'], axis=1) \n",
    "test1_vus = test1_vus.drop(['Func','ExonicFunc'], axis=1) "
   ]
  },
  {
   "cell_type": "code",
   "execution_count": 20,
   "metadata": {},
   "outputs": [],
   "source": [
    "test1_vus_score = clf.predict_proba(test1_vus.iloc[:,1:])[:,1]\n",
    "test1_vus_lab = clf.predict(test1_vus.iloc[:,1:])"
   ]
  },
  {
   "cell_type": "code",
   "execution_count": 19,
   "metadata": {},
   "outputs": [
    {
     "data": {
      "image/png": "[encoded data removed]",
      "text/plain": [
       "<Figure size 432x288 with 1 Axes>"
      ]
     },
     "metadata": {
      "needs_background": "light"
     },
     "output_type": "display_data"
    }
   ],
   "source": [
    "import seaborn as sns\n",
    "import matplotlib.pyplot as plt\n",
    "hist = plt.hist(test1_vus_score, bins=50,label='vus')\n"
   ]
  },
  {
   "cell_type": "code",
   "execution_count": 21,
   "metadata": {},
   "outputs": [
    {
     "data": {
      "text/plain": [
       "array([0., 0., 0., ..., 1., 1., 0.])"
      ]
     },
     "execution_count": 21,
     "metadata": {},
     "output_type": "execute_result"
    }
   ],
   "source": [
    "test1_vus_lab"
   ]
  },
  {
   "cell_type": "code",
   "execution_count": 24,
   "metadata": {},
   "outputs": [],
   "source": [
    "test1_vus_df=pd.DataFrame()\n",
    "test1_vus_df['id']=test1_vus.iloc[:,0]\n",
    "test1_vus_df['INDELpred_score'] = test1_vus_score\n",
    "test1_vus_df['INDELpred']=test1_vus_lab\n",
    "test1_vus_df.to_csv('test1_vus_indelpred_out.gz',index=False,compression='gzip')"
   ]
  },
  {
   "cell_type": "code",
   "execution_count": null,
   "metadata": {},
   "outputs": [],
   "source": []
  }
 ],
 "metadata": {
  "kernelspec": {
   "display_name": "py38",
   "language": "python",
   "name": "py38"
  },
  "language_info": {
   "codemirror_mode": {
    "name": "ipython",
    "version": 3
   },
   "file_extension": ".py",
   "mimetype": "text/x-python",
   "name": "python",
   "nbconvert_exporter": "python",
   "pygments_lexer": "ipython3",
   "version": "3.8.5"
  }
 },
 "nbformat": 4,
 "nbformat_minor": 4
}
