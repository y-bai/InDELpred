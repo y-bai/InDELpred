{
 "cells": [
  {
   "cell_type": "code",
   "execution_count": 59,
   "metadata": {},
   "outputs": [],
   "source": [
    "import pandas as pd\n",
    "import numpy as np\n",
    "import os"
   ]
  },
  {
   "cell_type": "code",
   "execution_count": 60,
   "metadata": {},
   "outputs": [],
   "source": [
    "import pickle\n",
    "def save_data(data, outfile):\n",
    "    with open(outfile, 'wb') as outf:\n",
    "        pickle.dump(data, outf)\n",
    "\n",
    "def load_data(infile):\n",
    "    with open(infile, 'rb') as inf:\n",
    "        data = pickle.load(inf)\n",
    "    return data\n"
   ]
  },
  {
   "cell_type": "code",
   "execution_count": 61,
   "metadata": {},
   "outputs": [],
   "source": [
    "#https://annovar.openbioinformatics.org/en/latest/user-guide/gene/\n",
    "dict_gene1 = {\n",
    "    'downstream':5,\n",
    "    'exonic':1,\n",
    "    'exonic;splicing':1,\n",
    "    #'Func.refGene',\n",
    "    'intergenic':6,\n",
    "    'intronic':4,\n",
    "    'ncRNA_exonic':2.1,\n",
    "    'ncRNA_splicing':2.1,\n",
    "    'ncRNA_intronic':2.4,\n",
    "    'ncRNA_exonic;splicing':2.1,\n",
    "    'ncRNA_UTR5':2.3,\n",
    "    'splicing':1,\n",
    "    'upstream':5,\n",
    "    'upstream;downstream':5,\n",
    "    'UTR3':3,\n",
    "    'UTR5':3,\n",
    "    'UTR5;UTR3':3\n",
    "}\n",
    "dict_gene2={\n",
    "    '.':12,\n",
    "    #'ExonicFunc.refGene',\n",
    "    'frameshift_deletion':2,\n",
    "    'frameshift_insertion':1,\n",
    "    'nonframeshift_deletion':7,\n",
    "    'nonframeshift_insertion':6,\n",
    "    'stopgain':4,\n",
    "    'stoploss':5,\n",
    "    'startloss':0, ##add\n",
    "    'unknown':11\n",
    "}"
   ]
  },
  {
   "cell_type": "code",
   "execution_count": 62,
   "metadata": {},
   "outputs": [],
   "source": [
    "tag_list=['Pathogenic','Likely_pathogenic','Pathogenic/Likely_pathogenic',\n",
    "         'Benign','Likely_benign','Benign/Likely_benign']\n"
   ]
  },
  {
   "cell_type": "code",
   "execution_count": 63,
   "metadata": {},
   "outputs": [],
   "source": [
    "#https://www.ncbi.nlm.nih.gov/clinvar/docs/review_status/\n",
    "dict_CLNREVSTAT={\n",
    "    'criteria_provided,_single_submitter':1,\n",
    "    'no_assertion_criteria_provided':0,\n",
    "    'criteria_provided,_multiple_submitters,_no_conflicts':2,\n",
    "    'reviewed_by_expert_panel':3,\n",
    "    'practice_guideline':4\n",
    "}"
   ]
  },
  {
   "cell_type": "code",
   "execution_count": 64,
   "metadata": {},
   "outputs": [],
   "source": [
    "columns_list=['# [1]CHROM_[2]POS_[3]REF_[4]ALT',  '[9]Func.refGene',\n",
    "       '[10]ExonicFunc.refGene', '[11]controls_AF_popmax', '0', \n",
    "       'exonic', 'stream', 'intergenic', 'intronic', 'ncRNA', 'splicing',\n",
    "       'UTR', 'frameshift_deletion', 'frameshift_insertion',\n",
    "       'nonframeshift_deletion', 'nonframeshift_insertion', 'startloss',\n",
    "       'stopgain', 'stoploss',  'exac_syn_z', 'exac_mis_z',\n",
    "       'exac_lof_z', 'exac_pLI', 'exac_cnv_z', \n",
    "       'RVIS[pop_maf_0.05%(any)]', '%RVIS[pop_maf_0.05%(any)]',\n",
    "        'OE-ratio_[ExAC v2]',\n",
    "       '%OE-ratio_[ExAC v2]', 'alternative-RVIS[maf_0.0025%]',\n",
    "       'alternative-%RVIS[maf_0.0025%]']\n",
    "rename_col=['INDEL_index',  'Func',\n",
    "       'ExonicFunc', 'gnomad_genome_controls_AF_popmax', 'length', \n",
    "       'exonic', 'stream', 'intergenic', 'intronic', 'ncRNA', 'splicing',\n",
    "       'UTR', 'frameshift_deletion', 'frameshift_insertion',\n",
    "       'nonframeshift_deletion', 'nonframeshift_insertion', 'startloss',\n",
    "       'stopgain', 'stoploss',  'exac_syn_z', 'exac_mis_z',\n",
    "       'exac_lof_z', 'exac_pLI', 'exac_cnv_z', \n",
    "       'RVIS_pop_maf_0_05', 'p_RVIS_pop_maf_0_05',\n",
    "        'OE-ratio_ExAC_v2',\n",
    "       'p_OE-ratio_ExAC_v2', 'alternative-RVIS_maf_0_0025',\n",
    "       'alternative-p_RVIS_maf_0_0025']"
   ]
  },
  {
   "cell_type": "markdown",
   "metadata": {},
   "source": [
    "### train"
   ]
  },
  {
   "cell_type": "code",
   "execution_count": 66,
   "metadata": {},
   "outputs": [],
   "source": [
    "data_dir='/media/bgi/zhangtongda/bgi//zfssz2/ST_MCHRI/BIGDATA/USER/zhangtongda/ldfssz1_ztd_project/project/variang_predict2/INDELpred_0124/train_test_data/'\n",
    "train_data_f='fin_train_data.csv'\n",
    "train_data=pd.read_csv(os.path.join(data_dir, train_data_f),sep='\\t',header=0)\n",
    "train_data = train_data.loc[train_data['[6]CLNSIG'].isin(tag_list),]\n",
    "train_data.loc[train_data['[6]CLNSIG'].str.contains('athogenic'),'tag']=1\n",
    "train_data.loc[train_data['[6]CLNSIG'].str.contains('enign'),'tag']=0 \n",
    "train_data = train_data[columns_list+['tag','[7]CLNREVSTAT']]\n",
    "train_data['[7]CLNREVSTAT'].replace(dict_CLNREVSTAT, inplace=True)\n",
    "train_data.columns=rename_col+['tag','star']\n",
    "train_data['Func'].replace(dict_gene1, inplace=True)\n",
    "train_data['ExonicFunc'].replace(dict_gene2, inplace=True)\n",
    "train_data = train_data.replace('.', np.nan)\n",
    "\n",
    "for column in rename_col[1:]:\n",
    "    train_data[column] = pd.to_numeric(train_data[column])\n",
    "    train_data[column].fillna(0, inplace=True)\n"
   ]
  },
  {
   "cell_type": "code",
   "execution_count": 67,
   "metadata": {},
   "outputs": [],
   "source": [
    "# x_train=\n",
    "x_train = train_data.iloc[:,1:-2]\n",
    "y_train = train_data['tag']\n",
    "save_data([x_train,y_train],'train_data.pkl')"
   ]
  },
  {
   "cell_type": "markdown",
   "metadata": {},
   "source": [
    "### test1"
   ]
  },
  {
   "cell_type": "code",
   "execution_count": 68,
   "metadata": {},
   "outputs": [],
   "source": [
    "test1_data_f='fin_test1_data.csv'\n",
    "test1_data=pd.read_csv(os.path.join(data_dir, test1_data_f),sep='\\t',header=0)\n",
    "test1_data = test1_data.loc[test1_data['[6]CLNSIG'].isin(tag_list),]\n",
    "test1_data.loc[test1_data['[6]CLNSIG'].str.contains('athogenic'),'tag']=1\n",
    "test1_data.loc[test1_data['[6]CLNSIG'].str.contains('enign'),'tag']=0 \n",
    "test1_data = test1_data[columns_list+['tag','[7]CLNREVSTAT']]\n",
    "test1_data['[7]CLNREVSTAT'].replace(dict_CLNREVSTAT, inplace=True)\n",
    "test1_data.columns=rename_col+['tag','star']\n",
    "test1_data['Func'].replace(dict_gene1, inplace=True)\n",
    "test1_data['ExonicFunc'].replace(dict_gene2, inplace=True)\n",
    "test1_data = test1_data.replace('.', np.nan)\n",
    "\n",
    "for column in rename_col[1:]:\n",
    "    test1_data[column] = pd.to_numeric(test1_data[column])\n",
    "    test1_data[column].fillna(0, inplace=True)\n"
   ]
  },
  {
   "cell_type": "code",
   "execution_count": 69,
   "metadata": {},
   "outputs": [],
   "source": [
    "x_test1 = test1_data.iloc[:,1:-2]\n",
    "y_test1 = test1_data['tag']\n",
    "test1_star = test1_data['star']\n",
    "save_data([x_test1,y_test1,test1_star],'test1_data.pkl')"
   ]
  },
  {
   "cell_type": "markdown",
   "metadata": {},
   "source": [
    "### test2"
   ]
  },
  {
   "cell_type": "code",
   "execution_count": 70,
   "metadata": {},
   "outputs": [],
   "source": [
    "test2_data_f='fin_test2_data.csv'\n",
    "test2_data=pd.read_csv(os.path.join(data_dir, test2_data_f),sep='\\t',header=0)\n",
    "test2_data = test2_data.loc[test2_data['[6]VKGL_clf'].isin(['LB','LP']),]\n",
    "test2_data.loc[test2_data['[6]VKGL_clf'].str.contains('LB'),'tag']=0\n",
    "test2_data.loc[test2_data['[6]VKGL_clf'].str.contains('LP'),'tag']=1 \n",
    "test2_data = test2_data[columns_list+['tag','[7]VKGL_supp']]\n",
    "test2_data['[7]VKGL_supp'].replace({'1 lab':1}, inplace=True)\n",
    "test2_data.columns=rename_col+['tag','lab']\n",
    "test2_data['Func'].replace(dict_gene1, inplace=True)\n",
    "test2_data['ExonicFunc'].replace(dict_gene2, inplace=True)\n",
    "test2_data = test2_data.replace('.', np.nan)\n",
    "\n",
    "for column in rename_col[1:]:\n",
    "    test2_data[column] = pd.to_numeric(test2_data[column])\n",
    "    test2_data[column].fillna(0, inplace=True)\n"
   ]
  },
  {
   "cell_type": "code",
   "execution_count": 71,
   "metadata": {},
   "outputs": [],
   "source": [
    "x_test2 = test2_data.iloc[:,1:-2]\n",
    "y_test2 = test2_data['tag']\n",
    "test2_lab = test2_data['lab']\n",
    "save_data([x_test2,y_test2,test2_lab],'test2_data.pkl')"
   ]
  },
  {
   "cell_type": "code",
   "execution_count": null,
   "metadata": {},
   "outputs": [],
   "source": []
  }
 ],
 "metadata": {
  "kernelspec": {
   "display_name": "py38",
   "language": "python",
   "name": "py38"
  },
  "language_info": {
   "codemirror_mode": {
    "name": "ipython",
    "version": 3
   },
   "file_extension": ".py",
   "mimetype": "text/x-python",
   "name": "python",
   "nbconvert_exporter": "python",
   "pygments_lexer": "ipython3",
   "version": "3.8.5"
  }
 },
 "nbformat": 4,
 "nbformat_minor": 4
}
