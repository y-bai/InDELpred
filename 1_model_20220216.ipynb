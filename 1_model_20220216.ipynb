{
 "cells": [
  {
   "cell_type": "code",
   "execution_count": 10,
   "metadata": {},
   "outputs": [],
   "source": [
    "import pandas as pd\n",
    "import numpy as np"
   ]
  },
  {
   "cell_type": "code",
   "execution_count": 11,
   "metadata": {},
   "outputs": [],
   "source": [
    "import pickle\n",
    "def save_data(data, outfile):\n",
    "    with open(outfile, 'wb') as outf:\n",
    "        pickle.dump(data, outf)\n",
    "\n",
    "def load_data(infile):\n",
    "    with open(infile, 'rb') as inf:\n",
    "        data = pickle.load(inf)\n",
    "    return data"
   ]
  },
  {
   "cell_type": "code",
   "execution_count": 12,
   "metadata": {},
   "outputs": [],
   "source": [
    "x_train,y_train=load_data('train_data.pkl')\n",
    "x_test1,y_test1,test1_star=load_data('test1_data.pkl')\n",
    "x_test2,y_test2,test2_lab=load_data('test2_data.pkl')"
   ]
  },
  {
   "cell_type": "code",
   "execution_count": 15,
   "metadata": {},
   "outputs": [
    {
     "data": {
      "text/plain": [
       "(0.99594958826124, 0.996204729362165, 0.9405536814700889)"
      ]
     },
     "execution_count": 15,
     "metadata": {},
     "output_type": "execute_result"
    }
   ],
   "source": [
    "from sklearn.metrics import roc_curve, auc\n",
    "from sklearn.model_selection import train_test_split\n",
    "def test_test2_auc(rfc,x_train, y_train,x_test,y_test,x_test2,y_test2):\n",
    "    x_tra, x_val, y_tra, y_val = train_test_split(x_train, y_train, test_size=0.2, random_state=123)\n",
    "    rfc.fit(x_tra, y_tra)\n",
    "    y_val_pred_prob=rfc.predict_proba(x_val)[:,1]\n",
    "    fpr, tpr, _ = roc_curve(y_val, y_val_pred_prob)\n",
    "    val_auc= auc(fpr, tpr)\n",
    "#     print('val auc ',val_auc)\n",
    "    rfc.fit(x_train, y_train)\n",
    "    y_test_pred_prob=rfc.predict_proba(x_test)[:,1]\n",
    "    fpr, tpr, _ = roc_curve(y_test, y_test_pred_prob)\n",
    "    test1_auc=auc(fpr, tpr)\n",
    "#     print('test1 auc ',test1_auc)\n",
    "    y_test2_pred_prob=rfc.predict_proba(x_test2)[:,1]\n",
    "    fpr2, tpr2, _ = roc_curve(y_test2, y_test2_pred_prob)\n",
    "    test2_auc=auc(fpr2, tpr2)\n",
    "#     print('test2 auc ',test2_auc)\n",
    "    return val_auc,test1_auc,test2_auc\n",
    "    \n",
    "from sklearn.ensemble import GradientBoostingClassifier\n",
    "clf = GradientBoostingClassifier(random_state=123)\n",
    "test_test2_auc(clf,x_train, y_train,x_test1,y_test1,x_test2,y_test2)"
   ]
  },
  {
   "cell_type": "code",
   "execution_count": 16,
   "metadata": {},
   "outputs": [
    {
     "data": {
      "text/plain": [
       "(0.9964954725402844, 0.9974628977968176, 0.9551443411178997)"
      ]
     },
     "execution_count": 16,
     "metadata": {},
     "output_type": "execute_result"
    }
   ],
   "source": [
    "#loss loss{‘deviance’, ‘exponential’}, default=’deviance’\n",
    "from sklearn.ensemble import GradientBoostingClassifier\n",
    "clf = GradientBoostingClassifier(random_state=123,loss='exponential')\n",
    "test_test2_auc(clf,x_train, y_train,x_test1,y_test1,x_test2,y_test2)"
   ]
  },
  {
   "cell_type": "code",
   "execution_count": 17,
   "metadata": {},
   "outputs": [
    {
     "name": "stdout",
     "output_type": "stream",
     "text": [
      "0.0001 (0.9648236160195305, 0.9865081967677592, 0.9276479224584285)\n",
      "0.001 (0.9683909850283627, 0.9883762041570333, 0.9341251487968012)\n",
      "0.01 (0.9928485180169461, 0.9966701573054081, 0.9204427427090742)\n",
      "0.2 (0.9966650568687596, 0.9960369605376491, 0.9646402076907394)\n",
      "0.3 (0.9970447159481876, 0.9966115389410218, 0.9673931393517861)\n",
      "0.4 (0.9969603759743734, 0.994888769889841, 0.959511547782681)\n"
     ]
    }
   ],
   "source": [
    "#learning_ratefloat, default=0.1\n",
    "from sklearn.ensemble import GradientBoostingClassifier\n",
    "for para in [0.0001,0.001,0.01,0.2,0.3,0.4]:\n",
    "    \n",
    "    clf = GradientBoostingClassifier(random_state=123,loss='exponential',\n",
    "                                    learning_rate=para)\n",
    "    out=test_test2_auc(clf,x_train, y_train,x_test1,y_test1,x_test2,y_test2)\n",
    "    print(para,out)\n",
    "\n",
    "#0.3 (0.9970447159481876, 0.9966115389410218, 0.9673931393517861)"
   ]
  },
  {
   "cell_type": "code",
   "execution_count": 18,
   "metadata": {},
   "outputs": [
    {
     "name": "stdout",
     "output_type": "stream",
     "text": [
      "10 (0.9941517566564368, 0.9974780730087492, 0.914823490822279)\n",
      "20 (0.9960134117095615, 0.9975111037445035, 0.9390873665056638)\n",
      "40 (0.9965201750571245, 0.9975553345573236, 0.9619740203368938)\n",
      "60 (0.9966796303201173, 0.9968272190489144, 0.9620918129110996)\n",
      "80 (0.9967767866625014, 0.996728866335736, 0.9680716797761306)\n",
      "100 (0.9970447159481876, 0.9966115389410218, 0.9673931393517861)\n",
      "120 (0.9970426229525141, 0.9965389920213972, 0.9699591795295062)\n",
      "140 (0.9971771948224972, 0.9963425245931367, 0.9682066626674346)\n",
      "160 (0.9970687466392563, 0.9965426894918173, 0.9658037029616552)\n",
      "180 (0.9970068353104392, 0.9961545230971486, 0.9649873170398292)\n",
      "200 (0.9970377909748477, 0.9963667748991343, 0.9664522814413395)\n",
      "300 (0.9970026234796387, 0.9961040590008614, 0.9625296301759444)\n"
     ]
    }
   ],
   "source": [
    "#n_estimatorsint, default=100\n",
    "from sklearn.ensemble import GradientBoostingClassifier\n",
    "for para in [10,20,40,60,80,100,120,140,160,180,200,300]:\n",
    "    \n",
    "    clf = GradientBoostingClassifier(random_state=123,loss='exponential',learning_rate=0.3,\n",
    "                                    n_estimators=para)\n",
    "    out=test_test2_auc(clf,x_train, y_train,x_test1,y_test1,x_test2,y_test2)\n",
    "    print(para,out)\n",
    "    \n",
    "#140 (0.9971771948224972, 0.9963425245931367, 0.9682066626674346)"
   ]
  },
  {
   "cell_type": "code",
   "execution_count": 19,
   "metadata": {},
   "outputs": [
    {
     "name": "stdout",
     "output_type": "stream",
     "text": [
      "0.2 (0.9964453440019267, 0.9969619656376083, 0.9615301989390916)\n",
      "0.5 (0.9969205315382149, 0.9969401491454735, 0.9577451142505762)\n",
      "0.6 (0.9967384667540558, 0.9973641285869713, 0.9690235917504328)\n",
      "0.7 (0.9970667053224879, 0.996635800580262, 0.9544406978393811)\n",
      "0.8 (0.996941228939877, 0.9964942568792784, 0.9638089068567257)\n",
      "0.9 (0.9971475052912738, 0.9970165607008478, 0.9703581093904287)\n"
     ]
    }
   ],
   "source": [
    "#subsamplefloat, default=1.0\n",
    "from sklearn.ensemble import GradientBoostingClassifier\n",
    "for para in [0.2,0.5,0.6,0.7,0.8,0.9]:\n",
    "    clf = GradientBoostingClassifier(random_state=123,\n",
    "                                     loss='exponential',learning_rate=0.3,n_estimators=140,\n",
    "                                    subsample=para)\n",
    "    out=test_test2_auc(clf,x_train, y_train,x_test1,y_test1,x_test2,y_test2)\n",
    "    print(para,out)\n",
    "\n",
    "#0.9 (0.9971475052912738, 0.9970165607008478, 0.9703581093904287)"
   ]
  },
  {
   "cell_type": "code",
   "execution_count": 21,
   "metadata": {},
   "outputs": [
    {
     "name": "stdout",
     "output_type": "stream",
     "text": [
      "squared_error (0.997210398519296, 0.9970167136996237, 0.9703512684956654)\n"
     ]
    }
   ],
   "source": [
    "#criterion{‘friedman_mse’, ‘squared_error’, ‘mse’, ‘mae’}, default=’friedman_mse’\n",
    "from sklearn.ensemble import GradientBoostingClassifier\n",
    "for para in ['squared_error']:\n",
    "    clf = GradientBoostingClassifier(random_state=123,\n",
    "                                     loss='exponential',learning_rate=0.3,n_estimators=140,subsample=0.9,\n",
    "                                    criterion=para)\n",
    "    out=test_test2_auc(clf,x_train, y_train,x_test1,y_test1,x_test2,y_test2)\n",
    "    print(para,out)\n",
    "\n",
    "#squared_error (0.997210398519296, 0.9970167136996237, 0.9703512684956654)"
   ]
  },
  {
   "cell_type": "code",
   "execution_count": 22,
   "metadata": {},
   "outputs": [
    {
     "name": "stdout",
     "output_type": "stream",
     "text": [
      "2 (0.997210398519296, 0.9970167136996237, 0.9703512684956654)\n",
      "4 (0.9972250753284648, 0.9969699754068635, 0.9667510494461048)\n",
      "6 (0.9971778408088162, 0.9969116998730677, 0.9619465246375559)\n",
      "8 (0.9970378426537532, 0.9971704434697856, 0.9661075649374138)\n",
      "10 (0.997228511975682, 0.99716566084138, 0.966105392292725)\n",
      "20 (0.9971312522754868, 0.997312601999184, 0.9615554045534874)\n"
     ]
    }
   ],
   "source": [
    "#min_samples_splitint or float, default=2\n",
    "from sklearn.ensemble import GradientBoostingClassifier\n",
    "for para in [2,4,6,8,10,20]:\n",
    "    clf = GradientBoostingClassifier(random_state=123,\n",
    "            loss='exponential',learning_rate=0.3,n_estimators=140,subsample=0.9,\n",
    "            criterion='squared_error',\n",
    "            min_samples_split=para)\n",
    "    out=test_test2_auc(clf,x_train, y_train,x_test1,y_test1,x_test2,y_test2)\n",
    "    print(para,out)\n",
    "\n",
    "#4 (0.9972250753284648, 0.9969699754068635, 0.9667510494461048)"
   ]
  },
  {
   "cell_type": "code",
   "execution_count": 24,
   "metadata": {},
   "outputs": [
    {
     "name": "stdout",
     "output_type": "stream",
     "text": [
      "2 (0.9965696059302577, 0.9973515345210572, 0.959058066924033)\n",
      "4 (0.9973640657448701, 0.9962207970669568, 0.9476015940400481)\n",
      "5 (0.9974305248173732, 0.9968597284555056, 0.9704582125264594)\n",
      "6 (0.9968847438961399, 0.9966405605421824, 0.964559261996052)\n",
      "8 (0.9957960243934769, 0.9967704225032866, 0.9670742450235867)\n",
      "10 (0.9945021913147917, 0.9964666689333151, 0.9577450408504179)\n",
      "20 (0.99107236571301, 0.9941997200689061, 0.9193924158023846)\n",
      "40 (0.99102942054252, 0.9921486213110295, 0.9372426296845743)\n"
     ]
    }
   ],
   "source": [
    "#max_depthint, default=3\n",
    "from sklearn.ensemble import GradientBoostingClassifier\n",
    "for para in [2,4,5,6,8,10,20,40]:\n",
    "    clf = GradientBoostingClassifier(random_state=123,\n",
    "            loss='exponential',learning_rate=0.3,n_estimators=140,subsample=0.9,\n",
    "            criterion='squared_error',min_samples_split=4,\n",
    "            max_depth=para)\n",
    "    out=test_test2_auc(clf,x_train, y_train,x_test1,y_test1,x_test2,y_test2)\n",
    "    print(para,out)\n",
    "\n",
    "#5 (0.9974305248173732, 0.9968597284555056, 0.9704582125264594)"
   ]
  },
  {
   "cell_type": "code",
   "execution_count": 32,
   "metadata": {},
   "outputs": [
    {
     "name": "stdout",
     "output_type": "stream",
     "text": [
      "0.0001 (0.997160295820391, 0.9967882071943425, 0.9643953154022422)\n",
      "0.001 (0.9974744002081626, 0.996243537218369, 0.936636902217366)\n",
      "0.01 (0.9971020278544134, 0.9965409130060292, 0.8750283911812704)\n",
      "0.1 (0.9957728980832552, 0.9980970097239222, 0.9637415548713748)\n",
      "0.2 (0.9808851873011493, 0.9719518988848088, 0.9215946847950572)\n",
      "0.3 (0.8312944454737159, 0.7507034458724331, 0.43432243374255786)\n",
      "0.4 (0.821036260245666, 0.7647545559635522, 0.43788165146363434)\n",
      "0.5 (0.5, 0.5, 0.5)\n"
     ]
    }
   ],
   "source": [
    "#min_samples_leafint or float, default=1\n",
    "from sklearn.ensemble import GradientBoostingClassifier\n",
    "for para in [0.0001,0.001,0.01,0.1,0.2,0.3,0.4 ,0.5]:\n",
    "    clf = GradientBoostingClassifier(random_state=123,\n",
    "            loss='exponential',learning_rate=0.3,n_estimators=140,subsample=0.9,\n",
    "            criterion='squared_error',min_samples_split=4,max_depth=5,\n",
    "            min_samples_leaf=para)\n",
    "    out=test_test2_auc(clf,x_train, y_train,x_test1,y_test1,x_test2,y_test2)\n",
    "    print(para,out)\n",
    "\n",
    "#"
   ]
  },
  {
   "cell_type": "code",
   "execution_count": 33,
   "metadata": {},
   "outputs": [
    {
     "name": "stdout",
     "output_type": "stream",
     "text": [
      "0.001 (0.9974719971390558, 0.996583497665352, 0.9576349993329394)\n",
      "0.01 (0.9971529057369011, 0.9962818889115553, 0.9037862209229677)\n",
      "0.1 (0.9960081146217452, 0.998186879504964, 0.9659663723927089)\n",
      "0.2 (0.9827961957090489, 0.9733970658234733, 0.9279874715912027)\n",
      "0.5 (0.7883375438721609, 0.5, 0.5)\n"
     ]
    }
   ],
   "source": [
    "#min_weight_fraction_leaffloat, default=0.0\n",
    "from sklearn.ensemble import GradientBoostingClassifier\n",
    "for para in [0.001,0.01,0.1,0.2,0.5]:\n",
    "    clf = GradientBoostingClassifier(random_state=123,\n",
    "            loss='exponential',learning_rate=0.3,n_estimators=140,subsample=0.9,\n",
    "            criterion='squared_error',min_samples_split=4,max_depth=5,                     \n",
    "            min_samples_leaf=1,\n",
    "            min_weight_fraction_leaf=para)\n",
    "    out=test_test2_auc(clf,x_train, y_train,x_test1,y_test1,x_test2,y_test2)\n",
    "    print(para,out)\n",
    "\n",
    "#"
   ]
  },
  {
   "cell_type": "code",
   "execution_count": 35,
   "metadata": {},
   "outputs": [
    {
     "name": "stdout",
     "output_type": "stream",
     "text": [
      "0.001 (0.9951801151974484, 0.9976812525499795, 0.9673827165292928)\n",
      "0.01 (0.9912460585144744, 0.9981374014007888, 0.9667113986805353)\n",
      "0.1 (0.979869722647066, 0.9970216804932228, 0.9696835325746379)\n",
      "0.2 (0.9767795308123848, 0.9967678413572693, 0.9666564072818593)\n"
     ]
    }
   ],
   "source": [
    "#min_impurity_decreasefloat, default=0.0\n",
    "from sklearn.ensemble import GradientBoostingClassifier\n",
    "for para in [0.001,0.01,0.1,0.2]:\n",
    "    clf = GradientBoostingClassifier(random_state=123,\n",
    "            loss='exponential',learning_rate=0.3,n_estimators=140,subsample=0.9,\n",
    "            criterion='squared_error',min_samples_split=4,max_depth=5,\n",
    "            min_samples_leaf=1,min_weight_fraction_leaf=0,\n",
    "            min_impurity_decrease=para                        )\n",
    "    out=test_test2_auc(clf,x_train, y_train,x_test1,y_test1,x_test2,y_test2)\n",
    "    print(para,out)\n",
    "\n",
    "#"
   ]
  },
  {
   "cell_type": "code",
   "execution_count": 37,
   "metadata": {},
   "outputs": [
    {
     "name": "stdout",
     "output_type": "stream",
     "text": [
      "auto (0.9974305248173732, 0.9968597284555056, 0.9704582125264594)\n",
      "sqrt (0.996991460836046, 0.9968993183054536, 0.9678473395319865)\n",
      "log2 (0.9968860358687781, 0.9955380598621878, 0.9105169860884973)\n",
      "2 (0.9967116454020889, 0.9966055068226121, 0.9624496240032845)\n",
      "4 (0.9968860358687781, 0.9955380598621878, 0.9105169860884973)\n",
      "6 (0.9971379705332049, 0.996777936443175, 0.9638624008921701)\n",
      "8 (0.9970547674953121, 0.9969169414978014, 0.9666556145601485)\n",
      "10 (0.9971737581752799, 0.9961976744186046, 0.9603994841789187)\n",
      "20 (0.9972005020088882, 0.9967106679813228, 0.9643400010428694)\n"
     ]
    }
   ],
   "source": [
    "#max_features{‘auto’, ‘sqrt’, ‘log2’}, int or float, default=None\n",
    "from sklearn.ensemble import GradientBoostingClassifier\n",
    "for para in ['auto','sqrt','log2',2,4,6,8,10,20]:\n",
    "    clf = GradientBoostingClassifier(random_state=123,\n",
    "            loss='exponential',learning_rate=0.3,n_estimators=140,subsample=0.9,\n",
    "            criterion='squared_error',min_samples_split=4,max_depth=5,\n",
    "            min_samples_leaf=1,min_weight_fraction_leaf=0,\n",
    "            min_impurity_decrease=0,\n",
    "            max_features=para                        )\n",
    "    out=test_test2_auc(clf,x_train, y_train,x_test1,y_test1,x_test2,y_test2)\n",
    "    print(para,out)\n",
    "\n",
    "#"
   ]
  },
  {
   "cell_type": "code",
   "execution_count": 39,
   "metadata": {},
   "outputs": [
    {
     "name": "stdout",
     "output_type": "stream",
     "text": [
      "2 (0.9956857416090898, 0.9980813613491092, 0.9735698654416552)\n",
      "4 (0.9964810282861906, 0.997347837050637, 0.9682730164106312)\n",
      "6 (0.9969099115231298, 0.9969857314474818, 0.9718048118325282)\n",
      "8 (0.9968177163556761, 0.9966304144566843, 0.9700064492315179)\n",
      "10 (0.9969961377769958, 0.9964135443583119, 0.9663778977208135)\n",
      "20 (0.9974298271521487, 0.9968199402738112, 0.9694384641257607)\n"
     ]
    }
   ],
   "source": [
    "#max_leaf_nodesint, default=None\n",
    "from sklearn.ensemble import GradientBoostingClassifier\n",
    "for para in [2,4,6,8,10,20]:\n",
    "    clf = GradientBoostingClassifier(random_state=123,\n",
    "            loss='exponential',learning_rate=0.3,n_estimators=140,subsample=0.9,\n",
    "            criterion='squared_error',min_samples_split=4,max_depth=5,\n",
    "            min_samples_leaf=1,min_weight_fraction_leaf=0,\n",
    "            min_impurity_decrease=0,\n",
    "            max_features=None,                        \n",
    "            max_leaf_nodes=para                        )\n",
    "    out=test_test2_auc(clf,x_train, y_train,x_test1,y_test1,x_test2,y_test2)\n",
    "    print(para,out)\n",
    "\n",
    "#"
   ]
  },
  {
   "cell_type": "code",
   "execution_count": 40,
   "metadata": {},
   "outputs": [
    {
     "name": "stdout",
     "output_type": "stream",
     "text": [
      "1e-06 (0.9974305248173732, 0.9968597284555056, 0.9704582125264594)\n",
      "1e-05 (0.9974305248173732, 0.9968597284555056, 0.9704582125264594)\n",
      "0.001 (0.9974305248173732, 0.9968597284555056, 0.9704582125264594)\n",
      "0.01 (0.9974305248173732, 0.9968597284555056, 0.9704582125264594)\n",
      "0.1 (0.9974305248173732, 0.9968597284555056, 0.9704582125264594)\n"
     ]
    }
   ],
   "source": [
    "##(0.9974305248173732, 0.9968597284555056, 0.9704582125264594)\n",
    "#tolfloat, default=1e-4\n",
    "from sklearn.ensemble import GradientBoostingClassifier\n",
    "for para in [1e-6,1e-5,1e-3,1e-2,1e-1]:\n",
    "    clf = GradientBoostingClassifier(random_state=123,\n",
    "            loss='exponential',learning_rate=0.3,n_estimators=140,subsample=0.9,\n",
    "            criterion='squared_error',min_samples_split=4,max_depth=5,\n",
    "            min_samples_leaf=1,min_weight_fraction_leaf=0,\n",
    "            min_impurity_decrease=0,\n",
    "            max_features=None,                        \n",
    "            max_leaf_nodes=None,\n",
    "            tol=para                        )\n",
    "    out=test_test2_auc(clf,x_train, y_train,x_test1,y_test1,x_test2,y_test2)\n",
    "    print(para,out)\n",
    "\n",
    "#"
   ]
  },
  {
   "cell_type": "code",
   "execution_count": 45,
   "metadata": {},
   "outputs": [
    {
     "data": {
      "image/png": "[encoded data removed]",
      "text/plain": [
       "<Figure size 576x684 with 2 Axes>"
      ]
     },
     "metadata": {
      "needs_background": "light"
     },
     "output_type": "display_data"
    }
   ],
   "source": [
    "clf=GradientBoostingClassifier(random_state=123,\n",
    "            loss='exponential',learning_rate=0.3,n_estimators=140,subsample=0.9,\n",
    "            criterion='squared_error',min_samples_split=4,max_depth=5,\n",
    "            min_samples_leaf=1,min_weight_fraction_leaf=0,\n",
    "            min_impurity_decrease=0,\n",
    "            max_features=None,                        \n",
    "            max_leaf_nodes=None)\n",
    "import shap\n",
    "clf.fit(x_train,y_train)\n",
    "explainer = shap.TreeExplainer(clf)\n",
    "shap_values = explainer.shap_values(x_train)\n",
    "#shap.summary_plot(shap_values, x_train)\n",
    "shap.summary_plot(shap_values, x_train)"
   ]
  },
  {
   "cell_type": "code",
   "execution_count": 48,
   "metadata": {},
   "outputs": [],
   "source": [
    "shap_df=pd.DataFrame()\n",
    "shap_df['feature']=x_train.columns.to_list()\n",
    "shap_df['importance']=np.mean(np.abs(shap_values),axis=0)\n",
    "shap_df=shap_df.sort_values(by=['importance'],ascending=False)"
   ]
  },
  {
   "cell_type": "code",
   "execution_count": 49,
   "metadata": {},
   "outputs": [
    {
     "data": {
      "text/html": [
       "<div>\n",
       "<style scoped>\n",
       "    .dataframe tbody tr th:only-of-type {\n",
       "        vertical-align: middle;\n",
       "    }\n",
       "\n",
       "    .dataframe tbody tr th {\n",
       "        vertical-align: top;\n",
       "    }\n",
       "\n",
       "    .dataframe thead th {\n",
       "        text-align: right;\n",
       "    }\n",
       "</style>\n",
       "<table border=\"1\" class=\"dataframe\">\n",
       "  <thead>\n",
       "    <tr style=\"text-align: right;\">\n",
       "      <th></th>\n",
       "      <th>feature</th>\n",
       "      <th>importance</th>\n",
       "    </tr>\n",
       "  </thead>\n",
       "  <tbody>\n",
       "    <tr>\n",
       "      <th>0</th>\n",
       "      <td>Func</td>\n",
       "      <td>1.135300</td>\n",
       "    </tr>\n",
       "    <tr>\n",
       "      <th>1</th>\n",
       "      <td>ExonicFunc</td>\n",
       "      <td>0.969897</td>\n",
       "    </tr>\n",
       "    <tr>\n",
       "      <th>2</th>\n",
       "      <td>gnomad_genome_controls_AF_popmax</td>\n",
       "      <td>0.817481</td>\n",
       "    </tr>\n",
       "    <tr>\n",
       "      <th>4</th>\n",
       "      <td>exonic</td>\n",
       "      <td>0.715965</td>\n",
       "    </tr>\n",
       "    <tr>\n",
       "      <th>7</th>\n",
       "      <td>intronic</td>\n",
       "      <td>0.221946</td>\n",
       "    </tr>\n",
       "    <tr>\n",
       "      <th>3</th>\n",
       "      <td>length</td>\n",
       "      <td>0.206636</td>\n",
       "    </tr>\n",
       "    <tr>\n",
       "      <th>13</th>\n",
       "      <td>nonframeshift_deletion</td>\n",
       "      <td>0.147661</td>\n",
       "    </tr>\n",
       "    <tr>\n",
       "      <th>20</th>\n",
       "      <td>exac_lof_z</td>\n",
       "      <td>0.121477</td>\n",
       "    </tr>\n",
       "    <tr>\n",
       "      <th>25</th>\n",
       "      <td>OE-ratio_ExAC_v2</td>\n",
       "      <td>0.101667</td>\n",
       "    </tr>\n",
       "    <tr>\n",
       "      <th>15</th>\n",
       "      <td>startloss</td>\n",
       "      <td>0.094628</td>\n",
       "    </tr>\n",
       "    <tr>\n",
       "      <th>9</th>\n",
       "      <td>splicing</td>\n",
       "      <td>0.090505</td>\n",
       "    </tr>\n",
       "    <tr>\n",
       "      <th>10</th>\n",
       "      <td>UTR</td>\n",
       "      <td>0.086393</td>\n",
       "    </tr>\n",
       "    <tr>\n",
       "      <th>21</th>\n",
       "      <td>exac_pLI</td>\n",
       "      <td>0.082368</td>\n",
       "    </tr>\n",
       "    <tr>\n",
       "      <th>27</th>\n",
       "      <td>alternative-RVIS_maf_0_0025</td>\n",
       "      <td>0.081293</td>\n",
       "    </tr>\n",
       "    <tr>\n",
       "      <th>22</th>\n",
       "      <td>exac_cnv_z</td>\n",
       "      <td>0.079822</td>\n",
       "    </tr>\n",
       "    <tr>\n",
       "      <th>19</th>\n",
       "      <td>exac_mis_z</td>\n",
       "      <td>0.077898</td>\n",
       "    </tr>\n",
       "    <tr>\n",
       "      <th>18</th>\n",
       "      <td>exac_syn_z</td>\n",
       "      <td>0.074726</td>\n",
       "    </tr>\n",
       "    <tr>\n",
       "      <th>26</th>\n",
       "      <td>p_OE-ratio_ExAC_v2</td>\n",
       "      <td>0.073444</td>\n",
       "    </tr>\n",
       "    <tr>\n",
       "      <th>28</th>\n",
       "      <td>alternative-p_RVIS_maf_0_0025</td>\n",
       "      <td>0.072277</td>\n",
       "    </tr>\n",
       "    <tr>\n",
       "      <th>24</th>\n",
       "      <td>p_RVIS_pop_maf_0_05</td>\n",
       "      <td>0.070115</td>\n",
       "    </tr>\n",
       "    <tr>\n",
       "      <th>16</th>\n",
       "      <td>stopgain</td>\n",
       "      <td>0.068258</td>\n",
       "    </tr>\n",
       "    <tr>\n",
       "      <th>23</th>\n",
       "      <td>RVIS_pop_maf_0_05</td>\n",
       "      <td>0.055980</td>\n",
       "    </tr>\n",
       "    <tr>\n",
       "      <th>11</th>\n",
       "      <td>frameshift_deletion</td>\n",
       "      <td>0.052002</td>\n",
       "    </tr>\n",
       "    <tr>\n",
       "      <th>12</th>\n",
       "      <td>frameshift_insertion</td>\n",
       "      <td>0.051675</td>\n",
       "    </tr>\n",
       "    <tr>\n",
       "      <th>14</th>\n",
       "      <td>nonframeshift_insertion</td>\n",
       "      <td>0.041244</td>\n",
       "    </tr>\n",
       "    <tr>\n",
       "      <th>17</th>\n",
       "      <td>stoploss</td>\n",
       "      <td>0.026002</td>\n",
       "    </tr>\n",
       "    <tr>\n",
       "      <th>5</th>\n",
       "      <td>stream</td>\n",
       "      <td>0.014632</td>\n",
       "    </tr>\n",
       "    <tr>\n",
       "      <th>6</th>\n",
       "      <td>intergenic</td>\n",
       "      <td>0.008689</td>\n",
       "    </tr>\n",
       "    <tr>\n",
       "      <th>8</th>\n",
       "      <td>ncRNA</td>\n",
       "      <td>0.001758</td>\n",
       "    </tr>\n",
       "  </tbody>\n",
       "</table>\n",
       "</div>"
      ],
      "text/plain": [
       "                             feature  importance\n",
       "0                               Func    1.135300\n",
       "1                         ExonicFunc    0.969897\n",
       "2   gnomad_genome_controls_AF_popmax    0.817481\n",
       "4                             exonic    0.715965\n",
       "7                           intronic    0.221946\n",
       "3                             length    0.206636\n",
       "13            nonframeshift_deletion    0.147661\n",
       "20                        exac_lof_z    0.121477\n",
       "25                  OE-ratio_ExAC_v2    0.101667\n",
       "15                         startloss    0.094628\n",
       "9                           splicing    0.090505\n",
       "10                               UTR    0.086393\n",
       "21                          exac_pLI    0.082368\n",
       "27       alternative-RVIS_maf_0_0025    0.081293\n",
       "22                        exac_cnv_z    0.079822\n",
       "19                        exac_mis_z    0.077898\n",
       "18                        exac_syn_z    0.074726\n",
       "26                p_OE-ratio_ExAC_v2    0.073444\n",
       "28     alternative-p_RVIS_maf_0_0025    0.072277\n",
       "24               p_RVIS_pop_maf_0_05    0.070115\n",
       "16                          stopgain    0.068258\n",
       "23                 RVIS_pop_maf_0_05    0.055980\n",
       "11               frameshift_deletion    0.052002\n",
       "12              frameshift_insertion    0.051675\n",
       "14           nonframeshift_insertion    0.041244\n",
       "17                          stoploss    0.026002\n",
       "5                             stream    0.014632\n",
       "6                         intergenic    0.008689\n",
       "8                              ncRNA    0.001758"
      ]
     },
     "execution_count": 49,
     "metadata": {},
     "output_type": "execute_result"
    }
   ],
   "source": [
    "shap_df"
   ]
  },
  {
   "cell_type": "code",
   "execution_count": 56,
   "metadata": {},
   "outputs": [
    {
     "name": "stdout",
     "output_type": "stream",
     "text": [
      "1 (0.8889429105714628, 0.9815206208350333, 0.8570402290413777)\n",
      "2 (0.9555102503817133, 0.9939405684754522, 0.9497996058235335)\n",
      "3 (0.9833139666634884, 0.9979576675053267, 0.9731738862671004)\n",
      "4 (0.9949616684638006, 0.9856990854073168, 0.25503397370371794)\n",
      "5 (0.9961110073226426, 0.9943797089623282, 0.8610134823759761)\n",
      "6 (0.99637015119439, 0.995406585747314, 0.8839787184167927)\n",
      "7 (0.9968186982548808, 0.9953561584840656, 0.8815686535756799)\n",
      "8 (0.9970260081843884, 0.9961777675778594, 0.9243305729393227)\n",
      "9 (0.9972727232793573, 0.9964693945781766, 0.9319729387121595)\n",
      "10 (0.9969970163183897, 0.9962450445396437, 0.9177622716844034)\n",
      "11 (0.9973049192374983, 0.9966036283376398, 0.9410376674345694)\n",
      "12 (0.9971449730249032, 0.9968902120449703, 0.9659798780218551)\n",
      "13 (0.9971095471351672, 0.9965345012239902, 0.9536081785627379)\n",
      "14 (0.9969911766020655, 0.9961434250192664, 0.9472128668011436)\n",
      "15 (0.9972917411165899, 0.9964318843782584, 0.9530529944446062)\n",
      "16 (0.9971053611438194, 0.9966200870393037, 0.9625450001691139)\n",
      "17 (0.997114637507361, 0.9966536532707738, 0.9576299640820729)\n",
      "18 (0.9968171220482623, 0.996400054966227, 0.9537277914608722)\n",
      "19 (0.9968764494318033, 0.9966392742191396, 0.9517149682770386)\n",
      "20 (0.99720117383466, 0.9964489522417155, 0.9525122848377116)\n",
      "21 (0.997003812094466, 0.9968313670157306, 0.9589893056556406)\n",
      "22 (0.997044380035302, 0.9965902154449431, 0.9524019937596946)\n",
      "23 (0.9971464975526162, 0.9962942279795094, 0.9521005539891636)\n",
      "24 (0.9973756159802546, 0.9966481651480122, 0.9536554923048447)\n",
      "25 (0.9972006828850577, 0.996788601024525, 0.9682201536165491)\n",
      "26 (0.9970752323418994, 0.9965537450700395, 0.9570958164493396)\n",
      "27 (0.9974095690211835, 0.9969862244435378, 0.9655665470498539)\n",
      "28 (0.9972244810210511, 0.9964338280293757, 0.966776548661134)\n",
      "29 (0.996977455852649, 0.9966179422231289, 0.9621503715574737)\n"
     ]
    }
   ],
   "source": [
    "###(0.9974305248173732, 0.9968597284555056, 0.9704582125264594)\n",
    "for num in range(29):\n",
    "    num_sel=shap_df.iloc[:num+1,0].to_list()\n",
    "    x_train_num=x_train[num_sel]\n",
    "    x_test1_num=x_test1[num_sel]\n",
    "    x_test2_num=x_test2[num_sel]\n",
    "    out=test_test2_auc(clf,x_train_num, y_train,x_test1_num,y_test1,x_test2_num,y_test2)\n",
    "    print(num+1,out)"
   ]
  },
  {
   "cell_type": "code",
   "execution_count": 57,
   "metadata": {},
   "outputs": [
    {
     "data": {
      "text/plain": [
       "(0.9974305248173732, 0.9968597284555056, 0.9704582125264594)"
      ]
     },
     "execution_count": 57,
     "metadata": {},
     "output_type": "execute_result"
    }
   ],
   "source": [
    "test_test2_auc(clf,x_train, y_train,x_test1,y_test1,x_test2,y_test2)"
   ]
  },
  {
   "cell_type": "code",
   "execution_count": 58,
   "metadata": {},
   "outputs": [
    {
     "data": {
      "text/plain": [
       "(0.9974305248173732, 0.9979711182718702, 0.9833347626865305)"
      ]
     },
     "execution_count": 58,
     "metadata": {},
     "output_type": "execute_result"
    }
   ],
   "source": [
    "test_test2_auc(clf,x_train, y_train,\n",
    "               x_test1[test1_star>=2],y_test1[test1_star>=2],\n",
    "               x_test2[test2_lab.astype('int')>=2],y_test2[test2_lab.astype('int')>=2])"
   ]
  },
  {
   "cell_type": "code",
   "execution_count": null,
   "metadata": {},
   "outputs": [],
   "source": []
  }
 ],
 "metadata": {
  "kernelspec": {
   "display_name": "py38",
   "language": "python",
   "name": "py38"
  },
  "language_info": {
   "codemirror_mode": {
    "name": "ipython",
    "version": 3
   },
   "file_extension": ".py",
   "mimetype": "text/x-python",
   "name": "python",
   "nbconvert_exporter": "python",
   "pygments_lexer": "ipython3",
   "version": "3.8.5"
  }
 },
 "nbformat": 4,
 "nbformat_minor": 4
}
